{
  "nbformat": 4,
  "nbformat_minor": 0,
  "metadata": {
    "colab": {
      "name": "Class_Imbalance.ipynb",
      "provenance": [],
      "collapsed_sections": [
        "X9i73JoP6v18",
        "Pg2CPfNb9Sob",
        "Oaga3JzOj42W",
        "TY2cllPUjZ5a"
      ],
      "toc_visible": true,
      "include_colab_link": true
    },
    "kernelspec": {
      "name": "python3",
      "display_name": "Python 3"
    }
  },
  "cells": [
    {
      "cell_type": "markdown",
      "metadata": {
        "id": "view-in-github",
        "colab_type": "text"
      },
      "source": [
        "<a href=\"https://colab.research.google.com/github/taasinsaquib/ALL-Augmentations/blob/main/Class_Imbalance.ipynb\" target=\"_parent\"><img src=\"https://colab.research.google.com/assets/colab-badge.svg\" alt=\"Open In Colab\"/></a>"
      ]
    },
    {
      "cell_type": "code",
      "metadata": {
        "id": "DrRWtP-d8ZeM"
      },
      "source": [
        "import tensorflow as tf\n",
        "import numpy as np\n",
        "import matplotlib.pyplot as plt\n",
        "import pandas as pd\n",
        "\n",
        "from tensorflow.keras.layers import Dense, Dropout, Activation, Flatten, GlobalAveragePooling2D\n",
        "from tensorflow.keras.layers import Conv2D, MaxPooling2D\n",
        "from tensorflow.keras.layers.experimental import preprocessing\n",
        "#from cnnArchitectures.Xception import get_xception_model\n",
        "from sklearn.model_selection import StratifiedKFold\n",
        "import os\n",
        "import datetime\n",
        "\n",
        "import pickle\n",
        "\n",
        "%matplotlib inline\n",
        "%reload_ext tensorboard"
      ],
      "execution_count": 8,
      "outputs": []
    },
    {
      "cell_type": "code",
      "metadata": {
        "id": "faV2iROQ8uq1"
      },
      "source": [
        "# Set up dataset parameters\n",
        "BATCH_SIZE = 16\n",
        "IMAGE_SIZE = (256, 256)\n",
        "SEED = 322\n",
        "PREFETCH_BUFFER_SIZE = 400\n",
        "SHUFFLE_BUFFER_SIZE = 1000\n",
        "CACHE_DIR = \"caches/ds_cache\"\n",
        "ds_params = dict(\n",
        "    labels=\"inferred\",\n",
        "    label_mode=\"categorical\",\n",
        "    class_names=[\"all\", \"hem\"],\n",
        "    color_mode=\"rgb\",\n",
        "    batch_size=BATCH_SIZE,\n",
        "    image_size=IMAGE_SIZE,\n",
        "    seed=SEED\n",
        ")"
      ],
      "execution_count": 9,
      "outputs": []
    },
    {
      "cell_type": "markdown",
      "metadata": {
        "id": "X9i73JoP6v18"
      },
      "source": [
        "# Connect to Drive"
      ]
    },
    {
      "cell_type": "code",
      "metadata": {
        "colab": {
          "base_uri": "https://localhost:8080/"
        },
        "id": "oy1kbN736gGM",
        "outputId": "58f0be27-d919-4cf4-877c-b8481f76c8d3"
      },
      "source": [
        "from google.colab import drive\n",
        "drive.mount('/content/drive')"
      ],
      "execution_count": 4,
      "outputs": [
        {
          "output_type": "stream",
          "text": [
            "Mounted at /content/drive\n"
          ],
          "name": "stdout"
        }
      ]
    },
    {
      "cell_type": "code",
      "metadata": {
        "colab": {
          "base_uri": "https://localhost:8080/"
        },
        "id": "sO7rj-bV7jH5",
        "outputId": "fb406406-376b-406e-aad7-1fc4c358a41c"
      },
      "source": [
        "%cd drive/My\\ Drive/CS\\ M226"
      ],
      "execution_count": 5,
      "outputs": [
        {
          "output_type": "stream",
          "text": [
            "/content/drive/My Drive/CS M226\n"
          ],
          "name": "stdout"
        }
      ]
    },
    {
      "cell_type": "markdown",
      "metadata": {
        "id": "2ZChkYdK6--q"
      },
      "source": [
        "# Data Splits"
      ]
    },
    {
      "cell_type": "code",
      "metadata": {
        "colab": {
          "base_uri": "https://localhost:8080/"
        },
        "id": "IineAFS469I_",
        "outputId": "08afc883-b28e-4720-c1bf-0138956906e3"
      },
      "source": [
        "# Training\n",
        "train_data = tf.keras.preprocessing.image_dataset_from_directory(\n",
        "    './C-NMC_Leukemia/training_data/fold_0',\n",
        "    labels=\"inferred\",\n",
        "    class_names=[\"all\", \"hem\"],\n",
        "    label_mode=\"int\",\n",
        "    image_size=IMAGE_SIZE,\n",
        "    batch_size=BATCH_SIZE, \n",
        ")"
      ],
      "execution_count": null,
      "outputs": [
        {
          "output_type": "stream",
          "text": [
            "Found 8531 files belonging to 2 classes.\n"
          ],
          "name": "stdout"
        }
      ]
    },
    {
      "cell_type": "code",
      "metadata": {
        "colab": {
          "base_uri": "https://localhost:8080/"
        },
        "id": "U9IN8AL27trV",
        "outputId": "fd2ba135-3f82-4d2f-9caa-c847647e87f7"
      },
      "source": [
        "# Validation\n",
        "val_data = tf.keras.preprocessing.image_dataset_from_directory(\n",
        "    './C-NMC_Leukemia/training_data/val',\n",
        "    labels=\"inferred\",\n",
        "    class_names=[\"all\", \"hem\"],\n",
        "    label_mode=\"int\",\n",
        "    image_size=IMAGE_SIZE,\n",
        "    batch_size=BATCH_SIZE, \n",
        ")"
      ],
      "execution_count": null,
      "outputs": [
        {
          "output_type": "stream",
          "text": [
            "Found 2130 files belonging to 2 classes.\n"
          ],
          "name": "stdout"
        }
      ]
    },
    {
      "cell_type": "code",
      "metadata": {
        "id": "zPF6mOC07wTj"
      },
      "source": [
        "# Test\n",
        "test_df = pd.read_csv('./C-NMC_Leukemia/validation_data/C-NMC_test_prelim_phase_data_labels.csv')"
      ],
      "execution_count": 10,
      "outputs": []
    },
    {
      "cell_type": "code",
      "metadata": {
        "colab": {
          "base_uri": "https://localhost:8080/"
        },
        "id": "Yp3GPfFt8OSH",
        "outputId": "86d3bd9d-6e8e-402d-c405-7b9cf3a0132f"
      },
      "source": [
        "test_labels = test_df.labels.values\n",
        "print(test_labels)"
      ],
      "execution_count": 11,
      "outputs": [
        {
          "output_type": "stream",
          "text": [
            "[1 1 1 ... 0 1 1]\n"
          ],
          "name": "stdout"
        }
      ]
    },
    {
      "cell_type": "code",
      "metadata": {
        "colab": {
          "base_uri": "https://localhost:8080/"
        },
        "id": "dKiOfMHK8SwS",
        "outputId": "591127b7-3104-4e21-b72c-972d03d08070"
      },
      "source": [
        "test_data = tf.keras.preprocessing.image_dataset_from_directory(\n",
        "    './C-NMC_Leukemia/validation_data/',\n",
        "    labels=test_labels.tolist(),\n",
        "    label_mode=\"int\",\n",
        "    image_size=IMAGE_SIZE,\n",
        "    batch_size=BATCH_SIZE, \n",
        ")"
      ],
      "execution_count": 12,
      "outputs": [
        {
          "output_type": "stream",
          "text": [
            "Found 1867 files belonging to 1 classes.\n"
          ],
          "name": "stdout"
        }
      ]
    },
    {
      "cell_type": "markdown",
      "metadata": {
        "id": "HwVjiudp82Ns"
      },
      "source": [
        "# Model"
      ]
    },
    {
      "cell_type": "code",
      "metadata": {
        "id": "BhFiPupa84Do"
      },
      "source": [
        "def get_cnn_model_1(input_shape):\n",
        "\n",
        "    kernel_initializer = 'lecun_uniform'\n",
        "    bias_initializer = 'lecun_uniform'\n",
        "    kernel_regularizer = None\n",
        "    activation = \"selu\"\n",
        "\n",
        "    model = tf.keras.Sequential()\n",
        "    model.add(Conv2D(32, (3, 3), input_shape=input_shape, \n",
        "                     data_format=\"channels_last\", kernel_initializer=kernel_initializer, \n",
        "                     bias_initializer=bias_initializer, kernel_regularizer=kernel_regularizer\n",
        "                    ))\n",
        "    model.add(Activation(activation))\n",
        "    model.add(MaxPooling2D(pool_size=(2, 2)))\n",
        "\n",
        "    model.add(Conv2D(64, (3, 3), data_format=\"channels_last\", kernel_initializer=kernel_initializer, \n",
        "                     bias_initializer=bias_initializer, kernel_regularizer=kernel_regularizer\n",
        "                    ))\n",
        "    model.add(Activation(activation))\n",
        "    model.add(MaxPooling2D(pool_size=(3, 3)))\n",
        "\n",
        "    model.add(Conv2D(128, (3, 3), data_format=\"channels_last\", kernel_initializer=kernel_initializer, \n",
        "                     bias_initializer=bias_initializer, kernel_regularizer=kernel_regularizer\n",
        "                    ))\n",
        "    model.add(Activation(activation))\n",
        "    model.add(MaxPooling2D(pool_size=(3, 3)))\n",
        "\n",
        "    model.add(Conv2D(256, (3, 3), data_format=\"channels_last\", kernel_initializer=kernel_initializer, \n",
        "                     bias_initializer=bias_initializer, kernel_regularizer=kernel_regularizer\n",
        "                    ))\n",
        "    model.add(Activation(activation))\n",
        "    model.add(Dropout(0.6))\n",
        "\n",
        "    # adding fully connected layers\n",
        "    model.add(Flatten())\n",
        "    model.add(Dense(512, kernel_initializer=kernel_initializer, bias_initializer=bias_initializer))\n",
        "    model.add(Activation(activation))\n",
        "    model.add(Dropout(0.8))\n",
        "    model.add(Dense(256, kernel_initializer=kernel_initializer, bias_initializer=bias_initializer))\n",
        "    model.add(Activation(activation))\n",
        "    model.add(Dropout(0.8))\n",
        "    model.add(Dense(128, kernel_initializer=kernel_initializer, bias_initializer=bias_initializer))\n",
        "    model.add(Activation(activation))\n",
        "    model.add(Dropout(0.7))\n",
        "    model.add(Dense(64, kernel_initializer=kernel_initializer, bias_initializer=bias_initializer))\n",
        "\n",
        "    model.add(Dense(1))\n",
        "    model.add(Activation('sigmoid'))\n",
        "\n",
        "    return model"
      ],
      "execution_count": null,
      "outputs": []
    },
    {
      "cell_type": "code",
      "metadata": {
        "colab": {
          "base_uri": "https://localhost:8080/"
        },
        "id": "eJhg9IeK89ne",
        "outputId": "667dba1f-04fa-48e8-eedf-0982cc398328"
      },
      "source": [
        "model = get_cnn_model_1(IMAGE_SIZE + (3,))\n",
        "model.summary()"
      ],
      "execution_count": null,
      "outputs": [
        {
          "output_type": "stream",
          "text": [
            "Model: \"sequential\"\n",
            "_________________________________________________________________\n",
            "Layer (type)                 Output Shape              Param #   \n",
            "=================================================================\n",
            "conv2d (Conv2D)              (None, 254, 254, 32)      896       \n",
            "_________________________________________________________________\n",
            "activation (Activation)      (None, 254, 254, 32)      0         \n",
            "_________________________________________________________________\n",
            "max_pooling2d (MaxPooling2D) (None, 127, 127, 32)      0         \n",
            "_________________________________________________________________\n",
            "conv2d_1 (Conv2D)            (None, 125, 125, 64)      18496     \n",
            "_________________________________________________________________\n",
            "activation_1 (Activation)    (None, 125, 125, 64)      0         \n",
            "_________________________________________________________________\n",
            "max_pooling2d_1 (MaxPooling2 (None, 41, 41, 64)        0         \n",
            "_________________________________________________________________\n",
            "conv2d_2 (Conv2D)            (None, 39, 39, 128)       73856     \n",
            "_________________________________________________________________\n",
            "activation_2 (Activation)    (None, 39, 39, 128)       0         \n",
            "_________________________________________________________________\n",
            "max_pooling2d_2 (MaxPooling2 (None, 13, 13, 128)       0         \n",
            "_________________________________________________________________\n",
            "conv2d_3 (Conv2D)            (None, 11, 11, 256)       295168    \n",
            "_________________________________________________________________\n",
            "activation_3 (Activation)    (None, 11, 11, 256)       0         \n",
            "_________________________________________________________________\n",
            "dropout (Dropout)            (None, 11, 11, 256)       0         \n",
            "_________________________________________________________________\n",
            "flatten (Flatten)            (None, 30976)             0         \n",
            "_________________________________________________________________\n",
            "dense (Dense)                (None, 512)               15860224  \n",
            "_________________________________________________________________\n",
            "activation_4 (Activation)    (None, 512)               0         \n",
            "_________________________________________________________________\n",
            "dropout_1 (Dropout)          (None, 512)               0         \n",
            "_________________________________________________________________\n",
            "dense_1 (Dense)              (None, 256)               131328    \n",
            "_________________________________________________________________\n",
            "activation_5 (Activation)    (None, 256)               0         \n",
            "_________________________________________________________________\n",
            "dropout_2 (Dropout)          (None, 256)               0         \n",
            "_________________________________________________________________\n",
            "dense_2 (Dense)              (None, 128)               32896     \n",
            "_________________________________________________________________\n",
            "activation_6 (Activation)    (None, 128)               0         \n",
            "_________________________________________________________________\n",
            "dropout_3 (Dropout)          (None, 128)               0         \n",
            "_________________________________________________________________\n",
            "dense_3 (Dense)              (None, 64)                8256      \n",
            "_________________________________________________________________\n",
            "dense_4 (Dense)              (None, 1)                 65        \n",
            "_________________________________________________________________\n",
            "activation_7 (Activation)    (None, 1)                 0         \n",
            "=================================================================\n",
            "Total params: 16,421,185\n",
            "Trainable params: 16,421,185\n",
            "Non-trainable params: 0\n",
            "_________________________________________________________________\n"
          ],
          "name": "stdout"
        }
      ]
    },
    {
      "cell_type": "code",
      "metadata": {
        "id": "g8XAM2NX8_O_"
      },
      "source": [
        "model.load_weights(\"w.h5\")"
      ],
      "execution_count": null,
      "outputs": []
    },
    {
      "cell_type": "code",
      "metadata": {
        "id": "ktdOxAMq9BJr"
      },
      "source": [
        "adam_opt = tf.keras.optimizers.Adam(learning_rate=0.0001, amsgrad=True)\n",
        "metrics = [\"accuracy\", tf.keras.metrics.Precision(name=\"precision\")]"
      ],
      "execution_count": null,
      "outputs": []
    },
    {
      "cell_type": "code",
      "metadata": {
        "id": "bv19wJhP9CYl"
      },
      "source": [
        "# compile our new model\n",
        "model.compile(\n",
        "    optimizer=adam_opt,\n",
        "    loss=tf.keras.losses.BinaryCrossentropy(),\n",
        "    metrics=metrics\n",
        ")"
      ],
      "execution_count": null,
      "outputs": []
    },
    {
      "cell_type": "code",
      "metadata": {
        "colab": {
          "base_uri": "https://localhost:8080/"
        },
        "id": "bO-WM6MP9DbQ",
        "outputId": "0a15f9fc-8ade-4753-cd38-394c027111b0"
      },
      "source": [
        "model_default = model\n",
        "print(model_default.summary())"
      ],
      "execution_count": null,
      "outputs": [
        {
          "output_type": "stream",
          "text": [
            "Model: \"sequential\"\n",
            "_________________________________________________________________\n",
            "Layer (type)                 Output Shape              Param #   \n",
            "=================================================================\n",
            "conv2d (Conv2D)              (None, 254, 254, 32)      896       \n",
            "_________________________________________________________________\n",
            "activation (Activation)      (None, 254, 254, 32)      0         \n",
            "_________________________________________________________________\n",
            "max_pooling2d (MaxPooling2D) (None, 127, 127, 32)      0         \n",
            "_________________________________________________________________\n",
            "conv2d_1 (Conv2D)            (None, 125, 125, 64)      18496     \n",
            "_________________________________________________________________\n",
            "activation_1 (Activation)    (None, 125, 125, 64)      0         \n",
            "_________________________________________________________________\n",
            "max_pooling2d_1 (MaxPooling2 (None, 41, 41, 64)        0         \n",
            "_________________________________________________________________\n",
            "conv2d_2 (Conv2D)            (None, 39, 39, 128)       73856     \n",
            "_________________________________________________________________\n",
            "activation_2 (Activation)    (None, 39, 39, 128)       0         \n",
            "_________________________________________________________________\n",
            "max_pooling2d_2 (MaxPooling2 (None, 13, 13, 128)       0         \n",
            "_________________________________________________________________\n",
            "conv2d_3 (Conv2D)            (None, 11, 11, 256)       295168    \n",
            "_________________________________________________________________\n",
            "activation_3 (Activation)    (None, 11, 11, 256)       0         \n",
            "_________________________________________________________________\n",
            "dropout (Dropout)            (None, 11, 11, 256)       0         \n",
            "_________________________________________________________________\n",
            "flatten (Flatten)            (None, 30976)             0         \n",
            "_________________________________________________________________\n",
            "dense (Dense)                (None, 512)               15860224  \n",
            "_________________________________________________________________\n",
            "activation_4 (Activation)    (None, 512)               0         \n",
            "_________________________________________________________________\n",
            "dropout_1 (Dropout)          (None, 512)               0         \n",
            "_________________________________________________________________\n",
            "dense_1 (Dense)              (None, 256)               131328    \n",
            "_________________________________________________________________\n",
            "activation_5 (Activation)    (None, 256)               0         \n",
            "_________________________________________________________________\n",
            "dropout_2 (Dropout)          (None, 256)               0         \n",
            "_________________________________________________________________\n",
            "dense_2 (Dense)              (None, 128)               32896     \n",
            "_________________________________________________________________\n",
            "activation_6 (Activation)    (None, 128)               0         \n",
            "_________________________________________________________________\n",
            "dropout_3 (Dropout)          (None, 128)               0         \n",
            "_________________________________________________________________\n",
            "dense_3 (Dense)              (None, 64)                8256      \n",
            "_________________________________________________________________\n",
            "dense_4 (Dense)              (None, 1)                 65        \n",
            "_________________________________________________________________\n",
            "activation_7 (Activation)    (None, 1)                 0         \n",
            "=================================================================\n",
            "Total params: 16,421,185\n",
            "Trainable params: 16,421,185\n",
            "Non-trainable params: 0\n",
            "_________________________________________________________________\n",
            "None\n"
          ],
          "name": "stdout"
        }
      ]
    },
    {
      "cell_type": "markdown",
      "metadata": {
        "id": "Pg2CPfNb9Sob"
      },
      "source": [
        "# Learning (transfer/retrain)"
      ]
    },
    {
      "cell_type": "code",
      "metadata": {
        "id": "-8nwUbnu91Iq"
      },
      "source": [
        "model_checkpoint_callback1 = tf.keras.callbacks.ModelCheckpoint(\n",
        "    filepath=\"./prec_checkpoints/\",\n",
        "    save_weights_only=True,\n",
        "    monitor='val_precision',\n",
        "    mode='max',\n",
        "    save_best_only=True)\n",
        "\n",
        "model_checkpoint_callback2 = tf.keras.callbacks.ModelCheckpoint(\n",
        "    filepath=\"./\",\n",
        "    save_weights_only=True,\n",
        "    monitor='val_accuracy',\n",
        "    mode='max',\n",
        "    save_best_only=True)"
      ],
      "execution_count": null,
      "outputs": []
    },
    {
      "cell_type": "code",
      "metadata": {
        "id": "8IsrEZZo9R60"
      },
      "source": [
        "def retrain_imbalance(model, epochs, train_data, val_data, class_weights):\n",
        "  for l in model.layers:\n",
        "    l.set_trainable = True\n",
        "  \n",
        "  return model.fit(train_data, epochs=epochs, callbacks=[model_checkpoint_callback1], validation_data=val_data, class_weight=class_weights)"
      ],
      "execution_count": null,
      "outputs": []
    },
    {
      "cell_type": "markdown",
      "metadata": {
        "id": "q5dkiMbW9gUM"
      },
      "source": [
        "# Class Imbalances"
      ]
    },
    {
      "cell_type": "code",
      "metadata": {
        "id": "he_Y1Cz_9m3f"
      },
      "source": [
        "from sklearn.utils import class_weight"
      ],
      "execution_count": null,
      "outputs": []
    },
    {
      "cell_type": "code",
      "metadata": {
        "colab": {
          "base_uri": "https://localhost:8080/"
        },
        "id": "2F3SXzVX9otO",
        "outputId": "bd30eece-fde8-47ea-dc58-176a86d8d1f5"
      },
      "source": [
        "# ALL 5822\n",
        "# HEM 2709\n",
        "\n",
        "ones = np.ones(5822)\n",
        "zeros = np.zeros(2709)\n",
        "\n",
        "fake_labels_count = np.array([])\n",
        "fake_labels_count = np.append(fake_labels_count, ones, axis=0)\n",
        "fake_labels_count = np.append(fake_labels_count, zeros, axis=0)\n",
        "print(len(fake_labels_count))"
      ],
      "execution_count": null,
      "outputs": [
        {
          "output_type": "stream",
          "text": [
            "8531\n"
          ],
          "name": "stdout"
        }
      ]
    },
    {
      "cell_type": "code",
      "metadata": {
        "colab": {
          "base_uri": "https://localhost:8080/"
        },
        "id": "k4y6QHG39qwg",
        "outputId": "59efcafe-21d3-45eb-8f0d-9b4758be8a99"
      },
      "source": [
        "class_weights = class_weight.compute_class_weight('balanced',\n",
        "                                                 np.unique(fake_labels_count),\n",
        "                                                 fake_labels_count)\n",
        "weights = {\n",
        "    0: class_weights[0],\n",
        "    1: class_weights[1],\n",
        "}\n",
        "print(weights)"
      ],
      "execution_count": null,
      "outputs": [
        {
          "output_type": "stream",
          "text": [
            "{0: 1.5745662606127722, 1: 0.7326520096186877}\n"
          ],
          "name": "stdout"
        }
      ]
    },
    {
      "cell_type": "markdown",
      "metadata": {
        "id": "Oaga3JzOj42W"
      },
      "source": [
        "# Augmented Data"
      ]
    },
    {
      "cell_type": "markdown",
      "metadata": {
        "id": "q-qBjtC8j7-J"
      },
      "source": [
        "## Flip & Rotate"
      ]
    },
    {
      "cell_type": "code",
      "metadata": {
        "id": "43GnwXesj7Ox"
      },
      "source": [
        "datagen_flip = tf.keras.preprocessing.image.ImageDataGenerator(\n",
        "    rescale=1./255, \n",
        "    validation_split=0.2,\n",
        "    horizontal_flip=True,\n",
        "    vertical_flip=True,\n",
        "    zoom_range = 0.2,\n",
        "    rotation_range = 180\n",
        ")"
      ],
      "execution_count": null,
      "outputs": []
    },
    {
      "cell_type": "code",
      "metadata": {
        "colab": {
          "base_uri": "https://localhost:8080/"
        },
        "id": "-XzKFibPkXFq",
        "outputId": "0d921e50-dc77-42a8-c79d-b6d3bc4da2f6"
      },
      "source": [
        "train_data_flipped = datagen_flip.flow_from_directory(\n",
        "    './C-NMC_Leukemia/training_data/fold_0',\n",
        "    class_mode='binary',\n",
        "    target_size=IMAGE_SIZE,\n",
        "    batch_size=BATCH_SIZE\n",
        ")"
      ],
      "execution_count": null,
      "outputs": [
        {
          "output_type": "stream",
          "text": [
            "Found 8531 images belonging to 2 classes.\n"
          ],
          "name": "stdout"
        }
      ]
    },
    {
      "cell_type": "code",
      "metadata": {
        "id": "R1RKQ_Ozkdt4"
      },
      "source": [
        "## Test Generators, see images\n",
        "# first_item = train_data_flipped.__getitem__(0)\n",
        "# print(first_item.count)"
      ],
      "execution_count": null,
      "outputs": []
    },
    {
      "cell_type": "markdown",
      "metadata": {
        "id": "JjAUwJTbk7iW"
      },
      "source": [
        "## Blur (Flip and Rotate)"
      ]
    },
    {
      "cell_type": "code",
      "metadata": {
        "id": "Hw8AA-iotaDD"
      },
      "source": [
        "import cv2"
      ],
      "execution_count": null,
      "outputs": []
    },
    {
      "cell_type": "code",
      "metadata": {
        "id": "W7CqyHRJlLMl"
      },
      "source": [
        "# randomly apply blur with 30% ish chance\n",
        "def preprocessing_blur(img):\n",
        "  number_list = np.random.choice(3, 1, p = [0.33, 0.37, 0.30])\n",
        "\n",
        "  if number_list[0] == 0:\n",
        "    newImg = cv2.GaussianBlur(img, (21, 21),0)\n",
        "    return newImg\n",
        "\n",
        "  return img"
      ],
      "execution_count": null,
      "outputs": []
    },
    {
      "cell_type": "code",
      "metadata": {
        "id": "hFje038XlRDL"
      },
      "source": [
        "datagen_blur = tf.keras.preprocessing.image.ImageDataGenerator(\n",
        "    rescale=1./255, \n",
        "    horizontal_flip=True,\n",
        "    vertical_flip=True,\n",
        "    zoom_range = 0.2,\n",
        "    rotation_range = 180,\n",
        "    preprocessing_function=preprocessing_blur\n",
        "    # featurewise_center=True,\n",
        "    # featurewise_std_normalization=True\n",
        ")"
      ],
      "execution_count": null,
      "outputs": []
    },
    {
      "cell_type": "code",
      "metadata": {
        "colab": {
          "base_uri": "https://localhost:8080/"
        },
        "id": "4FdzKcnClYrp",
        "outputId": "69fcfcfc-afec-4408-8c33-1483e258a241"
      },
      "source": [
        "train_data_blur = datagen_blur.flow_from_directory (\n",
        "    './C-NMC_Leukemia/training_data/fold_0',\n",
        "    class_mode='binary',\n",
        "    target_size=IMAGE_SIZE,\n",
        "    batch_size=BATCH_SIZE,\n",
        "    color_mode='rgb'\n",
        ")"
      ],
      "execution_count": null,
      "outputs": [
        {
          "output_type": "stream",
          "text": [
            "Found 8531 images belonging to 2 classes.\n"
          ],
          "name": "stdout"
        }
      ]
    },
    {
      "cell_type": "markdown",
      "metadata": {
        "id": "T9KnvNKPlBR4"
      },
      "source": [
        "## Noise (Flip and Rotate)"
      ]
    },
    {
      "cell_type": "code",
      "metadata": {
        "id": "MWqGnVtZlgew"
      },
      "source": [
        "from skimage.util import random_noise"
      ],
      "execution_count": null,
      "outputs": []
    },
    {
      "cell_type": "code",
      "metadata": {
        "id": "izo34Suslh1_"
      },
      "source": [
        "# again, randomly apply augmentation\n",
        "def preprocessing_noise(img):\n",
        "  number_list = np.random.choice(3, 1, p = [0.33, 0.37, 0.30])\n",
        "\n",
        "  if number_list[0] == 0:\n",
        "    newImg = random_noise(img, mode='gaussian', mean=0, var=0.1, clip=False)\n",
        "    return newImg\n",
        "\n",
        "  return img"
      ],
      "execution_count": null,
      "outputs": []
    },
    {
      "cell_type": "code",
      "metadata": {
        "id": "ktvHJ63wlnku"
      },
      "source": [
        "datagen_noise = tf.keras.preprocessing.image.ImageDataGenerator(\n",
        "    rescale=1./255, \n",
        "    horizontal_flip=True,\n",
        "    vertical_flip=True,\n",
        "    zoom_range = 0.2,\n",
        "    rotation_range = 180,\n",
        "    preprocessing_function=preprocessing_noise\n",
        ")"
      ],
      "execution_count": null,
      "outputs": []
    },
    {
      "cell_type": "code",
      "metadata": {
        "colab": {
          "base_uri": "https://localhost:8080/"
        },
        "id": "Xazb6GCtlthV",
        "outputId": "44bd087f-94b5-40c5-eed8-1879c31e5c19"
      },
      "source": [
        "train_data_noise = datagen_noise.flow_from_directory (\n",
        "    './C-NMC_Leukemia/training_data/fold_0',\n",
        "    class_mode='binary',\n",
        "    target_size=IMAGE_SIZE,\n",
        "    batch_size=BATCH_SIZE, \n",
        ")"
      ],
      "execution_count": null,
      "outputs": [
        {
          "output_type": "stream",
          "text": [
            "Found 8531 images belonging to 2 classes.\n"
          ],
          "name": "stdout"
        }
      ]
    },
    {
      "cell_type": "markdown",
      "metadata": {
        "id": "Ts9YPrxV9vBd"
      },
      "source": [
        "# Full Training to Figure Out Num Epochs"
      ]
    },
    {
      "cell_type": "markdown",
      "metadata": {
        "id": "Ab1PKaVAjTOO"
      },
      "source": [
        "## 5 epochs\n",
        "* good results!"
      ]
    },
    {
      "cell_type": "code",
      "metadata": {
        "colab": {
          "base_uri": "https://localhost:8080/"
        },
        "id": "MtOlErpF9bur",
        "outputId": "9e36d491-229c-444e-f29b-2fa272929c7c"
      },
      "source": [
        "# 5 epochs with class balancing\n",
        "model_retrain_5 = model\n",
        "model_retrain_5 = retrain_imbalance(model_retrain_5, 5, train_data, val_data, weights)\n",
        "# model_retrain_5.model.save_weights('./retrain_weight.hdf5')\n",
        "model_retrain_5.model.save('./retrain_imbalance/5.hdf5')"
      ],
      "execution_count": null,
      "outputs": [
        {
          "output_type": "stream",
          "text": [
            "Epoch 1/5\n",
            "534/534 [==============================] - 3345s 6s/step - loss: 0.4879 - accuracy: 0.8013 - precision: 0.8301 - val_loss: 0.4298 - val_accuracy: 0.8117 - val_precision: 0.9964\n",
            "Epoch 2/5\n",
            "534/534 [==============================] - 178s 334ms/step - loss: 0.4105 - accuracy: 0.8284 - precision: 0.8947 - val_loss: 0.3035 - val_accuracy: 0.8765 - val_precision: 0.9427\n",
            "Epoch 3/5\n",
            "534/534 [==============================] - 178s 333ms/step - loss: 0.3666 - accuracy: 0.8481 - precision: 0.9183 - val_loss: 0.3274 - val_accuracy: 0.8592 - val_precision: 0.9750\n",
            "Epoch 4/5\n",
            "534/534 [==============================] - 178s 333ms/step - loss: 0.3595 - accuracy: 0.8530 - precision: 0.9252 - val_loss: 0.2976 - val_accuracy: 0.8789 - val_precision: 0.9607\n",
            "Epoch 5/5\n",
            "534/534 [==============================] - 178s 333ms/step - loss: 0.3088 - accuracy: 0.8726 - precision: 0.9417 - val_loss: 0.4329 - val_accuracy: 0.8474 - val_precision: 0.9944\n"
          ],
          "name": "stdout"
        }
      ]
    },
    {
      "cell_type": "code",
      "metadata": {
        "colab": {
          "base_uri": "https://localhost:8080/"
        },
        "id": "mXf3BQap9jgS",
        "outputId": "b3d08238-082f-4ad4-dc32-e3d4f28862a1"
      },
      "source": [
        "model_retrain_5.model.evaluate(test_data, batch_size=128)"
      ],
      "execution_count": null,
      "outputs": [
        {
          "output_type": "stream",
          "text": [
            "117/117 [==============================] - 421s 4s/step - loss: 2.8559 - accuracy: 0.3605 - precision: 0.7358\n"
          ],
          "name": "stdout"
        },
        {
          "output_type": "execute_result",
          "data": {
            "text/plain": [
              "[2.8559107780456543, 0.36047133803367615, 0.7358490824699402]"
            ]
          },
          "metadata": {
            "tags": []
          },
          "execution_count": 33
        }
      ]
    },
    {
      "cell_type": "code",
      "metadata": {
        "id": "d-3jGFwNcpic"
      },
      "source": [
        "# Save history\n",
        "with open('./retrain_imbalance/5_history', 'wb') as file_pi:\n",
        "  pickle.dump(model_retrain_5.history, file_pi) "
      ],
      "execution_count": null,
      "outputs": []
    },
    {
      "cell_type": "markdown",
      "metadata": {
        "id": "4KsBenQajFKy"
      },
      "source": [
        "## 10 epochs\n",
        "* accuracy went down\n",
        "* same precision\n",
        "* loss is higher"
      ]
    },
    {
      "cell_type": "code",
      "metadata": {
        "colab": {
          "base_uri": "https://localhost:8080/"
        },
        "id": "lxEjfOyxPDoU",
        "outputId": "6ea76f4f-2361-4221-d438-8073ee8c2178"
      },
      "source": [
        "# try 5 more epochs\n",
        "model_retrain_weight_10 = retrain_imbalance(model_retrain_weight.model, 5, train_data, val_data, weights)\n",
        "model_retrain_weight_10.model.save_weights('./retrain_weight_10.hdf5')"
      ],
      "execution_count": null,
      "outputs": [
        {
          "output_type": "stream",
          "text": [
            "Epoch 1/5\n",
            "534/534 [==============================] - 3137s 6s/step - loss: 0.2972 - accuracy: 0.8741 - precision: 0.9323 - val_loss: 0.3594 - val_accuracy: 0.8563 - val_precision: 0.9795\n",
            "Epoch 2/5\n",
            "534/534 [==============================] - 180s 337ms/step - loss: 0.2854 - accuracy: 0.8810 - precision: 0.9384 - val_loss: 0.2665 - val_accuracy: 0.8906 - val_precision: 0.9848\n",
            "Epoch 3/5\n",
            "534/534 [==============================] - 187s 350ms/step - loss: 0.2856 - accuracy: 0.8827 - precision: 0.9429 - val_loss: 0.4093 - val_accuracy: 0.8432 - val_precision: 1.0000\n",
            "Epoch 4/5\n",
            "534/534 [==============================] - 186s 347ms/step - loss: 0.2551 - accuracy: 0.8922 - precision: 0.9470 - val_loss: 0.2993 - val_accuracy: 0.8803 - val_precision: 0.9930\n",
            "Epoch 5/5\n",
            "534/534 [==============================] - 178s 333ms/step - loss: 0.2467 - accuracy: 0.9024 - precision: 0.9536 - val_loss: 0.3451 - val_accuracy: 0.8751 - val_precision: 0.9952\n"
          ],
          "name": "stdout"
        }
      ]
    },
    {
      "cell_type": "code",
      "metadata": {
        "colab": {
          "base_uri": "https://localhost:8080/"
        },
        "id": "kH8wRpU2SEPU",
        "outputId": "6d155076-fc85-42fd-d8f5-a60de271236e"
      },
      "source": [
        "model_retrain_weight_10.model.evaluate(test_data, batch_size=128)"
      ],
      "execution_count": null,
      "outputs": [
        {
          "output_type": "stream",
          "text": [
            "117/117 [==============================] - 400s 3s/step - loss: 3.0019 - accuracy: 0.3664 - precision: 0.7250\n"
          ],
          "name": "stdout"
        },
        {
          "output_type": "execute_result",
          "data": {
            "text/plain": [
              "[3.001899003982544, 0.36636313796043396, 0.7250000238418579]"
            ]
          },
          "metadata": {
            "tags": []
          },
          "execution_count": 33
        }
      ]
    },
    {
      "cell_type": "markdown",
      "metadata": {
        "id": "TY2cllPUjZ5a"
      },
      "source": [
        "# Augmentation Retrains"
      ]
    },
    {
      "cell_type": "markdown",
      "metadata": {
        "id": "DQ_K4p_fl-eV"
      },
      "source": [
        "## Flip and Rotate"
      ]
    },
    {
      "cell_type": "code",
      "metadata": {
        "colab": {
          "base_uri": "https://localhost:8080/"
        },
        "id": "W_blAKPbhMWR",
        "outputId": "70d98c11-bf17-4f92-a741-879091aa0740"
      },
      "source": [
        "model_retrain_flip = model\n",
        "model_retrain_flip = retrain_imbalance(model_retrain_flip, 5, train_data_flipped, val_data, weights)\n",
        "# model_retrain_flip.model.save_weights('./retrain_imbalance_flip.hdf5')\n",
        "model_retrain_flip.model.save('./retrain_imbalance/flip')"
      ],
      "execution_count": null,
      "outputs": [
        {
          "output_type": "stream",
          "text": [
            "Epoch 1/5\n",
            "534/534 [==============================] - 872s 2s/step - loss: 0.5992 - accuracy: 0.6937 - precision: 0.6778 - val_loss: 0.3653 - val_accuracy: 0.8624 - val_precision: 0.9850\n",
            "Epoch 2/5\n",
            "534/534 [==============================] - 195s 366ms/step - loss: 0.5103 - accuracy: 0.7429 - precision: 0.8028 - val_loss: 0.4127 - val_accuracy: 0.8615 - val_precision: 0.9898\n",
            "Epoch 3/5\n",
            "534/534 [==============================] - 195s 366ms/step - loss: 0.4614 - accuracy: 0.7772 - precision: 0.8406 - val_loss: 0.4492 - val_accuracy: 0.8742 - val_precision: 0.9813\n",
            "Epoch 4/5\n",
            "534/534 [==============================] - 193s 361ms/step - loss: 0.4039 - accuracy: 0.8156 - precision: 0.8792 - val_loss: 0.4064 - val_accuracy: 0.8911 - val_precision: 0.9590\n",
            "Epoch 5/5\n",
            "534/534 [==============================] - 194s 363ms/step - loss: 0.3604 - accuracy: 0.8426 - precision: 0.9065 - val_loss: 0.4351 - val_accuracy: 0.8887 - val_precision: 0.9457\n",
            "WARNING:tensorflow:From /usr/local/lib/python3.6/dist-packages/tensorflow/python/training/tracking/tracking.py:111: Model.state_updates (from tensorflow.python.keras.engine.training) is deprecated and will be removed in a future version.\n",
            "Instructions for updating:\n",
            "This property should not be used in TensorFlow 2.0, as updates are applied automatically.\n",
            "WARNING:tensorflow:From /usr/local/lib/python3.6/dist-packages/tensorflow/python/training/tracking/tracking.py:111: Layer.updates (from tensorflow.python.keras.engine.base_layer) is deprecated and will be removed in a future version.\n",
            "Instructions for updating:\n",
            "This property should not be used in TensorFlow 2.0, as updates are applied automatically.\n",
            "INFO:tensorflow:Assets written to: ./retrain_imbalance/flip/assets\n"
          ],
          "name": "stdout"
        }
      ]
    },
    {
      "cell_type": "code",
      "metadata": {
        "colab": {
          "base_uri": "https://localhost:8080/"
        },
        "id": "XoBhCGl5kvmU",
        "outputId": "f4ddbe64-7155-47a5-c888-18be91bcab50"
      },
      "source": [
        "model_retrain_flip.model.evaluate(test_data, batch_size=128)"
      ],
      "execution_count": null,
      "outputs": [
        {
          "output_type": "stream",
          "text": [
            "117/117 [==============================] - 416s 4s/step - loss: 4.0951 - accuracy: 0.3771 - precision: 0.6333\n"
          ],
          "name": "stdout"
        },
        {
          "output_type": "execute_result",
          "data": {
            "text/plain": [
              "[4.095116138458252, 0.37707552313804626, 0.6333333253860474]"
            ]
          },
          "metadata": {
            "tags": []
          },
          "execution_count": 42
        }
      ]
    },
    {
      "cell_type": "code",
      "metadata": {
        "id": "mUfR0WB7oawi"
      },
      "source": [
        "# Save history\n",
        "with open('./retrain_imbalance/flip_history', 'wb') as file_pi:\n",
        "  pickle.dump(model_retrain_flip.history, file_pi) "
      ],
      "execution_count": null,
      "outputs": []
    },
    {
      "cell_type": "markdown",
      "metadata": {
        "id": "RFxgYh9ZmA4r"
      },
      "source": [
        "## Noise (Flip and Rotate)"
      ]
    },
    {
      "cell_type": "code",
      "metadata": {
        "colab": {
          "base_uri": "https://localhost:8080/"
        },
        "id": "a1QGbt2WmCtC",
        "outputId": "18d667ff-c152-44e3-df2e-dd6f89d19375"
      },
      "source": [
        "model_retrain_noise = model\n",
        "model_retrain_noise = retrain_imbalance(model_retrain_noise, 5, train_data_noise, val_data, weights)\n",
        "# model_retrain_noise.model.save_weights('./retrain_imbalance/noise')\n",
        "model_retrain_noise.model.save('./retrain_imbalance/noise')"
      ],
      "execution_count": null,
      "outputs": [
        {
          "output_type": "stream",
          "text": [
            "Epoch 1/5\n",
            "534/534 [==============================] - 907s 2s/step - loss: 0.3575 - accuracy: 0.8432 - precision: 0.9068 - val_loss: 0.4891 - val_accuracy: 0.8944 - val_precision: 0.8929\n",
            "Epoch 2/5\n",
            "534/534 [==============================] - 230s 430ms/step - loss: 0.3356 - accuracy: 0.8576 - precision: 0.9150 - val_loss: 0.5310 - val_accuracy: 0.8883 - val_precision: 0.9154\n",
            "Epoch 3/5\n",
            "534/534 [==============================] - 230s 431ms/step - loss: 0.3315 - accuracy: 0.8575 - precision: 0.9145 - val_loss: 0.5940 - val_accuracy: 0.8770 - val_precision: 0.9466\n",
            "Epoch 4/5\n",
            "534/534 [==============================] - 227s 426ms/step - loss: 0.3284 - accuracy: 0.8621 - precision: 0.9145 - val_loss: 0.5050 - val_accuracy: 0.8864 - val_precision: 0.9041\n",
            "Epoch 5/5\n",
            "534/534 [==============================] - 229s 428ms/step - loss: 0.3331 - accuracy: 0.8538 - precision: 0.9121 - val_loss: 0.5160 - val_accuracy: 0.8826 - val_precision: 0.9103\n",
            "INFO:tensorflow:Assets written to: ./retrain_imbalance/noise/assets\n"
          ],
          "name": "stdout"
        }
      ]
    },
    {
      "cell_type": "code",
      "metadata": {
        "colab": {
          "base_uri": "https://localhost:8080/"
        },
        "id": "TpWtZoZVo6BY",
        "outputId": "9b3fd9d4-9c62-4d99-8264-3aa96c088e6a"
      },
      "source": [
        "model_retrain_noise.model.evaluate(test_data, batch_size=128)"
      ],
      "execution_count": null,
      "outputs": [
        {
          "output_type": "stream",
          "text": [
            "117/117 [==============================] - 423s 4s/step - loss: 4.7992 - accuracy: 0.3931 - precision: 0.6483\n"
          ],
          "name": "stdout"
        },
        {
          "output_type": "execute_result",
          "data": {
            "text/plain": [
              "[4.799219608306885, 0.39314407110214233, 0.6482758522033691]"
            ]
          },
          "metadata": {
            "tags": []
          },
          "execution_count": 48
        }
      ]
    },
    {
      "cell_type": "code",
      "metadata": {
        "id": "LgqeUsc0zwTd"
      },
      "source": [
        "# Save history\n",
        "with open('./retrain_imbalance/noise_history', 'wb') as file_pi:\n",
        "  pickle.dump(model_retrain_noise.history, file_pi) "
      ],
      "execution_count": null,
      "outputs": []
    },
    {
      "cell_type": "markdown",
      "metadata": {
        "id": "FfLOQTF4mDZM"
      },
      "source": [
        "## Blur (Flip and Rotate)"
      ]
    },
    {
      "cell_type": "code",
      "metadata": {
        "colab": {
          "base_uri": "https://localhost:8080/"
        },
        "id": "40-Ys3EYmEu1",
        "outputId": "5d5b8381-46cd-4a85-fcf8-6be82eefacc8"
      },
      "source": [
        "model_retrain_blur = model\n",
        "model_retrain_blur = retrain_imbalance(model_retrain_blur, 5, train_data_blur, val_data, weights)\n",
        "model_retrain_blur.model.save('./retrain_imbalance/blur')"
      ],
      "execution_count": null,
      "outputs": [
        {
          "output_type": "stream",
          "text": [
            "Epoch 1/5\n",
            "534/534 [==============================] - 874s 2s/step - loss: 0.3709 - accuracy: 0.8353 - precision: 0.9127 - val_loss: 0.6245 - val_accuracy: 0.8653 - val_precision: 0.9538\n",
            "Epoch 2/5\n",
            "534/534 [==============================] - 204s 381ms/step - loss: 0.3680 - accuracy: 0.8347 - precision: 0.9047 - val_loss: 0.8277 - val_accuracy: 0.8582 - val_precision: 0.9610\n",
            "Epoch 3/5\n",
            "534/534 [==============================] - 205s 383ms/step - loss: 0.3675 - accuracy: 0.8361 - precision: 0.9034 - val_loss: 1.1717 - val_accuracy: 0.8277 - val_precision: 0.9845\n",
            "Epoch 4/5\n",
            "534/534 [==============================] - 203s 380ms/step - loss: 0.3606 - accuracy: 0.8412 - precision: 0.9128 - val_loss: 0.7508 - val_accuracy: 0.8770 - val_precision: 0.9265\n",
            "Epoch 5/5\n",
            "534/534 [==============================] - 205s 384ms/step - loss: 0.3584 - accuracy: 0.8406 - precision: 0.8998 - val_loss: 0.7731 - val_accuracy: 0.8826 - val_precision: 0.8996\n",
            "INFO:tensorflow:Assets written to: ./retrain_imbalance/blur/assets\n"
          ],
          "name": "stdout"
        }
      ]
    },
    {
      "cell_type": "code",
      "metadata": {
        "colab": {
          "base_uri": "https://localhost:8080/"
        },
        "id": "hiZAMXwhtWdK",
        "outputId": "543e2344-ef7c-4550-f2aa-b914aca31359"
      },
      "source": [
        "model_retrain_blur.model.evaluate(test_data, batch_size=128)"
      ],
      "execution_count": null,
      "outputs": [
        {
          "output_type": "stream",
          "text": [
            "117/117 [==============================] - 439s 4s/step - loss: 7.6598 - accuracy: 0.3878 - precision: 0.6319\n"
          ],
          "name": "stdout"
        },
        {
          "output_type": "execute_result",
          "data": {
            "text/plain": [
              "[7.659767150878906, 0.38778790831565857, 0.6319444179534912]"
            ]
          },
          "metadata": {
            "tags": []
          },
          "execution_count": 52
        }
      ]
    },
    {
      "cell_type": "code",
      "metadata": {
        "id": "wyAvSASN852Q"
      },
      "source": [
        "with open('./retrain_imbalance/blur_history', 'wb') as file_pi:\n",
        "  pickle.dump(model_retrain_blur.history, file_pi) "
      ],
      "execution_count": null,
      "outputs": []
    },
    {
      "cell_type": "markdown",
      "metadata": {
        "id": "kBBqh9Qbcqgi"
      },
      "source": [
        "TODO Marlin, create error bars for these"
      ]
    },
    {
      "cell_type": "markdown",
      "metadata": {
        "id": "TEQFgvvNU0lQ"
      },
      "source": [
        "# Load Models"
      ]
    },
    {
      "cell_type": "code",
      "metadata": {
        "id": "L9wnfcTaUzyA"
      },
      "source": [
        "model_inception = tf.keras.models.load_model('./retrain_inception_resnet/inception')\n",
        "model_resnet    = tf.keras.models.load_model('./retrain_inception_resnet/resnet')\n",
        "\n",
        "model_retrain_5     = tf.keras.models.load_model('./retrain_imbalance/5.hdf5')\n",
        "model_retrain_flip  = tf.keras.models.load_model('./retrain_imbalance/flip')\n",
        "model_retrain_noise = tf.keras.models.load_model('./retrain_imbalance/noise')\n",
        "model_retrain_blur  = tf.keras.models.load_model('./retrain_imbalance/blur')"
      ],
      "execution_count": 9,
      "outputs": []
    },
    {
      "cell_type": "markdown",
      "metadata": {
        "id": "t67Ywida9njt"
      },
      "source": [
        "# Load Histories"
      ]
    },
    {
      "cell_type": "code",
      "metadata": {
        "id": "RtLQGgqi9m5s"
      },
      "source": [
        "history_inception = pickle.load(open('./retrain_inception_resnet/inception_history', \"rb\"))\n",
        "resnet_inception  = pickle.load(open('./retrain_inception_resnet/resnet_history', \"rb\"))\n",
        "\n",
        "history_5 = pickle.load(open('./retrain_imbalance/5_history', \"rb\"))\n",
        "history_flip = pickle.load(open('./retrain_imbalance/flip_history', \"rb\"))\n",
        "history_noise = pickle.load(open('./retrain_imbalance/noise_history', \"rb\"))\n",
        "history_blur = pickle.load(open('./retrain_imbalance/blur_history', \"rb\"))"
      ],
      "execution_count": 11,
      "outputs": []
    },
    {
      "cell_type": "code",
      "metadata": {
        "colab": {
          "base_uri": "https://localhost:8080/"
        },
        "id": "XJ4YMkDo9-aq",
        "outputId": "5be0d619-fcc3-4ed2-e34b-599d21882e29"
      },
      "source": [
        "print(history_5.keys())"
      ],
      "execution_count": null,
      "outputs": [
        {
          "output_type": "stream",
          "text": [
            "dict_keys(['loss', 'accuracy', 'precision', 'val_loss', 'val_accuracy', 'val_precision'])\n"
          ],
          "name": "stdout"
        }
      ]
    },
    {
      "cell_type": "markdown",
      "metadata": {
        "id": "0JHguglqZy3v"
      },
      "source": [
        "# Predict from Models"
      ]
    },
    {
      "cell_type": "code",
      "metadata": {
        "id": "4ewNZu5f4GIn"
      },
      "source": [
        "from sklearn.metrics import roc_curve\n",
        "from sklearn.metrics import auc"
      ],
      "execution_count": 12,
      "outputs": []
    },
    {
      "cell_type": "code",
      "metadata": {
        "colab": {
          "base_uri": "https://localhost:8080/"
        },
        "id": "ZckOE1O8VkBt",
        "outputId": "ce14f9ff-dfb8-46fc-de37-d0b34b7f3013"
      },
      "source": [
        "test_data_128 = tf.keras.preprocessing.image_dataset_from_directory(\n",
        "    './C-NMC_Leukemia/validation_data/',\n",
        "    labels=test_labels.tolist(),\n",
        "    label_mode=\"int\",\n",
        "    image_size=(128, 128),\n",
        "    batch_size=BATCH_SIZE, \n",
        ")"
      ],
      "execution_count": null,
      "outputs": [
        {
          "output_type": "stream",
          "text": [
            "Found 1867 files belonging to 1 classes.\n"
          ],
          "name": "stdout"
        }
      ]
    },
    {
      "cell_type": "code",
      "metadata": {
        "id": "6Aw2RKW74HJr"
      },
      "source": [
        "pred_inception = model_inception.predict(test_data_128)\n",
        "pred_resnet    = model_resnet.predict(test_data_128)"
      ],
      "execution_count": null,
      "outputs": []
    },
    {
      "cell_type": "code",
      "metadata": {
        "id": "qTf1bBRPXGgq"
      },
      "source": [
        "pred_5 = model_retrain_5.predict(test_data)"
      ],
      "execution_count": null,
      "outputs": []
    },
    {
      "cell_type": "code",
      "metadata": {
        "id": "FveAQyfYXMm8"
      },
      "source": [
        "pred_retrain_flip = model_retrain_flip.predict(test_data)"
      ],
      "execution_count": null,
      "outputs": []
    },
    {
      "cell_type": "code",
      "metadata": {
        "id": "-vE4QXJLXReV"
      },
      "source": [
        "pred_retrain_noise = model_retrain_noise.predict(test_data)"
      ],
      "execution_count": 10,
      "outputs": []
    },
    {
      "cell_type": "code",
      "metadata": {
        "id": "wpcXha4SXWOj"
      },
      "source": [
        " pred_retrain_blur = model_retrain_blur.predict(test_data)"
      ],
      "execution_count": 13,
      "outputs": []
    },
    {
      "cell_type": "markdown",
      "metadata": {
        "id": "xD3OWSCK4Eq4"
      },
      "source": [
        "# ROC"
      ]
    },
    {
      "cell_type": "code",
      "metadata": {
        "colab": {
          "base_uri": "https://localhost:8080/"
        },
        "id": "yfU6wBft_yct",
        "outputId": "4d8eb6df-d12c-4abd-fd1e-3c5ed6acc5af"
      },
      "source": [
        "pred = []\n",
        "count = 0\n",
        "for g in pred_inception.ravel():\n",
        "  if g < 0.5:\n",
        "    count +=1\n",
        "    pred.append(0)\n",
        "  else:\n",
        "    pred.append(1)\n",
        "print(count)"
      ],
      "execution_count": null,
      "outputs": [
        {
          "output_type": "stream",
          "text": [
            "1867\n"
          ],
          "name": "stdout"
        }
      ]
    },
    {
      "cell_type": "code",
      "metadata": {
        "id": "9icTZ4zJ4hiI"
      },
      "source": [
        "fpr_keras, tpr_keras, thresholds_keras = roc_curve(test_labels, pred_5.ravel())"
      ],
      "execution_count": null,
      "outputs": []
    },
    {
      "cell_type": "code",
      "metadata": {
        "id": "N7yGjKaa4jt3"
      },
      "source": [
        "auc_keras = auc(fpr_keras, tpr_keras)"
      ],
      "execution_count": null,
      "outputs": []
    },
    {
      "cell_type": "code",
      "metadata": {
        "colab": {
          "base_uri": "https://localhost:8080/",
          "height": 294
        },
        "id": "U3-sOvr94uyf",
        "outputId": "75b64c47-295c-41fe-c43f-8ebf523b4489"
      },
      "source": [
        "plt.figure(1)\n",
        "plt.plot([0, 1], [0, 1], 'k--')\n",
        "plt.plot(fpr_keras, tpr_keras, label='AUC= {:.3f}'.format(auc_keras))\n",
        "# plt.plot(fpr_rf, tpr_rf, label='RF (area = {:.3f})'.format(auc_rf))\n",
        "plt.xlabel('False positive rate')\n",
        "plt.ylabel('True positive rate')\n",
        "plt.title('ROC - Retrain (5 Epochs)')\n",
        "plt.legend(loc='best')\n",
        "plt.show()"
      ],
      "execution_count": null,
      "outputs": [
        {
          "output_type": "display_data",
          "data": {
            "image/png": "[encoded data removed]",
            "text/plain": [
              "<Figure size 432x288 with 1 Axes>"
            ]
          },
          "metadata": {
            "tags": [],
            "needs_background": "light"
          }
        }
      ]
    },
    {
      "cell_type": "markdown",
      "metadata": {
        "id": "UkalX3CVcSZh"
      },
      "source": [
        "# Confusion Matrices"
      ]
    },
    {
      "cell_type": "code",
      "metadata": {
        "id": "cL14WYxKio7s"
      },
      "source": [
        "import seaborn as sn"
      ],
      "execution_count": 45,
      "outputs": []
    },
    {
      "cell_type": "code",
      "metadata": {
        "id": "tl63adZicWEt"
      },
      "source": [
        "n = 1867"
      ],
      "execution_count": 41,
      "outputs": []
    },
    {
      "cell_type": "code",
      "metadata": {
        "colab": {
          "base_uri": "https://localhost:8080/"
        },
        "id": "LY8Os6xXgKYV",
        "outputId": "d1e2914f-d2fc-42ea-bb89-ac746df4812a"
      },
      "source": [
        "test_labels_reshape = test_labels.reshape((test_labels.shape[0], 1))\n",
        "test_labels_reshape_tensor = tf.constant(test_labels)\n",
        "print(test_labels_reshape_tensor)"
      ],
      "execution_count": 42,
      "outputs": [
        {
          "output_type": "stream",
          "text": [
            "tf.Tensor([1 1 1 ... 0 1 1], shape=(1867,), dtype=int64)\n"
          ],
          "name": "stdout"
        }
      ]
    },
    {
      "cell_type": "code",
      "metadata": {
        "id": "AJtuaGv8idoR"
      },
      "source": [
        "confusion_mat_retrain_5 = tf.math.confusion_matrix(labels=test_labels_reshape_tensor,\n",
        "                         predictions=pred_5,\n",
        "                         num_classes=2)\n",
        "confusion_mat_retrain_flip = tf.math.confusion_matrix(labels=test_labels_reshape_tensor,\n",
        "                         predictions=pred_retrain_flip,\n",
        "                         num_classes=2)\n",
        "confusion_mat_retrain_noise = tf.math.confusion_matrix(labels=test_labels_reshape_tensor,\n",
        "                         predictions=pred_retrain_noise,\n",
        "                         num_classes=2)\n",
        "confusion_mat_retrain_blur = tf.math.confusion_matrix(labels=test_labels_reshape_tensor,\n",
        "                         predictions=pred_retrain_blur,\n",
        "                         num_classes=2)"
      ],
      "execution_count": 17,
      "outputs": []
    },
    {
      "cell_type": "code",
      "metadata": {
        "colab": {
          "base_uri": "https://localhost:8080/",
          "height": 274
        },
        "id": "1Wr2fnAcisWa",
        "outputId": "edeba33e-5a9c-40c2-a9b3-9eccad00b92d"
      },
      "source": [
        "df_cm_retrain_5 = pd.DataFrame(confusion_mat_retrain_5.numpy())\n",
        "\n",
        "# for label size\n",
        "sn.set(font_scale=1.4)\n",
        "sn.heatmap(df_cm_retrain_5, annot=True, fmt='g', annot_kws={'size': 16}) # font size\n",
        "plt.show()"
      ],
      "execution_count": null,
      "outputs": [
        {
          "output_type": "display_data",
          "data": {
            "image/png": "[encoded data removed]",
            "text/plain": [
              "<Figure size 432x288 with 2 Axes>"
            ]
          },
          "metadata": {
            "tags": []
          }
        }
      ]
    },
    {
      "cell_type": "code",
      "metadata": {
        "colab": {
          "base_uri": "https://localhost:8080/",
          "height": 273
        },
        "id": "tvlV69cskhIb",
        "outputId": "0be62c97-7563-43ae-cebe-6ef9ced08703"
      },
      "source": [
        "df_cm_retrain_flip = pd.DataFrame(confusion_mat_retrain_flip.numpy())\n",
        "\n",
        "# for label size\n",
        "sn.set(font_scale=1.4)\n",
        "sn.heatmap(df_cm_retrain_flip, annot=True, fmt='g', annot_kws={'size': 16}) # font size\n",
        "plt.show()"
      ],
      "execution_count": null,
      "outputs": [
        {
          "output_type": "display_data",
          "data": {
            "image/png": "[encoded data removed]",
            "text/plain": [
              "<Figure size 432x288 with 2 Axes>"
            ]
          },
          "metadata": {
            "tags": []
          }
        }
      ]
    },
    {
      "cell_type": "code",
      "metadata": {
        "colab": {
          "base_uri": "https://localhost:8080/",
          "height": 273
        },
        "id": "b4h39Of4ktai",
        "outputId": "4cf6e2cb-65f5-4987-d3d2-7a2b6a79c8a4"
      },
      "source": [
        "df_cm_retrain_noise = pd.DataFrame(confusion_mat_retrain_noise.numpy())\n",
        "\n",
        "# for label size\n",
        "sn.set(font_scale=1.4)\n",
        "sn.heatmap(df_cm_retrain_noise, annot=True, fmt='g', annot_kws={'size': 16}) # font size\n",
        "plt.show()"
      ],
      "execution_count": null,
      "outputs": [
        {
          "output_type": "display_data",
          "data": {
            "image/png": "[encoded data removed]",
            "text/plain": [
              "<Figure size 432x288 with 2 Axes>"
            ]
          },
          "metadata": {
            "tags": []
          }
        }
      ]
    },
    {
      "cell_type": "code",
      "metadata": {
        "id": "YVSReUr5lI4i",
        "colab": {
          "base_uri": "https://localhost:8080/",
          "height": 273
        },
        "outputId": "6bff8160-f73b-4099-8bdf-84ed0b35e714"
      },
      "source": [
        "df_cm_retrain_blur = pd.DataFrame(confusion_mat_retrain_blur.numpy())\n",
        "\n",
        "# for label size\n",
        "sn.set(font_scale=1.4)\n",
        "sn.heatmap(df_cm_retrain_blur, annot=True, fmt='g', annot_kws={'size': 16}) # font size\n",
        "plt.show()"
      ],
      "execution_count": 19,
      "outputs": [
        {
          "output_type": "display_data",
          "data": {
            "image/png": "[encoded data removed]",
            "text/plain": [
              "<Figure size 432x288 with 2 Axes>"
            ]
          },
          "metadata": {
            "tags": []
          }
        }
      ]
    },
    {
      "cell_type": "markdown",
      "metadata": {
        "id": "ivpyVNgeymDc"
      },
      "source": [
        "# Plots of Model Training Data"
      ]
    },
    {
      "cell_type": "code",
      "metadata": {
        "colab": {
          "base_uri": "https://localhost:8080/"
        },
        "id": "KmxDT1G2xQKp",
        "outputId": "d8cbdb25-f7a2-46e0-8aca-5d2a8a00f7f4"
      },
      "source": [
        "print(model_retrain_blur.history.keys())"
      ],
      "execution_count": null,
      "outputs": [
        {
          "output_type": "stream",
          "text": [
            "dict_keys(['loss', 'accuracy', 'precision', 'val_loss', 'val_accuracy', 'val_precision'])\n"
          ],
          "name": "stdout"
        }
      ]
    },
    {
      "cell_type": "code",
      "metadata": {
        "colab": {
          "base_uri": "https://localhost:8080/",
          "height": 573
        },
        "id": "WaXFhRzXyXAt",
        "outputId": "c7f2a73e-bbf3-4806-b035-2c9133b9a932"
      },
      "source": [
        "# summarize history for accuracy\n",
        "plt.plot(history_5['accuracy'])\n",
        "plt.plot(history_5['val_accuracy'])\n",
        "plt.title('model accuracy')\n",
        "plt.ylabel('accuracy')\n",
        "plt.xlabel('epoch')\n",
        "plt.legend(['train', 'test'], loc='upper left')\n",
        "plt.show()\n",
        "# summarize history for loss\n",
        "plt.plot(history_5['loss'])\n",
        "plt.plot(history_5['val_loss'])\n",
        "plt.title('model loss')\n",
        "plt.ylabel('loss')\n",
        "plt.xlabel('epoch')\n",
        "plt.legend(['train', 'test'], loc='upper left')\n",
        "plt.show()"
      ],
      "execution_count": null,
      "outputs": [
        {
          "output_type": "display_data",
          "data": {
            "image/png": "[encoded data removed]",
            "text/plain": [
              "<Figure size 432x288 with 1 Axes>"
            ]
          },
          "metadata": {
            "tags": [],
            "needs_background": "light"
          }
        },
        {
          "output_type": "display_data",
          "data": {
            "image/png": "[encoded data removed]",
            "text/plain": [
              "<Figure size 432x288 with 1 Axes>"
            ]
          },
          "metadata": {
            "tags": [],
            "needs_background": "light"
          }
        }
      ]
    },
    {
      "cell_type": "code",
      "metadata": {
        "id": "faCRWTEUC85f",
        "colab": {
          "base_uri": "https://localhost:8080/",
          "height": 613
        },
        "outputId": "439a3ba5-6fbe-4817-db56-d0f25ef302b5"
      },
      "source": [
        "# summarize history for accuracy\n",
        "# plt.subplot(2, 2, 1)\n",
        "plt.plot(history_inception['val_accuracy'])\n",
        "plt.plot(history_inception['val_loss'])\n",
        "plt.title('Inception Training')\n",
        "plt.ylabel('accuracy')\n",
        "plt.xlabel('epoch')\n",
        "plt.xlim((0,5))\n",
        "plt.legend(['val_accuracy', 'val_loss'], loc='upper right')\n",
        "plt.show()\n",
        "# summarize history for loss\n",
        "# plt.subplot(2, 2, 2)\n",
        "plt.plot(resnet_inception['val_accuracy'])\n",
        "plt.plot(resnet_inception['val_loss'])\n",
        "plt.title('Resnet Training')\n",
        "plt.ylabel('accuracy')\n",
        "plt.xlabel('epoch')\n",
        "plt.xlim((0,5))\n",
        "plt.legend(['val_accuracy', 'val_loss'], loc='upper right')\n",
        "plt.show()"
      ],
      "execution_count": 24,
      "outputs": [
        {
          "output_type": "display_data",
          "data": {
            "image/png": "[encoded data removed]",
            "text/plain": [
              "<Figure size 432x288 with 1 Axes>"
            ]
          },
          "metadata": {
            "tags": []
          }
        },
        {
          "output_type": "display_data",
          "data": {
            "image/png": "[encoded data removed]",
            "text/plain": [
              "<Figure size 432x288 with 1 Axes>"
            ]
          },
          "metadata": {
            "tags": []
          }
        }
      ]
    },
    {
      "cell_type": "code",
      "metadata": {
        "colab": {
          "base_uri": "https://localhost:8080/",
          "height": 294
        },
        "id": "YwtMfZifmM-0",
        "outputId": "92b87883-f67f-4ebf-85c7-579eea7c8b91"
      },
      "source": [
        "plt.plot(history_5['val_accuracy'])\n",
        "plt.plot(history_5['val_loss'])\n",
        "plt.title('Retain (5 Epochs) Training')\n",
        "plt.ylabel('accuracy')\n",
        "plt.xlabel('epoch')\n",
        "plt.legend(['val_accuracy', 'val_loss'], loc='upper left')\n",
        "plt.show()"
      ],
      "execution_count": null,
      "outputs": [
        {
          "output_type": "display_data",
          "data": {
            "image/png": "[encoded data removed]",
            "text/plain": [
              "<Figure size 432x288 with 1 Axes>"
            ]
          },
          "metadata": {
            "tags": [],
            "needs_background": "light"
          }
        }
      ]
    },
    {
      "cell_type": "code",
      "metadata": {
        "id": "SQNP_Ttom55d"
      },
      "source": [
        ""
      ],
      "execution_count": null,
      "outputs": []
    },
    {
      "cell_type": "markdown",
      "metadata": {
        "id": "eCAeNLxF1-VE"
      },
      "source": [
        "# Threshold"
      ]
    },
    {
      "cell_type": "code",
      "metadata": {
        "id": "YY9bukn62WG7"
      },
      "source": [
        "with open('retrain_noise_predict', 'wb') as filehandle:\n",
        "    # store the data as binary data stream\n",
        "    pickle.dump(pred_retrain_noise, filehandle)"
      ],
      "execution_count": 13,
      "outputs": []
    },
    {
      "cell_type": "code",
      "metadata": {
        "id": "10PMB0IA2cyn"
      },
      "source": [
        "with open('retrain_noise_predict', 'rb') as filehandle:\n",
        "    # read the data as binary data stream\n",
        "    pred_retrain_noise = pickle.load(filehandle)\n"
      ],
      "execution_count": 6,
      "outputs": []
    },
    {
      "cell_type": "code",
      "metadata": {
        "id": "Jd5MeE2K2uh7"
      },
      "source": [
        "df = pd.DataFrame({'guesses': pred_retrain_noise.ravel(), 'labels': test_labels})"
      ],
      "execution_count": 17,
      "outputs": []
    },
    {
      "cell_type": "code",
      "metadata": {
        "colab": {
          "base_uri": "https://localhost:8080/",
          "height": 344
        },
        "id": "-3s7kbHc4uFS",
        "outputId": "2a758d4f-8fe0-4ef8-910e-d43badc8ae12"
      },
      "source": [
        "col = ['red', 'blue']\n",
        "fig = plt.figure(figsize=(10,5))\n",
        "plt.scatter(df['guesses'], np.ones(1867), c=[col[x] for x in df['labels']])"
      ],
      "execution_count": 75,
      "outputs": [
        {
          "output_type": "execute_result",
          "data": {
            "text/plain": [
              "<matplotlib.collections.PathCollection at 0x7f3d3c926470>"
            ]
          },
          "metadata": {
            "tags": []
          },
          "execution_count": 75
        },
        {
          "output_type": "display_data",
          "data": {
            "image/png": "[encoded data removed]",
            "text/plain": [
              "<Figure size 720x360 with 1 Axes>"
            ]
          },
          "metadata": {
            "tags": []
          }
        }
      ]
    },
    {
      "cell_type": "code",
      "metadata": {
        "id": "GIZaaq0O4xGA"
      },
      "source": [
        ""
      ],
      "execution_count": 39,
      "outputs": []
    },
    {
      "cell_type": "code",
      "metadata": {
        "id": "RpKSRS3D8hWO"
      },
      "source": [
        "def analyzeThreshold(thresholds):\n",
        "\n",
        "  data = {\n",
        "      \"TP\": [],\n",
        "      \"FP\": [],\n",
        "      \"FN\": [],\n",
        "      \"TN\": [],\n",
        "      \"acc\": []\n",
        "  }\n",
        "\n",
        "  for th in thresholds:\n",
        "    th_pred = []\n",
        "\n",
        "    for x in pred_retrain_noise.ravel():\n",
        "      if x < th:\n",
        "        th_pred.append(0)\n",
        "      else:\n",
        "        th_pred.append(1)\n",
        "\n",
        "    noise_03 = tf.math.confusion_matrix(labels=test_labels_reshape_tensor,\n",
        "                            predictions=th_pred,\n",
        "                            num_classes=2)\n",
        "\n",
        "    df_noise_03 = pd.DataFrame(noise_03.numpy())\n",
        "    # print('Threshold - {}'.format(th))\n",
        "    # print(df_noise_03)\n",
        "    # print('\\n')\n",
        "\n",
        "    data[\"TP\"].append(df_noise_03[0][0]/1867)\n",
        "    data[\"FP\"].append(df_noise_03[0][1]/1867)\n",
        "    data[\"FN\"].append(df_noise_03[1][0]/1867)\n",
        "    data[\"TN\"].append(df_noise_03[1][1]/1867)\n",
        "\n",
        "    correct = df_noise_03[0][0] + df_noise_03[1][1]\n",
        "    data[\"acc\"].append(correct/1867)\n",
        "\n",
        "  return data\n",
        "    # for label size\n",
        "    # sn.set(font_scale=1.4)\n",
        "    # sn.heatmap(df_noise_03, annot=True, fmt='g', annot_kws={'size': 16}) # font size\n",
        "    # plt.show()"
      ],
      "execution_count": 83,
      "outputs": []
    },
    {
      "cell_type": "code",
      "metadata": {
        "id": "MIEbRT1c9x-b"
      },
      "source": [
        "ths = [0, 0.1, 0.2, 0.3, 0.4, 0.5, 0.6, 0.7, 0.8, 0.9, 1]\n",
        "d = analyzeThreshold(ths)"
      ],
      "execution_count": 84,
      "outputs": []
    },
    {
      "cell_type": "code",
      "metadata": {
        "colab": {
          "base_uri": "https://localhost:8080/"
        },
        "id": "XcWwoHrWIiQU",
        "outputId": "05ebd418-65c0-426c-b976-0a3fdae77be2"
      },
      "source": [
        "print(d)"
      ],
      "execution_count": 85,
      "outputs": [
        {
          "output_type": "stream",
          "text": [
            "{'TP': [0.0, 0.2544188537761114, 0.2779860739153723, 0.28548473486877346, 0.2897696839850027, 0.2929833958221746, 0.29619710765934654, 0.2967327262988752, 0.30048205677557577, 0.30101767541510444, 0.32619175147295126], 'FP': [0.0, 0.468130690948045, 0.5115158007498661, 0.5372254954472415, 0.5452597750401714, 0.5516871987145152, 0.5565077664702731, 0.5586502410283878, 0.5688269951794322, 0.5736475629351901, 0.6132833422603107], 'FN': [0.3470808784145688, 0.09266202463845742, 0.06909480449919657, 0.061596143545795394, 0.05731119442956615, 0.05409748259239421, 0.05088377075522228, 0.05034815211569363, 0.04659882163899304, 0.046063202999464384, 0.02088912694161757], 'TN': [0.6529191215854312, 0.18478843063738618, 0.1414033208355651, 0.1156936261381896, 0.10765934654525977, 0.10123192287091591, 0.09641135511515801, 0.09426888055704338, 0.08409212640599893, 0.07927155865024103, 0.03963577932512052], 'acc': [0.6529191215854312, 0.4392072844134976, 0.41938939475093734, 0.401178361006963, 0.39742903053026246, 0.3942153186930905, 0.39260846277450456, 0.39100160685591856, 0.3845741831815747, 0.3802892340653455, 0.3658275307980718]}\n"
          ],
          "name": "stdout"
        }
      ]
    },
    {
      "cell_type": "code",
      "metadata": {
        "colab": {
          "base_uri": "https://localhost:8080/",
          "height": 332
        },
        "id": "FGJJuFHdJ-PV",
        "outputId": "10f1b907-02cc-449f-b903-44328a04a855"
      },
      "source": [
        "plt.title(\"TN vs TP Rate per Threshold\")\n",
        "plt.xlabel(\"TN\")\n",
        "plt.ylabel(\"TP\")\n",
        "plt.scatter(d[\"TN\"], d[\"TP\"])\n",
        "\n",
        "# fig, ax = plt.subplots()\n",
        "# ax.scatter(d[\"TN\"], d[\"TP\"])\n",
        "\n",
        "# for i, th in enumerate(ths):\n",
        "#     ax.annotate(th, (d[\"TN\"][i], d[\"TP\"][i]))"
      ],
      "execution_count": 97,
      "outputs": [
        {
          "output_type": "execute_result",
          "data": {
            "text/plain": [
              "<matplotlib.collections.PathCollection at 0x7f3d3ca89160>"
            ]
          },
          "metadata": {
            "tags": []
          },
          "execution_count": 97
        },
        {
          "output_type": "display_data",
          "data": {
            "image/png": "[encoded data removed]",
            "text/plain": [
              "<Figure size 432x288 with 1 Axes>"
            ]
          },
          "metadata": {
            "tags": []
          }
        }
      ]
    },
    {
      "cell_type": "code",
      "metadata": {
        "colab": {
          "base_uri": "https://localhost:8080/",
          "height": 332
        },
        "id": "pUCq0zpGKXX-",
        "outputId": "ff6c28f6-5174-4d3e-a505-b5559784b40b"
      },
      "source": [
        "plt.title(\"FN vs FP Rate per Threshold\")\n",
        "plt.xlabel(\"FN\")\n",
        "plt.ylabel(\"FP\")\n",
        "plt.scatter(d[\"FN\"], d[\"FP\"])"
      ],
      "execution_count": 90,
      "outputs": [
        {
          "output_type": "execute_result",
          "data": {
            "text/plain": [
              "<matplotlib.collections.PathCollection at 0x7f3d3cbb8dd8>"
            ]
          },
          "metadata": {
            "tags": []
          },
          "execution_count": 90
        },
        {
          "output_type": "display_data",
          "data": {
            "image/png": "[encoded data removed]",
            "text/plain": [
              "<Figure size 432x288 with 1 Axes>"
            ]
          },
          "metadata": {
            "tags": []
          }
        }
      ]
    },
    {
      "cell_type": "code",
      "metadata": {
        "colab": {
          "base_uri": "https://localhost:8080/",
          "height": 332
        },
        "id": "rhdchFNTKkoI",
        "outputId": "56e0f6ef-3d45-4273-ae13-4b9d234e05b8"
      },
      "source": [
        "plt.title(\"Accuracy per Threshold\")\n",
        "plt.xlabel(\"Threshold\")\n",
        "plt.ylabel(\"Accuracy\")\n",
        "plt.scatter(ths, d[\"acc\"])"
      ],
      "execution_count": 92,
      "outputs": [
        {
          "output_type": "execute_result",
          "data": {
            "text/plain": [
              "<matplotlib.collections.PathCollection at 0x7f3d3cd672e8>"
            ]
          },
          "metadata": {
            "tags": []
          },
          "execution_count": 92
        },
        {
          "output_type": "display_data",
          "data": {
            "image/png": "[encoded data removed]",
            "text/plain": [
              "<Figure size 432x288 with 1 Axes>"
            ]
          },
          "metadata": {
            "tags": []
          }
        }
      ]
    },
    {
      "cell_type": "code",
      "metadata": {
        "id": "-iwPwr-NLrNZ"
      },
      "source": [
        ""
      ],
      "execution_count": null,
      "outputs": []
    }
  ]
}