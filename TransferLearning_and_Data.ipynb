{
  "nbformat": 4,
  "nbformat_minor": 0,
  "metadata": {
    "colab": {
      "name": "Copy of Retry.ipynb",
      "provenance": [],
      "collapsed_sections": [],
      "toc_visible": true,
      "include_colab_link": true
    },
    "kernelspec": {
      "display_name": "Python 3",
      "name": "python3"
    },
    "accelerator": "GPU"
  },
  "cells": [
    {
      "cell_type": "markdown",
      "metadata": {
        "id": "view-in-github",
        "colab_type": "text"
      },
      "source": [
        "<a href=\"https://colab.research.google.com/github/taasinsaquib/ALL-Augmentations/blob/main/TransferLearning_and_Data.ipynb\" target=\"_parent\"><img src=\"https://colab.research.google.com/assets/colab-badge.svg\" alt=\"Open In Colab\"/></a>"
      ]
    },
    {
      "cell_type": "markdown",
      "metadata": {
        "id": "uBBRRJ3wc13_"
      },
      "source": [
        "# Move Files Around\n",
        "* DON'T run this section"
      ]
    },
    {
      "cell_type": "markdown",
      "metadata": {
        "id": "uUkpCIq4Ua2z"
      },
      "source": [
        "## Fixing a Mistake where I copied to the wrong place"
      ]
    },
    {
      "cell_type": "code",
      "metadata": {
        "colab": {
          "base_uri": "https://localhost:8080/"
        },
        "id": "z6_Em_dHKT0F",
        "outputId": "1c46dec0-80c8-4d63-ace2-caa788bfad7b"
      },
      "source": [
        "!find C-NMC_Leukemia/training_data/val/hem -maxdepth 1 -mindepth 1 -type f -ls -exec grep 'Dec' {} \\; | wc -l"
      ],
      "execution_count": null,
      "outputs": [
        {
          "output_type": "stream",
          "text": [
            "1514\n"
          ],
          "name": "stdout"
        }
      ]
    },
    {
      "cell_type": "code",
      "metadata": {
        "colab": {
          "base_uri": "https://localhost:8080/"
        },
        "id": "1_A1pT3HOaH3",
        "outputId": "052e9279-0473-43b6-9631-2fd22b81f4a8"
      },
      "source": [
        "!find C-NMC_Leukemia/training_data/val/hem -maxdepth 1 -mindepth 1 -type f -ls -exec grep 'Aug' {} \\; | wc -l"
      ],
      "execution_count": null,
      "outputs": [
        {
          "output_type": "stream",
          "text": [
            "1512\n"
          ],
          "name": "stdout"
        }
      ]
    },
    {
      "cell_type": "code",
      "metadata": {
        "colab": {
          "base_uri": "https://localhost:8080/"
        },
        "id": "HI1zqmDuO-Il",
        "outputId": "0b50446e-3877-415f-c648-4a8ee1f68aaf"
      },
      "source": [
        "!ls -l C-NMC_Leukemia/training_data/aug/all | wc -l"
      ],
      "execution_count": null,
      "outputs": [
        {
          "output_type": "stream",
          "text": [
            "1\n"
          ],
          "name": "stdout"
        }
      ]
    },
    {
      "cell_type": "code",
      "metadata": {
        "colab": {
          "base_uri": "https://localhost:8080/"
        },
        "id": "hEAvVwIlPHkx",
        "outputId": "1d9400df-5921-4124-c918-0fdde372a9ed"
      },
      "source": [
        "from pathlib import Path\n",
        "import time\n",
        "\n",
        "paths = sorted(Path(val_dst).iterdir(), key=os.path.getmtime)\n",
        "count = 0\n",
        "for p in paths:\n",
        "  if \"Aug\" in time.ctime(os.path.getmtime(p)):\n",
        "    count+=1\n",
        "  else:\n",
        "    os.remove(p)\n",
        "  \n",
        "print(count)\n",
        "# print(len(paths))\n",
        "# print(paths)"
      ],
      "execution_count": null,
      "outputs": [
        {
          "output_type": "stream",
          "text": [
            "680\n"
          ],
          "name": "stdout"
        }
      ]
    },
    {
      "cell_type": "markdown",
      "metadata": {
        "id": "KS3LSIGaNnrl"
      },
      "source": [
        "## Consolidate Training Folds"
      ]
    },
    {
      "cell_type": "code",
      "metadata": {
        "id": "Y2ZLYAU8Nlz3"
      },
      "source": [
        "import os\n",
        "import shutil\n",
        "from tqdm import tqdm"
      ],
      "execution_count": null,
      "outputs": []
    },
    {
      "cell_type": "code",
      "metadata": {
        "id": "sds-n2GCPCRl"
      },
      "source": [
        "def moveFiles(src, dest, filenames):\n",
        "  for file_name in filenames:\n",
        "    shutil.move(os.path.join(src, file_name), dest)"
      ],
      "execution_count": null,
      "outputs": []
    },
    {
      "cell_type": "code",
      "metadata": {
        "id": "DFSt3IQ6ODa2"
      },
      "source": [
        "path='/content/drive/My Drive/CS M226/C-NMC_Leukemia/training_data/'\n",
        "fold0 = path+'fold_0/'\n",
        "fold1 = path+'fold_1/'\n",
        "fold2 = path+'fold_2/'"
      ],
      "execution_count": null,
      "outputs": []
    },
    {
      "cell_type": "code",
      "metadata": {
        "id": "JN-CiRYKN0cB"
      },
      "source": [
        "dest_hem = fold0 + 'hem/'\n",
        "src_hem  = fold1 + 'hem/'"
      ],
      "execution_count": null,
      "outputs": []
    },
    {
      "cell_type": "code",
      "metadata": {
        "colab": {
          "base_uri": "https://localhost:8080/"
        },
        "id": "3LmPJnjjP8tn",
        "outputId": "337782e6-61ba-4af4-f0d5-43c2bb61b564"
      },
      "source": [
        "file_names = os.listdir(dest_hem)\n",
        "print(len(file_names))"
      ],
      "execution_count": null,
      "outputs": [
        {
          "output_type": "stream",
          "text": [
            "2709\n"
          ],
          "name": "stdout"
        }
      ]
    },
    {
      "cell_type": "code",
      "metadata": {
        "id": "Z0SD32pD77LQ",
        "colab": {
          "base_uri": "https://localhost:8080/"
        },
        "outputId": "5557cdf9-a23c-429a-c5fc-a5ea63dad93a"
      },
      "source": [
        "print(len(os.listdir(dest_hem)))\n",
        "# moveFiles(src_hem, dest_hem, file_names)\n",
        "print(len(os.listdir(dest_hem)))"
      ],
      "execution_count": null,
      "outputs": [
        {
          "output_type": "stream",
          "text": [
            "2709\n",
            "2709\n"
          ],
          "name": "stdout"
        }
      ]
    },
    {
      "cell_type": "code",
      "metadata": {
        "id": "HuwhWGJo7mIN"
      },
      "source": [
        "dest_all = fold0 + 'all/'\n",
        "src_all  = fold2 + 'all/'"
      ],
      "execution_count": null,
      "outputs": []
    },
    {
      "cell_type": "code",
      "metadata": {
        "colab": {
          "base_uri": "https://localhost:8080/"
        },
        "id": "GBnm90oG_ZcF",
        "outputId": "406c29fc-7304-4fcf-9ca5-55f721514cd6"
      },
      "source": [
        "file_names = os.listdir(dest_all)\n",
        "print(len(file_names))"
      ],
      "execution_count": null,
      "outputs": [
        {
          "output_type": "stream",
          "text": [
            "5822\n"
          ],
          "name": "stdout"
        }
      ]
    },
    {
      "cell_type": "code",
      "metadata": {
        "colab": {
          "base_uri": "https://localhost:8080/"
        },
        "id": "WCAvYXiFBuZ7",
        "outputId": "84290902-c21a-43f7-b499-e1200a66168b"
      },
      "source": [
        "print(len(os.listdir(dest_all)))\n",
        "# moveFiles(src_all, dest_all, file_names)\n",
        "print(len(os.listdir(dest_all)))"
      ],
      "execution_count": null,
      "outputs": [
        {
          "output_type": "stream",
          "text": [
            "5822\n",
            "5822\n"
          ],
          "name": "stdout"
        }
      ]
    },
    {
      "cell_type": "markdown",
      "metadata": {
        "id": "TFd_aYp_c5Tp"
      },
      "source": [
        "## Create New Validation Folder"
      ]
    },
    {
      "cell_type": "code",
      "metadata": {
        "id": "-myXnYRuc9CT"
      },
      "source": [
        "# f = os.listdir('/content/drive/My Drive/CS M226/C-NMC_Leukemia/training_data/train/all/')\n",
        "# print(len(f))\n",
        "\n",
        "# ALL 7272, 0.2 = 1450\n",
        "# HEM 3389, 0.2 = 680"
      ],
      "execution_count": null,
      "outputs": []
    },
    {
      "cell_type": "code",
      "metadata": {
        "id": "Iwu1hzUOd4kB"
      },
      "source": [
        "all_files = os.listdir(dest_all)\n",
        "hem_files = os.listdir(dest_hem)\n",
        "\n",
        "all_indices = np.random.choice(all_files, 1450, replace=False)\n",
        "hem_indices = np.random.choice(hem_files, 680, replace=False)"
      ],
      "execution_count": null,
      "outputs": []
    },
    {
      "cell_type": "code",
      "metadata": {
        "id": "YlzrNRbQeX0j",
        "colab": {
          "base_uri": "https://localhost:8080/"
        },
        "outputId": "ef6f35e8-251d-4565-8d1f-871995dd079f"
      },
      "source": [
        "val_src = dest_hem\n",
        "val_dst = path + 'val/' + 'hem'\n",
        "\n",
        "print(len(os.listdir(val_dst)))\n",
        "# moveFiles(val_src, val_dst, hem_indices)\n",
        "print(len(os.listdir(val_dst)))"
      ],
      "execution_count": null,
      "outputs": [
        {
          "output_type": "stream",
          "text": [
            "1450\n",
            "1450\n"
          ],
          "name": "stdout"
        }
      ]
    },
    {
      "cell_type": "markdown",
      "metadata": {
        "id": "2JorLAjL2jrI"
      },
      "source": [
        "## Create New Augmentation Folder"
      ]
    },
    {
      "cell_type": "code",
      "metadata": {
        "id": "Oi-LVK9sGcC-"
      },
      "source": [
        "# ALL 5717, 0.3=1715\n",
        "# HEM 2709, 0.3=812"
      ],
      "execution_count": null,
      "outputs": []
    },
    {
      "cell_type": "code",
      "metadata": {
        "id": "0lRWqNzq2vxV"
      },
      "source": [
        "def copyFiles(src, dest, filenames):\n",
        "  for file_name in tqdm(filenames):\n",
        "    shutil.copy(os.path.join(src, file_name), dest)"
      ],
      "execution_count": null,
      "outputs": []
    },
    {
      "cell_type": "code",
      "metadata": {
        "colab": {
          "base_uri": "https://localhost:8080/"
        },
        "id": "8eeiayHXF79-",
        "outputId": "cbef555f-0b37-4614-b21b-0c52f598998d"
      },
      "source": [
        "all_files = os.listdir(dest_all)\n",
        "hem_files = os.listdir(dest_hem)"
      ],
      "execution_count": null,
      "outputs": [
        {
          "output_type": "stream",
          "text": [
            "5822\n",
            "2709\n"
          ],
          "name": "stdout"
        }
      ]
    },
    {
      "cell_type": "code",
      "metadata": {
        "id": "Dt2GMSpGS6Vp"
      },
      "source": [
        "all_indices_aug = np.random.choice(all_files, 1715, replace=False)\n",
        "hem_indices_aug = np.random.choice(hem_files, 812, replace=False)"
      ],
      "execution_count": null,
      "outputs": []
    },
    {
      "cell_type": "code",
      "metadata": {
        "id": "-jRKFb802iwc",
        "colab": {
          "base_uri": "https://localhost:8080/"
        },
        "outputId": "0031b1d9-0e94-43d3-c632-d1f1b15b2c6b"
      },
      "source": [
        "aug_src = dest_hem\n",
        "aug_dest = path + 'aug/' + 'hem'\n",
        "\n",
        "print(len(os.listdir(aug_src)))\n",
        "# copyFiles(aug_src, aug_dest, hem_indices_aug)\n",
        "print(len(os.listdir(aug_dest)))"
      ],
      "execution_count": null,
      "outputs": [
        {
          "output_type": "stream",
          "text": [
            "2709\n",
            "812\n"
          ],
          "name": "stdout"
        }
      ]
    },
    {
      "cell_type": "markdown",
      "metadata": {
        "id": "HIS260Pf7fDM"
      },
      "source": [
        "# Connect to Drive"
      ]
    },
    {
      "cell_type": "code",
      "metadata": {
        "colab": {
          "base_uri": "https://localhost:8080/"
        },
        "id": "K5DDo90Y7R8V",
        "outputId": "062f6a8f-bfb9-4ce1-f5fc-aa4a5ed6863d"
      },
      "source": [
        "from google.colab import drive\n",
        "drive.mount('/content/drive')"
      ],
      "execution_count": null,
      "outputs": [
        {
          "output_type": "stream",
          "text": [
            "Mounted at /content/drive\n"
          ],
          "name": "stdout"
        }
      ]
    },
    {
      "cell_type": "code",
      "metadata": {
        "colab": {
          "base_uri": "https://localhost:8080/"
        },
        "id": "sO7rj-bV7jH5",
        "outputId": "89a2efc3-2af5-4606-d4f0-9495c552eb5c"
      },
      "source": [
        "%cd drive/My\\ Drive/CS\\ M226"
      ],
      "execution_count": null,
      "outputs": [
        {
          "output_type": "stream",
          "text": [
            "/content/drive/.shortcut-targets-by-id/1r7MQOXDGZY7wBy0tWFKzg9Q9qokYEg0J/CS M226\n"
          ],
          "name": "stdout"
        }
      ]
    },
    {
      "cell_type": "markdown",
      "metadata": {
        "id": "Hn_2ggwP7tN2"
      },
      "source": [
        "# Load Model"
      ]
    },
    {
      "cell_type": "code",
      "metadata": {
        "id": "aZpyDdDT7w6V"
      },
      "source": [
        "import tensorflow as tf\n",
        "import numpy as np\n",
        "import matplotlib.pyplot as plt\n",
        "import pandas as pd\n",
        "\n",
        "from tensorflow.keras.layers import Dense, Dropout, Activation, Flatten, GlobalAveragePooling2D\n",
        "from tensorflow.keras.layers import Conv2D, MaxPooling2D\n",
        "from tensorflow.keras.layers.experimental import preprocessing\n",
        "#from cnnArchitectures.Xception import get_xception_model\n",
        "from sklearn.model_selection import StratifiedKFold\n",
        "import os\n",
        "import datetime\n",
        "\n",
        "%matplotlib inline\n",
        "%reload_ext tensorboard"
      ],
      "execution_count": null,
      "outputs": []
    },
    {
      "cell_type": "code",
      "metadata": {
        "id": "jI7Qm5au8ELt"
      },
      "source": [
        "# Set up dataset parameters\n",
        "BATCH_SIZE = 16\n",
        "IMAGE_SIZE = (256, 256)\n",
        "SEED = 322\n",
        "PREFETCH_BUFFER_SIZE = 400\n",
        "SHUFFLE_BUFFER_SIZE = 1000\n",
        "CACHE_DIR = \"caches/ds_cache\"\n",
        "ds_params = dict(\n",
        "    labels=\"inferred\",\n",
        "    label_mode=\"categorical\",\n",
        "    class_names=[\"all\", \"hem\"],\n",
        "    color_mode=\"rgb\",\n",
        "    batch_size=BATCH_SIZE,\n",
        "    image_size=IMAGE_SIZE,\n",
        "    seed=SEED\n",
        ")"
      ],
      "execution_count": null,
      "outputs": []
    },
    {
      "cell_type": "code",
      "metadata": {
        "id": "APhI4OnM74na"
      },
      "source": [
        "def get_cnn_model_1(input_shape):\n",
        "\n",
        "    kernel_initializer = 'lecun_uniform'\n",
        "    bias_initializer = 'lecun_uniform'\n",
        "    kernel_regularizer = None\n",
        "    activation = \"selu\"\n",
        "\n",
        "    model = tf.keras.Sequential()\n",
        "    model.add(Conv2D(32, (3, 3), input_shape=input_shape, \n",
        "                     data_format=\"channels_last\", kernel_initializer=kernel_initializer, \n",
        "                     bias_initializer=bias_initializer, kernel_regularizer=kernel_regularizer\n",
        "                    ))\n",
        "    model.add(Activation(activation))\n",
        "    model.add(MaxPooling2D(pool_size=(2, 2)))\n",
        "\n",
        "    model.add(Conv2D(64, (3, 3), data_format=\"channels_last\", kernel_initializer=kernel_initializer, \n",
        "                     bias_initializer=bias_initializer, kernel_regularizer=kernel_regularizer\n",
        "                    ))\n",
        "    model.add(Activation(activation))\n",
        "    model.add(MaxPooling2D(pool_size=(3, 3)))\n",
        "\n",
        "    model.add(Conv2D(128, (3, 3), data_format=\"channels_last\", kernel_initializer=kernel_initializer, \n",
        "                     bias_initializer=bias_initializer, kernel_regularizer=kernel_regularizer\n",
        "                    ))\n",
        "    model.add(Activation(activation))\n",
        "    model.add(MaxPooling2D(pool_size=(3, 3)))\n",
        "\n",
        "    model.add(Conv2D(256, (3, 3), data_format=\"channels_last\", kernel_initializer=kernel_initializer, \n",
        "                     bias_initializer=bias_initializer, kernel_regularizer=kernel_regularizer\n",
        "                    ))\n",
        "    model.add(Activation(activation))\n",
        "    model.add(Dropout(0.6))\n",
        "\n",
        "    # adding fully connected layers\n",
        "    model.add(Flatten())\n",
        "    model.add(Dense(512, kernel_initializer=kernel_initializer, bias_initializer=bias_initializer))\n",
        "    model.add(Activation(activation))\n",
        "    model.add(Dropout(0.8))\n",
        "    model.add(Dense(256, kernel_initializer=kernel_initializer, bias_initializer=bias_initializer))\n",
        "    model.add(Activation(activation))\n",
        "    model.add(Dropout(0.8))\n",
        "    model.add(Dense(128, kernel_initializer=kernel_initializer, bias_initializer=bias_initializer))\n",
        "    model.add(Activation(activation))\n",
        "    model.add(Dropout(0.7))\n",
        "    model.add(Dense(64, kernel_initializer=kernel_initializer, bias_initializer=bias_initializer))\n",
        "\n",
        "    model.add(Dense(1))\n",
        "    model.add(Activation('sigmoid'))\n",
        "\n",
        "    return model"
      ],
      "execution_count": null,
      "outputs": []
    },
    {
      "cell_type": "code",
      "metadata": {
        "colab": {
          "base_uri": "https://localhost:8080/"
        },
        "id": "IzkPT2ep7yd2",
        "outputId": "9814b62b-9d84-457e-9c40-0d4444319784"
      },
      "source": [
        "model = get_cnn_model_1(IMAGE_SIZE + (3,))\n",
        "model.summary()"
      ],
      "execution_count": null,
      "outputs": [
        {
          "output_type": "stream",
          "text": [
            "Model: \"sequential\"\n",
            "_________________________________________________________________\n",
            "Layer (type)                 Output Shape              Param #   \n",
            "=================================================================\n",
            "conv2d (Conv2D)              (None, 254, 254, 32)      896       \n",
            "_________________________________________________________________\n",
            "activation (Activation)      (None, 254, 254, 32)      0         \n",
            "_________________________________________________________________\n",
            "max_pooling2d (MaxPooling2D) (None, 127, 127, 32)      0         \n",
            "_________________________________________________________________\n",
            "conv2d_1 (Conv2D)            (None, 125, 125, 64)      18496     \n",
            "_________________________________________________________________\n",
            "activation_1 (Activation)    (None, 125, 125, 64)      0         \n",
            "_________________________________________________________________\n",
            "max_pooling2d_1 (MaxPooling2 (None, 41, 41, 64)        0         \n",
            "_________________________________________________________________\n",
            "conv2d_2 (Conv2D)            (None, 39, 39, 128)       73856     \n",
            "_________________________________________________________________\n",
            "activation_2 (Activation)    (None, 39, 39, 128)       0         \n",
            "_________________________________________________________________\n",
            "max_pooling2d_2 (MaxPooling2 (None, 13, 13, 128)       0         \n",
            "_________________________________________________________________\n",
            "conv2d_3 (Conv2D)            (None, 11, 11, 256)       295168    \n",
            "_________________________________________________________________\n",
            "activation_3 (Activation)    (None, 11, 11, 256)       0         \n",
            "_________________________________________________________________\n",
            "dropout (Dropout)            (None, 11, 11, 256)       0         \n",
            "_________________________________________________________________\n",
            "flatten (Flatten)            (None, 30976)             0         \n",
            "_________________________________________________________________\n",
            "dense (Dense)                (None, 512)               15860224  \n",
            "_________________________________________________________________\n",
            "activation_4 (Activation)    (None, 512)               0         \n",
            "_________________________________________________________________\n",
            "dropout_1 (Dropout)          (None, 512)               0         \n",
            "_________________________________________________________________\n",
            "dense_1 (Dense)              (None, 256)               131328    \n",
            "_________________________________________________________________\n",
            "activation_5 (Activation)    (None, 256)               0         \n",
            "_________________________________________________________________\n",
            "dropout_2 (Dropout)          (None, 256)               0         \n",
            "_________________________________________________________________\n",
            "dense_2 (Dense)              (None, 128)               32896     \n",
            "_________________________________________________________________\n",
            "activation_6 (Activation)    (None, 128)               0         \n",
            "_________________________________________________________________\n",
            "dropout_3 (Dropout)          (None, 128)               0         \n",
            "_________________________________________________________________\n",
            "dense_3 (Dense)              (None, 64)                8256      \n",
            "_________________________________________________________________\n",
            "dense_4 (Dense)              (None, 1)                 65        \n",
            "_________________________________________________________________\n",
            "activation_7 (Activation)    (None, 1)                 0         \n",
            "=================================================================\n",
            "Total params: 16,421,185\n",
            "Trainable params: 16,421,185\n",
            "Non-trainable params: 0\n",
            "_________________________________________________________________\n"
          ],
          "name": "stdout"
        }
      ]
    },
    {
      "cell_type": "code",
      "metadata": {
        "id": "BasBqV4Y78f1"
      },
      "source": [
        "model.load_weights(\"w.h5\")"
      ],
      "execution_count": null,
      "outputs": []
    },
    {
      "cell_type": "code",
      "metadata": {
        "id": "OfMumFHnBEvx"
      },
      "source": [
        "adam_opt = tf.keras.optimizers.Adam(learning_rate=0.0001, amsgrad=True)\n",
        "metrics = [\"accuracy\", tf.keras.metrics.Precision(name=\"precision\")]"
      ],
      "execution_count": null,
      "outputs": []
    },
    {
      "cell_type": "code",
      "metadata": {
        "id": "G1T-6zfZBC0S"
      },
      "source": [
        "# compile our new model\n",
        "model.compile(\n",
        "    optimizer=adam_opt,\n",
        "    loss=tf.keras.losses.BinaryCrossentropy(),\n",
        "    metrics=metrics\n",
        ")"
      ],
      "execution_count": null,
      "outputs": []
    },
    {
      "cell_type": "code",
      "metadata": {
        "colab": {
          "base_uri": "https://localhost:8080/"
        },
        "id": "JT5ft0Ek8a5g",
        "outputId": "bf192125-c5dc-4639-a0f9-b5b6de431b43"
      },
      "source": [
        "model_default = model\n",
        "print(model_default.summary())"
      ],
      "execution_count": null,
      "outputs": [
        {
          "output_type": "stream",
          "text": [
            "Model: \"sequential\"\n",
            "_________________________________________________________________\n",
            "Layer (type)                 Output Shape              Param #   \n",
            "=================================================================\n",
            "conv2d (Conv2D)              (None, 254, 254, 32)      896       \n",
            "_________________________________________________________________\n",
            "activation (Activation)      (None, 254, 254, 32)      0         \n",
            "_________________________________________________________________\n",
            "max_pooling2d (MaxPooling2D) (None, 127, 127, 32)      0         \n",
            "_________________________________________________________________\n",
            "conv2d_1 (Conv2D)            (None, 125, 125, 64)      18496     \n",
            "_________________________________________________________________\n",
            "activation_1 (Activation)    (None, 125, 125, 64)      0         \n",
            "_________________________________________________________________\n",
            "max_pooling2d_1 (MaxPooling2 (None, 41, 41, 64)        0         \n",
            "_________________________________________________________________\n",
            "conv2d_2 (Conv2D)            (None, 39, 39, 128)       73856     \n",
            "_________________________________________________________________\n",
            "activation_2 (Activation)    (None, 39, 39, 128)       0         \n",
            "_________________________________________________________________\n",
            "max_pooling2d_2 (MaxPooling2 (None, 13, 13, 128)       0         \n",
            "_________________________________________________________________\n",
            "conv2d_3 (Conv2D)            (None, 11, 11, 256)       295168    \n",
            "_________________________________________________________________\n",
            "activation_3 (Activation)    (None, 11, 11, 256)       0         \n",
            "_________________________________________________________________\n",
            "dropout (Dropout)            (None, 11, 11, 256)       0         \n",
            "_________________________________________________________________\n",
            "flatten (Flatten)            (None, 30976)             0         \n",
            "_________________________________________________________________\n",
            "dense (Dense)                (None, 512)               15860224  \n",
            "_________________________________________________________________\n",
            "activation_4 (Activation)    (None, 512)               0         \n",
            "_________________________________________________________________\n",
            "dropout_1 (Dropout)          (None, 512)               0         \n",
            "_________________________________________________________________\n",
            "dense_1 (Dense)              (None, 256)               131328    \n",
            "_________________________________________________________________\n",
            "activation_5 (Activation)    (None, 256)               0         \n",
            "_________________________________________________________________\n",
            "dropout_2 (Dropout)          (None, 256)               0         \n",
            "_________________________________________________________________\n",
            "dense_2 (Dense)              (None, 128)               32896     \n",
            "_________________________________________________________________\n",
            "activation_6 (Activation)    (None, 128)               0         \n",
            "_________________________________________________________________\n",
            "dropout_3 (Dropout)          (None, 128)               0         \n",
            "_________________________________________________________________\n",
            "dense_3 (Dense)              (None, 64)                8256      \n",
            "_________________________________________________________________\n",
            "dense_4 (Dense)              (None, 1)                 65        \n",
            "_________________________________________________________________\n",
            "activation_7 (Activation)    (None, 1)                 0         \n",
            "=================================================================\n",
            "Total params: 16,421,185\n",
            "Trainable params: 16,421,185\n",
            "Non-trainable params: 0\n",
            "_________________________________________________________________\n",
            "None\n"
          ],
          "name": "stdout"
        }
      ]
    },
    {
      "cell_type": "markdown",
      "metadata": {
        "id": "MEcJ58dn80ZV"
      },
      "source": [
        "# Create Data Splits"
      ]
    },
    {
      "cell_type": "code",
      "metadata": {
        "colab": {
          "base_uri": "https://localhost:8080/"
        },
        "id": "qdEPwTiA-S2J",
        "outputId": "1873c0e6-c235-4725-d73a-343a6ccec45b"
      },
      "source": [
        "train_data = tf.keras.preprocessing.image_dataset_from_directory(\n",
        "    './C-NMC_Leukemia/training_data/fold_0',\n",
        "    labels=\"inferred\",\n",
        "    class_names=[\"all\", \"hem\"],\n",
        "    label_mode=\"int\",\n",
        "    image_size=IMAGE_SIZE,\n",
        "    batch_size=BATCH_SIZE, \n",
        ")"
      ],
      "execution_count": null,
      "outputs": [
        {
          "output_type": "stream",
          "text": [
            "Found 8531 files belonging to 2 classes.\n"
          ],
          "name": "stdout"
        }
      ]
    },
    {
      "cell_type": "code",
      "metadata": {
        "colab": {
          "base_uri": "https://localhost:8080/"
        },
        "id": "tZ4ng-Xb_ozf",
        "outputId": "745f1813-4387-4baa-c698-bffccc64b868"
      },
      "source": [
        "val_data = tf.keras.preprocessing.image_dataset_from_directory(\n",
        "    './C-NMC_Leukemia/training_data/val',\n",
        "    labels=\"inferred\",\n",
        "    class_names=[\"all\", \"hem\"],\n",
        "    label_mode=\"int\",\n",
        "    image_size=IMAGE_SIZE,\n",
        "    batch_size=BATCH_SIZE, \n",
        "    # seed=100,\n",
        "    # validation_split=0.2,\n",
        "    # subset='validation'\n",
        ")"
      ],
      "execution_count": null,
      "outputs": [
        {
          "output_type": "stream",
          "text": [
            "Found 2130 files belonging to 2 classes.\n"
          ],
          "name": "stdout"
        }
      ]
    },
    {
      "cell_type": "code",
      "metadata": {
        "id": "lUSb-nhAHY7B"
      },
      "source": [
        "test_df = pd.read_csv('./C-NMC_Leukemia/validation_data/C-NMC_test_prelim_phase_data_labels.csv')"
      ],
      "execution_count": null,
      "outputs": []
    },
    {
      "cell_type": "code",
      "metadata": {
        "colab": {
          "base_uri": "https://localhost:8080/"
        },
        "id": "FDpW3PHZHuXt",
        "outputId": "55945517-4a66-425c-c445-86b88f9f6811"
      },
      "source": [
        "test_labels = test_df.labels.values\n",
        "print(test_labels)"
      ],
      "execution_count": null,
      "outputs": [
        {
          "output_type": "stream",
          "text": [
            "[1 1 1 ... 0 1 1]\n"
          ],
          "name": "stdout"
        }
      ]
    },
    {
      "cell_type": "code",
      "metadata": {
        "colab": {
          "base_uri": "https://localhost:8080/"
        },
        "id": "H6Mrw3TUGhX8",
        "outputId": "12fe9981-6404-46d1-d584-f09936fc185c"
      },
      "source": [
        "test_data = tf.keras.preprocessing.image_dataset_from_directory(\n",
        "    './C-NMC_Leukemia/validation_data/',\n",
        "    labels=test_labels.tolist(),\n",
        "    label_mode=\"int\",\n",
        "    image_size=IMAGE_SIZE,\n",
        "    batch_size=BATCH_SIZE, \n",
        ")"
      ],
      "execution_count": null,
      "outputs": [
        {
          "output_type": "stream",
          "text": [
            "Found 1867 files belonging to 1 classes.\n"
          ],
          "name": "stdout"
        }
      ]
    },
    {
      "cell_type": "markdown",
      "metadata": {
        "id": "u5Tg-fPgD92X"
      },
      "source": [
        "# Transfer Learning"
      ]
    },
    {
      "cell_type": "code",
      "metadata": {
        "id": "yytlz_TlEI5Z"
      },
      "source": [
        "# Don't run this\n",
        "for l in model_default.layers[:-5]:\n",
        "  l.trainable = False"
      ],
      "execution_count": null,
      "outputs": []
    },
    {
      "cell_type": "code",
      "metadata": {
        "id": "yMD-uD3bENXO"
      },
      "source": [
        "# Don't run this\n",
        "for l in model_default.layers:\n",
        "  print(l.name, l.trainable)"
      ],
      "execution_count": null,
      "outputs": []
    },
    {
      "cell_type": "code",
      "metadata": {
        "id": "w8uurO5CEVA0"
      },
      "source": [
        "model_checkpoint_callback1 = tf.keras.callbacks.ModelCheckpoint(\n",
        "    filepath=\"./prec_checkpoints/\",\n",
        "    save_weights_only=True,\n",
        "    monitor='val_precision',\n",
        "    mode='max',\n",
        "    save_best_only=True)\n",
        "\n",
        "model_checkpoint_callback2 = tf.keras.callbacks.ModelCheckpoint(\n",
        "    filepath=\"./\",\n",
        "    save_weights_only=True,\n",
        "    monitor='val_accuracy',\n",
        "    mode='max',\n",
        "    save_best_only=True)"
      ],
      "execution_count": null,
      "outputs": []
    },
    {
      "cell_type": "code",
      "metadata": {
        "id": "dBp6Ow5xA5ZF",
        "colab": {
          "base_uri": "https://localhost:8080/"
        },
        "outputId": "5fe6f458-e53f-468e-eaf0-fe7c1df381f9"
      },
      "source": [
        "# One epoch takes like 10-15 minutes, so maybe 3 is the max we have time for\n",
        "model_default_history = model_default.fit(train_data, epochs=5, callbacks=[model_checkpoint_callback1], validation_data=val_data)\n",
        "\n",
        "# model_default.fit(train_0, epochs=20, callbacks=[model_checkpoint_callback1], validation_data=val_0)"
      ],
      "execution_count": null,
      "outputs": [
        {
          "output_type": "stream",
          "text": [
            "Epoch 1/5\n",
            "534/534 [==============================] - 2184s 4s/step - loss: 0.4825 - accuracy: 0.8164 - precision: 0.7789 - val_loss: 0.3605 - val_accuracy: 0.8484 - val_precision: 0.9685\n",
            "Epoch 2/5\n",
            "534/534 [==============================] - 179s 335ms/step - loss: 0.3900 - accuracy: 0.8468 - precision: 0.8338 - val_loss: 0.2692 - val_accuracy: 0.8958 - val_precision: 0.8990\n",
            "Epoch 3/5\n",
            "534/534 [==============================] - 178s 333ms/step - loss: 0.3823 - accuracy: 0.8524 - precision: 0.8472 - val_loss: 0.3039 - val_accuracy: 0.8878 - val_precision: 0.9002\n",
            "Epoch 4/5\n",
            "534/534 [==============================] - 179s 335ms/step - loss: 0.3357 - accuracy: 0.8732 - precision: 0.8727 - val_loss: 0.3790 - val_accuracy: 0.8230 - val_precision: 0.9967\n",
            "Epoch 5/5\n",
            "534/534 [==============================] - 180s 338ms/step - loss: 0.3083 - accuracy: 0.8865 - precision: 0.8867 - val_loss: 0.3602 - val_accuracy: 0.8221 - val_precision: 1.0000\n"
          ],
          "name": "stdout"
        },
        {
          "output_type": "execute_result",
          "data": {
            "text/plain": [
              "<tensorflow.python.keras.callbacks.History at 0x7f1ab45dbd30>"
            ]
          },
          "metadata": {
            "tags": []
          },
          "execution_count": 57
        }
      ]
    },
    {
      "cell_type": "code",
      "metadata": {
        "colab": {
          "base_uri": "https://localhost:8080/"
        },
        "id": "tMUohvAqxFR8",
        "outputId": "10013732-7ff9-426e-80ea-56b86fea4141"
      },
      "source": [
        "# save the model and history (just in case we need it later)\n",
        "import pickle\n",
        "\n",
        "# model_retrain_noise.model.save_weights('./retrain_imbalance/noise')\n",
        "model_default_history.model.save('./retrain_inception_resnet/model_default')\n",
        "\n",
        "model_default_history.model.evaluate(test_data, batch_size=128)"
      ],
      "execution_count": null,
      "outputs": [
        {
          "output_type": "stream",
          "text": [
            "INFO:tensorflow:Assets written to: ./retrain_inception_resnet/model_default/assets\n",
            "117/117 [==============================] - 493s 4s/step - loss: 1.6811 - accuracy: 0.3626 - precision: 0.7302\n"
          ],
          "name": "stdout"
        },
        {
          "output_type": "execute_result",
          "data": {
            "text/plain": [
              "[1.6810966730117798, 0.36261382699012756, 0.7301587462425232]"
            ]
          },
          "metadata": {
            "tags": []
          },
          "execution_count": 59
        }
      ]
    },
    {
      "cell_type": "code",
      "metadata": {
        "id": "XDX6Nq1IxQ8b"
      },
      "source": [
        "# Save history\n",
        "with open('./retrain_inception_resnet/model_default_history', 'wb') as file_pi:\n",
        "  pickle.dump(model_default_history.history, file_pi) "
      ],
      "execution_count": null,
      "outputs": []
    },
    {
      "cell_type": "code",
      "metadata": {
        "id": "zlB113BVUfo6"
      },
      "source": [
        "def transfer_learn(model, epochs, train_data, val_data):\n",
        "\n",
        "  # make last few layers the only trainable ones\n",
        "  for l in model.layers[:-5]:\n",
        "    l.trainable = False\n",
        "\n",
        "  return model.fit(train_data, epochs=epochs, callbacks=[model_checkpoint_callback1], validation_data=val_data)"
      ],
      "execution_count": null,
      "outputs": []
    },
    {
      "cell_type": "code",
      "metadata": {
        "id": "MmyV4brU0dDk"
      },
      "source": [
        "def retrain(model, epochs, train_data, val_data):\n",
        "  for l in model.layers:\n",
        "    l.set_trainable = True\n",
        "  \n",
        "  return model.fit(train_data, epochs=epochs, callbacks=[model_checkpoint_callback1], validation_data=val_data)"
      ],
      "execution_count": null,
      "outputs": []
    },
    {
      "cell_type": "markdown",
      "metadata": {
        "id": "U9hjvlcSU4oG"
      },
      "source": [
        "# Create Augmented Datasets"
      ]
    },
    {
      "cell_type": "code",
      "metadata": {
        "id": "jAoZ9ERPY1GR"
      },
      "source": [
        "import cv2\n",
        "import pandas as pd"
      ],
      "execution_count": null,
      "outputs": []
    },
    {
      "cell_type": "markdown",
      "metadata": {
        "id": "bpacC-4kU6ML"
      },
      "source": [
        "## Code to Combine Generators (didn't work)"
      ]
    },
    {
      "cell_type": "code",
      "metadata": {
        "id": "teWO73gTcIW9"
      },
      "source": [
        "def getDataframe(path):\n",
        "  #return df with filenames and labels, chose 30% of data randomly to put in this df\n",
        "\n",
        "  all = path+'all/'\n",
        "  files = os.listdir(all)\n",
        "  # augment 30% of images\n",
        "  nFilesToAugment = int(len(files) * 0.3)\n",
        "  all_filesToAugment = np.random.choice(files, nFilesToAugment, replace=False)\n",
        "  all_filesToAugment = [all+f for f in all_filesToAugment]\n",
        "\n",
        "  all_labels = ['1'] * nFilesToAugment\n",
        "\n",
        "  hem = path+'hem/'\n",
        "  files = os.listdir(hem)\n",
        "  # augment 30% of images\n",
        "  nFilesToAugment = int(len(files) * 0.3)\n",
        "  hem_filesToAugment = np.random.choice(files, nFilesToAugment, replace=False)\n",
        "  hem_filesToAugment = [hem+f for f in hem_filesToAugment]\n",
        "\n",
        "  hem_labels = ['0'] * nFilesToAugment\n",
        "\n",
        "  # create df\n",
        "  filenames = np.concatenate((all_filesToAugment, hem_filesToAugment), axis=0)\n",
        "  labels = all_labels + hem_labels\n",
        "\n",
        "  d = {\"files\": filenames, \"labels\": labels}\n",
        "  df = pd.DataFrame(data=d)\n",
        "  \n",
        "  # shuffle\n",
        "  df = df.sample(frac=1) \n",
        "\n",
        "  return df"
      ],
      "execution_count": null,
      "outputs": []
    },
    {
      "cell_type": "code",
      "metadata": {
        "id": "a4jnJnhwhV-u"
      },
      "source": [
        "# https://stackoverflow.com/questions/46313525/how-do-i-combine-two-keras-generator-functions\n",
        "def combine_generator(gen1, gen2):\n",
        "    while True:\n",
        "        # yield(next(gen1), next(gen2))\n",
        "        X1i = gen1.next()\n",
        "        X2i = gen2.next()\n",
        "\n",
        "        yield X1i[0], X2i[0]"
      ],
      "execution_count": null,
      "outputs": []
    },
    {
      "cell_type": "code",
      "metadata": {
        "id": "o1ZQx-cbkMbo"
      },
      "source": [
        "seed = 528"
      ],
      "execution_count": null,
      "outputs": []
    },
    {
      "cell_type": "markdown",
      "metadata": {
        "id": "QzdGMdSzVX6m"
      },
      "source": [
        "## Flipped"
      ]
    },
    {
      "cell_type": "code",
      "metadata": {
        "id": "-FhSgTa3tPpM"
      },
      "source": [
        "# dummy preprocessing for flip\n",
        "def preprocessing_flip(img):\n",
        "  # plt.imshow(img)\n",
        "  return img"
      ],
      "execution_count": null,
      "outputs": []
    },
    {
      "cell_type": "code",
      "metadata": {
        "id": "ZYYngzeQV6Cg"
      },
      "source": [
        "datagen = tf.keras.preprocessing.image.ImageDataGenerator(\n",
        "    rescale=1./255, \n",
        "    validation_split=0.2,\n",
        "    horizontal_flip=True,\n",
        "    vertical_flip=True,\n",
        "    zoom_range = 0.2\n",
        "    # preprocessing_function=preprocessing_flip\n",
        ")"
      ],
      "execution_count": null,
      "outputs": []
    },
    {
      "cell_type": "code",
      "metadata": {
        "colab": {
          "base_uri": "https://localhost:8080/"
        },
        "id": "6gsvvdpzU8EW",
        "outputId": "36e51f72-b52c-4431-d0d4-638f9ff0bc5d"
      },
      "source": [
        "train_data_flipped = datagen.flow_from_directory(\n",
        "    './C-NMC_Leukemia/training_data/aug',\n",
        "    class_mode='binary',\n",
        "    target_size=IMAGE_SIZE,\n",
        "    batch_size=BATCH_SIZE\n",
        ")"
      ],
      "execution_count": null,
      "outputs": [
        {
          "output_type": "stream",
          "text": [
            "Found 2527 images belonging to 2 classes.\n"
          ],
          "name": "stdout"
        }
      ]
    },
    {
      "cell_type": "code",
      "metadata": {
        "colab": {
          "base_uri": "https://localhost:8080/"
        },
        "id": "-jb-FZG2tjT4",
        "outputId": "7231bcfa-1138-4299-f012-972043984d79"
      },
      "source": [
        "first_item = train_data_flipped.__getitem__(0)\n",
        "print(first_item.count)"
      ],
      "execution_count": null,
      "outputs": [
        {
          "output_type": "stream",
          "text": [
            "<built-in method count of tuple object at 0x7f88076dd608>\n"
          ],
          "name": "stdout"
        }
      ]
    },
    {
      "cell_type": "markdown",
      "metadata": {
        "id": "7kL07iI0YG0w"
      },
      "source": [
        "## Blur (train_data_blur)"
      ]
    },
    {
      "cell_type": "code",
      "metadata": {
        "id": "BqgA1EVN729o"
      },
      "source": [
        "np.random.seed(1234)"
      ],
      "execution_count": null,
      "outputs": []
    },
    {
      "cell_type": "code",
      "metadata": {
        "id": "-QYKN5plYkjC"
      },
      "source": [
        "def preprocessing_blur(img):\n",
        "  number_list = np.random.choice(3, 1, p = [0.33, 0.37, 0.30])\n",
        "  if number_list[0] == 0:\n",
        "    newImg = cv2.GaussianBlur(img, (21, 21),0)\n",
        "    return newImg\n",
        "  return img"
      ],
      "execution_count": null,
      "outputs": []
    },
    {
      "cell_type": "code",
      "metadata": {
        "id": "QX8b35kuYFmL"
      },
      "source": [
        "datagen_blur = tf.keras.preprocessing.image.ImageDataGenerator(\n",
        "    # rescale=1./255, \n",
        "    horizontal_flip=True,\n",
        "    vertical_flip=True,\n",
        "    zoom_range = 0.2,\n",
        "    preprocessing_function=preprocessing_blur,\n",
        "    featurewise_center=True,\n",
        "    featurewise_std_normalization=True\n",
        ")"
      ],
      "execution_count": null,
      "outputs": []
    },
    {
      "cell_type": "code",
      "metadata": {
        "id": "XIKMCkL-lqnY"
      },
      "source": [
        "# df_blur = getDataframe('./C-NMC_Leukemia/training_data/train/')"
      ],
      "execution_count": null,
      "outputs": []
    },
    {
      "cell_type": "code",
      "metadata": {
        "colab": {
          "base_uri": "https://localhost:8080/"
        },
        "id": "0JsYnunMYMQA",
        "outputId": "b6ae9652-7ec0-4ae5-98a2-a81f90328301"
      },
      "source": [
        "train_data_blur = datagen_blur.flow_from_directory (\n",
        "    './C-NMC_Leukemia/training_data/fold_0',\n",
        "    class_mode='binary',\n",
        "    target_size=IMAGE_SIZE,\n",
        "    batch_size=BATCH_SIZE,\n",
        "    color_mode='rgb'\n",
        "    # seed=seed\n",
        ")"
      ],
      "execution_count": null,
      "outputs": [
        {
          "output_type": "stream",
          "text": [
            "Found 8531 images belonging to 2 classes.\n"
          ],
          "name": "stdout"
        }
      ]
    },
    {
      "cell_type": "markdown",
      "metadata": {
        "id": "TuiEbFHepDa9"
      },
      "source": [
        "## Noise (train_data_noise)"
      ]
    },
    {
      "cell_type": "code",
      "metadata": {
        "id": "RS8qeUpOnPZu"
      },
      "source": [
        "from skimage.util import random_noise"
      ],
      "execution_count": null,
      "outputs": []
    },
    {
      "cell_type": "code",
      "metadata": {
        "id": "GlJcvZAOpHFi"
      },
      "source": [
        "def preprocessing_noise(img):\n",
        "  number_list = np.random.choice(3, 1, p = [0.33, 0.37, 0.30])\n",
        "  if number_list[0] == 0:\n",
        "    newImg = random_noise(img, mode='gaussian', mean=0, var=0.1, clip=False)\n",
        "    return newImg\n",
        "  return img"
      ],
      "execution_count": null,
      "outputs": []
    },
    {
      "cell_type": "code",
      "metadata": {
        "id": "riHWkDiEpRiL"
      },
      "source": [
        "datagen_noise = tf.keras.preprocessing.image.ImageDataGenerator(\n",
        "    # rescale=1./255, \n",
        "    horizontal_flip=True,\n",
        "    vertical_flip=True,\n",
        "    zoom_range = 0.2,\n",
        "    preprocessing_function=preprocessing_noise,\n",
        ")"
      ],
      "execution_count": null,
      "outputs": []
    },
    {
      "cell_type": "code",
      "metadata": {
        "colab": {
          "base_uri": "https://localhost:8080/"
        },
        "id": "lzuPzbskpadH",
        "outputId": "c48048c3-1c47-4545-c9b0-7b4803404bfa"
      },
      "source": [
        "train_data_noise = datagen_noise.flow_from_directory (\n",
        "    './C-NMC_Leukemia/training_data/fold_0',\n",
        "    class_mode='binary',\n",
        "    target_size=IMAGE_SIZE,\n",
        "    batch_size=BATCH_SIZE, \n",
        ")"
      ],
      "execution_count": null,
      "outputs": [
        {
          "output_type": "stream",
          "text": [
            "Found 8531 images belonging to 2 classes.\n"
          ],
          "name": "stdout"
        }
      ]
    },
    {
      "cell_type": "markdown",
      "metadata": {
        "id": "AklIMiT3riLv"
      },
      "source": [
        "## Greyscale (train_data_grey)"
      ]
    },
    {
      "cell_type": "code",
      "metadata": {
        "id": "Lz1qQjA_rhCY"
      },
      "source": [
        "def preprocessing_grey(img):\n",
        "  return random_noise(img, mode='gaussian', mean=0, var=0.01, clip=True)"
      ],
      "execution_count": null,
      "outputs": []
    },
    {
      "cell_type": "code",
      "metadata": {
        "id": "HQVhLrRmr13D"
      },
      "source": [
        "datagen_grey = tf.keras.preprocessing.image.ImageDataGenerator(\n",
        "    rescale=1./255, \n",
        "    horizontal_flip=True,\n",
        "    vertical_flip=True,\n",
        "    zoom_range = 0.2,\n",
        "    preprocessing_function=preprocessing_grey,\n",
        ")"
      ],
      "execution_count": null,
      "outputs": []
    },
    {
      "cell_type": "code",
      "metadata": {
        "id": "PhldDDBAr1qX"
      },
      "source": [
        "# df_grey = getDataframe('./C-NMC_Leukemia/training_data/train/')"
      ],
      "execution_count": null,
      "outputs": []
    },
    {
      "cell_type": "code",
      "metadata": {
        "colab": {
          "base_uri": "https://localhost:8080/"
        },
        "id": "NB4WEaDUr0_a",
        "outputId": "5302b6a6-d202-484e-f386-2d4e711c88da"
      },
      "source": [
        "train_data_grey = datagen_noise.flow_from_directory (\n",
        "    './C-NMC_Leukemia/training_data/aug',\n",
        "    class_mode='binary',\n",
        "    target_size=IMAGE_SIZE,\n",
        "    batch_size=BATCH_SIZE, \n",
        ")"
      ],
      "execution_count": null,
      "outputs": [
        {
          "output_type": "stream",
          "text": [
            "Found 2527 images belonging to 2 classes.\n"
          ],
          "name": "stdout"
        }
      ]
    },
    {
      "cell_type": "code",
      "metadata": {
        "id": "T01fo9xVr0tZ"
      },
      "source": [
        "# train_data_grey = zip(train_data, train_data_grey)"
      ],
      "execution_count": null,
      "outputs": []
    },
    {
      "cell_type": "markdown",
      "metadata": {
        "id": "QnoQfJMRKTdr"
      },
      "source": [
        "# Evaluate Default Model"
      ]
    },
    {
      "cell_type": "code",
      "metadata": {
        "colab": {
          "base_uri": "https://localhost:8080/"
        },
        "id": "nAzCnN-SEdN5",
        "outputId": "5447b5de-d8b0-43e1-f314-cde66aa7f00b"
      },
      "source": [
        "results = model_default.evaluate(test_images, batch_size=128)\n",
        "print(\"test loss, test acc:\", results)"
      ],
      "execution_count": null,
      "outputs": [
        {
          "output_type": "stream",
          "text": [
            "117/117 [==============================] - 477s 4s/step - loss: 1.5249 - accuracy: 0.3739 - precision: 0.6786\n",
            "test loss, test acc: [1.5248767137527466, 0.37386181950569153, 0.6785714030265808]\n"
          ],
          "name": "stdout"
        }
      ]
    },
    {
      "cell_type": "markdown",
      "metadata": {
        "id": "x9M8Qr2eXSdL"
      },
      "source": [
        "# Full Workflow"
      ]
    },
    {
      "cell_type": "markdown",
      "metadata": {
        "id": "lqqPa6mOp6k7"
      },
      "source": [
        "## Retrain Flipped Transfer Learning Model"
      ]
    },
    {
      "cell_type": "code",
      "metadata": {
        "id": "WnXcs5CqXRti",
        "colab": {
          "base_uri": "https://localhost:8080/"
        },
        "outputId": "7d665899-6b66-46b4-eb4a-bbf09182b9be"
      },
      "source": [
        "# re-train flipped transfer learning model\n",
        "\n",
        "model_flipped = transfer_learn(model_default, 5, train_data_flipped, val_data)\n",
        "# model_flipped.model.save_weights(\"./w_flipped.hdf5\")"
      ],
      "execution_count": null,
      "outputs": [
        {
          "output_type": "stream",
          "text": [
            "Epoch 1/5\n",
            "158/158 [==============================] - 1344s 9s/step - loss: 0.6446 - accuracy: 0.6791 - precision: 0.5015 - val_loss: 0.6322 - val_accuracy: 0.8178 - val_precision: 0.7500\n",
            "Epoch 2/5\n",
            "158/158 [==============================] - 57s 359ms/step - loss: 0.5552 - accuracy: 0.7372 - precision: 0.6462 - val_loss: 0.7729 - val_accuracy: 0.8056 - val_precision: 0.6962\n",
            "Epoch 3/5\n",
            "158/158 [==============================] - 48s 303ms/step - loss: 0.5470 - accuracy: 0.7511 - precision: 0.6770 - val_loss: 1.5111 - val_accuracy: 0.7714 - val_precision: 0.6059\n",
            "Epoch 4/5\n",
            "158/158 [==============================] - 48s 304ms/step - loss: 0.5090 - accuracy: 0.7677 - precision: 0.7135 - val_loss: 2.7006 - val_accuracy: 0.7352 - val_precision: 0.5561\n",
            "Epoch 5/5\n",
            "158/158 [==============================] - 47s 299ms/step - loss: 0.5007 - accuracy: 0.7780 - precision: 0.7278 - val_loss: 3.2969 - val_accuracy: 0.7042 - val_precision: 0.5222\n"
          ],
          "name": "stdout"
        }
      ]
    },
    {
      "cell_type": "code",
      "metadata": {
        "id": "gHG9XVVt_qy7"
      },
      "source": [
        "import pickle"
      ],
      "execution_count": null,
      "outputs": []
    },
    {
      "cell_type": "code",
      "metadata": {
        "id": "rqKirU4BqYNd"
      },
      "source": [
        "# model_retrain_noise.model.save_weights('./retrain_imbalance/noise')\n",
        "model_flipped.model.save('./retrain_inception_resnet/flipped')\n",
        "\n",
        "model_flipped.model.evaluate(test_data, batch_size=128)\n"
      ],
      "execution_count": null,
      "outputs": []
    },
    {
      "cell_type": "code",
      "metadata": {
        "id": "Nwn4D7Cd_i27"
      },
      "source": [
        "# Save history\n",
        "with open('./retrain_inception_resnet/flipped_history', 'wb') as file_pi:\n",
        "  pickle.dump(model_flipped.history, file_pi) "
      ],
      "execution_count": null,
      "outputs": []
    },
    {
      "cell_type": "code",
      "metadata": {
        "id": "6kzNnGUVXhGT"
      },
      "source": [
        "# evaluate results\n",
        "# results_flipped = model_default.evaluate(test_images, batch_size=128)\n",
        "# print(\"test loss, test acc:\", results_flipped)"
      ],
      "execution_count": null,
      "outputs": []
    },
    {
      "cell_type": "markdown",
      "metadata": {
        "id": "YWVFnTB1sIuB"
      },
      "source": [
        "## Retrain Noise Transfer Learning Model\n",
        "* @Marlin, just replicate the 3 cells below for each augmentation dataset I created\n",
        "  * 3 epochs take me like an hour, but you can try more if you want\n",
        "* If you get through those, try combining augmentations by looking at the code in section 'Created Augmented Datasets'"
      ]
    },
    {
      "cell_type": "code",
      "metadata": {
        "colab": {
          "base_uri": "https://localhost:8080/"
        },
        "id": "dGkGFiS5qgJ9",
        "outputId": "e9f06c5b-7441-4033-ef9c-25c2714fc280"
      },
      "source": [
        "# Noise\n",
        "model_noise = transfer_learn(model_default, 5, train_data_flipped, val_data)"
      ],
      "execution_count": null,
      "outputs": [
        {
          "output_type": "stream",
          "text": [
            "Epoch 1/5\n",
            "158/158 [==============================] - 48s 302ms/step - loss: 0.4636 - accuracy: 0.7998 - precision: 0.7567 - val_loss: 11.2080 - val_accuracy: 0.4901 - val_precision: 0.3803\n",
            "Epoch 2/5\n",
            "158/158 [==============================] - 48s 303ms/step - loss: 0.4360 - accuracy: 0.8077 - precision: 0.7717 - val_loss: 6.2677 - val_accuracy: 0.5169 - val_precision: 0.3927\n",
            "Epoch 3/5\n",
            "158/158 [==============================] - 48s 302ms/step - loss: 0.4282 - accuracy: 0.8223 - precision: 0.7923 - val_loss: 7.2848 - val_accuracy: 0.5089 - val_precision: 0.3895\n",
            "Epoch 4/5\n",
            "158/158 [==============================] - 48s 304ms/step - loss: 0.4149 - accuracy: 0.8294 - precision: 0.8000 - val_loss: 12.2140 - val_accuracy: 0.4202 - val_precision: 0.3520\n",
            "Epoch 5/5\n",
            "158/158 [==============================] - 48s 303ms/step - loss: 0.3916 - accuracy: 0.8350 - precision: 0.8006 - val_loss: 8.3884 - val_accuracy: 0.4648 - val_precision: 0.3705\n"
          ],
          "name": "stdout"
        }
      ]
    },
    {
      "cell_type": "code",
      "metadata": {
        "id": "Op7OGpuhrQw1"
      },
      "source": [
        "# model_noise.model.save_weights(\"./w_noise.hdf5\")"
      ],
      "execution_count": null,
      "outputs": []
    },
    {
      "cell_type": "code",
      "metadata": {
        "colab": {
          "base_uri": "https://localhost:8080/"
        },
        "id": "DWUTfAGRwLly",
        "outputId": "e29d8a7a-fb00-466c-ae90-8fe379fe41d3"
      },
      "source": [
        "# model_retrain_noise.model.save_weights('./retrain_imbalance/noise')\n",
        "model_noise.model.save('./retrain_inception_resnet/noise')\n",
        "\n",
        "model_noise.model.evaluate(test_data, batch_size=128)"
      ],
      "execution_count": null,
      "outputs": [
        {
          "output_type": "stream",
          "text": [
            "INFO:tensorflow:Assets written to: ./retrain_inception_resnet/noise/assets\n",
            "117/117 [==============================] - 9s 76ms/step - loss: 1.3184 - accuracy: 0.3685 - precision: 0.6099\n"
          ],
          "name": "stdout"
        },
        {
          "output_type": "execute_result",
          "data": {
            "text/plain": [
              "[1.3183867931365967, 0.3685056269168854, 0.6098901033401489]"
            ]
          },
          "metadata": {
            "tags": []
          },
          "execution_count": 37
        }
      ]
    },
    {
      "cell_type": "code",
      "metadata": {
        "id": "soc2UeQK_92m"
      },
      "source": [
        "# Save history\n",
        "with open('./retrain_inception_resnet/noise_history', 'wb') as file_pi:\n",
        "  pickle.dump(model_noise.history, file_pi) "
      ],
      "execution_count": null,
      "outputs": []
    },
    {
      "cell_type": "code",
      "metadata": {
        "id": "Iil828HDqkNI",
        "colab": {
          "base_uri": "https://localhost:8080/"
        },
        "outputId": "a27e0710-ac2b-412c-ea87-dac4729f51ff"
      },
      "source": [
        "# results_noise = model_noise.model.evaluate(test_data, batch_size=128)\n",
        "# print(\"test loss, test acc:\", results_noise)"
      ],
      "execution_count": null,
      "outputs": [
        {
          "output_type": "stream",
          "text": [
            "117/117 [==============================] - 29s 251ms/step - loss: 21.8192 - accuracy: 0.6508 - precision: 0.6528\n",
            "test loss, test acc: [21.819196701049805, 0.6507766246795654, 0.652830183506012]\n"
          ],
          "name": "stdout"
        }
      ]
    },
    {
      "cell_type": "markdown",
      "metadata": {
        "id": "SR8rb7ljrPca"
      },
      "source": [
        "## Retrain Blur Transfer Learning Model"
      ]
    },
    {
      "cell_type": "code",
      "metadata": {
        "colab": {
          "base_uri": "https://localhost:8080/"
        },
        "id": "OUxofydfrQ1Y",
        "outputId": "908cb1a8-d04c-461a-d0e4-dd74f9e71e14"
      },
      "source": [
        "# Noise\n",
        "model_blur = transfer_learn(model_default, 5, train_data_blur, val_data)"
      ],
      "execution_count": null,
      "outputs": [
        {
          "output_type": "stream",
          "text": [
            "/usr/local/lib/python3.6/dist-packages/keras_preprocessing/image/image_data_generator.py:720: UserWarning: This ImageDataGenerator specifies `featurewise_center`, but it hasn't been fit on any training data. Fit it first by calling `.fit(numpy_data)`.\n",
            "  warnings.warn('This ImageDataGenerator specifies '\n",
            "/usr/local/lib/python3.6/dist-packages/keras_preprocessing/image/image_data_generator.py:728: UserWarning: This ImageDataGenerator specifies `featurewise_std_normalization`, but it hasn't been fit on any training data. Fit it first by calling `.fit(numpy_data)`.\n",
            "  warnings.warn('This ImageDataGenerator specifies '\n"
          ],
          "name": "stderr"
        },
        {
          "output_type": "stream",
          "text": [
            "Epoch 1/5\n",
            "534/534 [==============================] - 2289s 4s/step - loss: 0.7245 - accuracy: 0.7209 - precision: 0.5989 - val_loss: 0.4399 - val_accuracy: 0.7920 - val_precision: 0.9958\n",
            "Epoch 2/5\n",
            "534/534 [==============================] - 196s 367ms/step - loss: 0.4956 - accuracy: 0.7861 - precision: 0.7509 - val_loss: 0.3538 - val_accuracy: 0.8498 - val_precision: 0.9545\n",
            "Epoch 3/5\n",
            "534/534 [==============================] - 197s 369ms/step - loss: 0.4655 - accuracy: 0.8020 - precision: 0.7881 - val_loss: 0.4038 - val_accuracy: 0.8122 - val_precision: 0.9965\n",
            "Epoch 4/5\n",
            "534/534 [==============================] - 193s 362ms/step - loss: 0.4458 - accuracy: 0.8157 - precision: 0.8068 - val_loss: 0.3361 - val_accuracy: 0.8441 - val_precision: 0.9807\n",
            "Epoch 5/5\n",
            "534/534 [==============================] - 192s 360ms/step - loss: 0.4332 - accuracy: 0.8212 - precision: 0.8071 - val_loss: 0.2963 - val_accuracy: 0.8812 - val_precision: 0.9211\n"
          ],
          "name": "stdout"
        }
      ]
    },
    {
      "cell_type": "code",
      "metadata": {
        "id": "20iVpkuUrS4x"
      },
      "source": [
        "# model_blur.model.save_weights(\"./w_noise.hdf5\")"
      ],
      "execution_count": null,
      "outputs": []
    },
    {
      "cell_type": "code",
      "metadata": {
        "colab": {
          "base_uri": "https://localhost:8080/"
        },
        "id": "_AYTwebowNQf",
        "outputId": "dce2cce1-274a-4524-ecc5-a2a4ddbb32bf"
      },
      "source": [
        "# model_retrain_noise.model.save_weights('./retrain_imbalance/noise')\n",
        "model_blur.model.save('./retrain_inception_resnet/blur')\n",
        "\n",
        "model_blur.model.evaluate(test_data, batch_size=128)"
      ],
      "execution_count": null,
      "outputs": [
        {
          "output_type": "stream",
          "text": [
            "INFO:tensorflow:Assets written to: ./retrain_inception_resnet/blur/assets\n",
            "117/117 [==============================] - 9s 73ms/step - loss: 1.3184 - accuracy: 0.3685 - precision: 0.6099\n"
          ],
          "name": "stdout"
        },
        {
          "output_type": "execute_result",
          "data": {
            "text/plain": [
              "[1.3183866739273071, 0.3685056269168854, 0.6098901033401489]"
            ]
          },
          "metadata": {
            "tags": []
          },
          "execution_count": 39
        }
      ]
    },
    {
      "cell_type": "code",
      "metadata": {
        "id": "HaXYa4shAOrr"
      },
      "source": [
        "# Save history\n",
        "with open('./retrain_inception_resnet/blur_history', 'wb') as file_pi:\n",
        "  pickle.dump(model_blur.history, file_pi) "
      ],
      "execution_count": null,
      "outputs": []
    },
    {
      "cell_type": "code",
      "metadata": {
        "id": "7kiuQdYKrU4z"
      },
      "source": [
        "# results_noise = model_noise.model.evaluate(test_data, batch_size=128)\n",
        "# print(\"test loss, test acc:\", results_noise)"
      ],
      "execution_count": null,
      "outputs": []
    },
    {
      "cell_type": "markdown",
      "metadata": {
        "id": "2aQPKB2HnQiL"
      },
      "source": [
        "# Model replication for ther datasets"
      ]
    },
    {
      "cell_type": "markdown",
      "metadata": {
        "id": "svCjh09Ypgcy"
      },
      "source": [
        "## Blur"
      ]
    },
    {
      "cell_type": "code",
      "metadata": {
        "id": "egga0Kw6ptVj"
      },
      "source": [
        "# Blur\n",
        "model_blur = transfer_learn(model_default, 5, test, val_data)"
      ],
      "execution_count": null,
      "outputs": []
    },
    {
      "cell_type": "code",
      "metadata": {
        "colab": {
          "base_uri": "https://localhost:8080/"
        },
        "id": "ScvmHwtaTJCw",
        "outputId": "c968e9d8-19ce-440e-e085-1885f0149ce6"
      },
      "source": [
        "print(model_blur)\n",
        "print(model_blur.model.get_weights)"
      ],
      "execution_count": null,
      "outputs": [
        {
          "output_type": "stream",
          "text": [
            "<tensorflow.python.keras.callbacks.History object at 0x7fd492c8d668>\n",
            "<bound method Model.get_weights of <tensorflow.python.keras.engine.sequential.Sequential object at 0x7fd4f5cbe978>>\n"
          ],
          "name": "stdout"
        }
      ]
    },
    {
      "cell_type": "code",
      "metadata": {
        "id": "bkJoY3FYp4Vr"
      },
      "source": [
        "# model_blur.save_weights(\"./w_blur.hdf5\")\n",
        "\n",
        "model_blur.model.save_weights('./w_blur.hdf5')"
      ],
      "execution_count": null,
      "outputs": []
    },
    {
      "cell_type": "code",
      "metadata": {
        "id": "tqofCngkp8yx",
        "colab": {
          "base_uri": "https://localhost:8080/"
        },
        "outputId": "222bf09c-b888-4c94-9261-b21ca72c68df"
      },
      "source": [
        "# replacing test_images for test_data\n",
        "\n",
        "results_blur = model_blur.model.evaluate(test_data, batch_size=128)\n",
        "print(\"test loss, test acc:\", results_blur)"
      ],
      "execution_count": null,
      "outputs": [
        {
          "output_type": "stream",
          "text": [
            "117/117 [==============================] - 485s 4s/step - loss: 3.7525 - accuracy: 0.5983 - precision: 0.6548\n",
            "test loss, test acc: [3.752495527267456, 0.5982860326766968, 0.6547854542732239]\n"
          ],
          "name": "stdout"
        }
      ]
    },
    {
      "cell_type": "markdown",
      "metadata": {
        "id": "uDo6dS83pihB"
      },
      "source": [
        "## Grayscale"
      ]
    },
    {
      "cell_type": "code",
      "metadata": {
        "id": "ATdzmW76qFQE",
        "colab": {
          "base_uri": "https://localhost:8080/"
        },
        "outputId": "d61e211c-1f9d-4c2b-ac10-ea2d8883e3fe"
      },
      "source": [
        "# Grayscale\n",
        "model_grayscale = transfer_learn(model_default, 3, train_data_flipped, val_data)"
      ],
      "execution_count": null,
      "outputs": [
        {
          "output_type": "stream",
          "text": [
            "Epoch 1/3\n",
            "427/427 [==============================] - 163s 382ms/step - loss: 0.4542 - accuracy: 0.8072 - precision: 0.6468 - val_loss: 7.4846 - val_accuracy: 0.6906 - val_precision: 0.6934\n",
            "Epoch 2/3\n",
            "427/427 [==============================] - 161s 376ms/step - loss: 0.4300 - accuracy: 0.8244 - precision: 0.6923 - val_loss: 11.0075 - val_accuracy: 0.6826 - val_precision: 0.6825\n",
            "Epoch 3/3\n",
            "427/427 [==============================] - 160s 376ms/step - loss: 0.4058 - accuracy: 0.8332 - precision: 0.7258 - val_loss: 19.0789 - val_accuracy: 0.6821 - val_precision: 0.6823\n"
          ],
          "name": "stdout"
        }
      ]
    },
    {
      "cell_type": "code",
      "metadata": {
        "id": "w07sTumCqKmq"
      },
      "source": [
        "model_grayscale.model.save_weights(\"./w_grayscale.hdf5\")"
      ],
      "execution_count": null,
      "outputs": []
    },
    {
      "cell_type": "code",
      "metadata": {
        "id": "aUE0NVTgqPNK",
        "colab": {
          "base_uri": "https://localhost:8080/"
        },
        "outputId": "88f3472c-0688-4619-84cb-efe1233b8fac"
      },
      "source": [
        "results_grayscale = model_grayscale.model.evaluate(test_data, batch_size=128)\n",
        "print(\"test loss, test acc:\", results_grayscale)"
      ],
      "execution_count": null,
      "outputs": [
        {
          "output_type": "stream",
          "text": [
            "117/117 [==============================] - 29s 251ms/step - loss: 24.5485 - accuracy: 0.6513 - precision: 0.6527\n",
            "test loss, test acc: [24.548465728759766, 0.6513122916221619, 0.6526881456375122]\n"
          ],
          "name": "stdout"
        }
      ]
    },
    {
      "cell_type": "code",
      "metadata": {
        "id": "ORWIDGqHfeGx"
      },
      "source": [
        "train_data_grey_zip = zip(train_data, train_data_grey)"
      ],
      "execution_count": null,
      "outputs": []
    },
    {
      "cell_type": "code",
      "metadata": {
        "id": "QWQgXxiJfhEa"
      },
      "source": [
        "# Grayscale\n",
        "model_grayscale_new = transfer_learn(model_default, 3, train_data_grey_zip, val_data)"
      ],
      "execution_count": null,
      "outputs": []
    },
    {
      "cell_type": "code",
      "metadata": {
        "id": "RoUHg56UalBs"
      },
      "source": [
        ""
      ],
      "execution_count": null,
      "outputs": []
    },
    {
      "cell_type": "markdown",
      "metadata": {
        "id": "P_Q5cx6-aliF"
      },
      "source": [
        "# Implementation"
      ]
    },
    {
      "cell_type": "code",
      "metadata": {
        "id": "_rgzUIxp0OOI"
      },
      "source": [
        ""
      ],
      "execution_count": null,
      "outputs": []
    },
    {
      "cell_type": "code",
      "metadata": {
        "colab": {
          "base_uri": "https://localhost:8080/"
        },
        "id": "oBepIE8_awsK",
        "outputId": "6948d041-1983-4136-dffd-e21f225cbd45"
      },
      "source": [
        "# transfer learning on the noise dataset\n",
        "model_train_noise = model_default\n",
        "\n",
        "model_train_noise = transfer_learn(model_train_noise, 3, train_data_noise, val_data)\n"
      ],
      "execution_count": null,
      "outputs": [
        {
          "output_type": "stream",
          "text": [
            "Epoch 1/3\n",
            "158/158 [==============================] - 107s 677ms/step - loss: 0.5563 - accuracy: 0.7471 - precision: 0.6784 - val_loss: 0.4034 - val_accuracy: 0.8225 - val_precision: 0.9809\n",
            "Epoch 2/3\n",
            "158/158 [==============================] - 72s 454ms/step - loss: 0.5123 - accuracy: 0.7824 - precision: 0.7391 - val_loss: 0.4313 - val_accuracy: 0.7962 - val_precision: 0.9920\n",
            "Epoch 3/3\n",
            "158/158 [==============================] - 72s 455ms/step - loss: 0.4899 - accuracy: 0.7915 - precision: 0.7577 - val_loss: 0.5744 - val_accuracy: 0.7446 - val_precision: 1.0000\n"
          ],
          "name": "stdout"
        }
      ]
    },
    {
      "cell_type": "code",
      "metadata": {
        "colab": {
          "base_uri": "https://localhost:8080/"
        },
        "id": "6f1uIbgYayyS",
        "outputId": "cca9bb73-4103-4f34-ba2a-f1620fc56d26"
      },
      "source": [
        "# evaluate the noise model\n",
        "model_noise_eval = model_train_noise.model.evaluate(test_data, batch_size=128)"
      ],
      "execution_count": null,
      "outputs": [
        {
          "output_type": "stream",
          "text": [
            "117/117 [==============================] - 29s 248ms/step - loss: 2.0918 - accuracy: 0.3519 - precision: 0.7647\n"
          ],
          "name": "stdout"
        }
      ]
    },
    {
      "cell_type": "markdown",
      "metadata": {
        "id": "PlyjtUdE1MEa"
      },
      "source": [
        "Retrain Noise Model"
      ]
    },
    {
      "cell_type": "code",
      "metadata": {
        "id": "oq-q3XRB1N2p"
      },
      "source": [
        "# model_retrain_noise = \n",
        "\n",
        "# model = get_cnn_model_1(IMAGE_SIZE + (3,))"
      ],
      "execution_count": null,
      "outputs": []
    },
    {
      "cell_type": "code",
      "metadata": {
        "id": "ZXYPtxgUkhEW"
      },
      "source": [
        "first_item = train_data_noise.__getitem__(0)\n",
        "print(first_item.count)"
      ],
      "execution_count": null,
      "outputs": []
    },
    {
      "cell_type": "code",
      "metadata": {
        "colab": {
          "base_uri": "https://localhost:8080/"
        },
        "id": "MDYRj7uCao6s",
        "outputId": "2416fb17-9e09-419c-cbe4-0e320720be65"
      },
      "source": [
        "# leave this last\n",
        "# transfer learning on the flipped dataset\n",
        "\n",
        "model_train_flipped = model_default\n",
        "\n",
        "model_train_flipped = transfer_learn(model_train_flipped, 1, train_data_flipped, val_data)"
      ],
      "execution_count": null,
      "outputs": [
        {
          "output_type": "stream",
          "text": [
            "158/158 [==============================] - 1365s 9s/step - loss: 0.6499 - accuracy: 0.6664 - precision: 0.4448 - val_loss: 0.8422 - val_accuracy: 0.8047 - val_precision: 0.7050\n"
          ],
          "name": "stdout"
        }
      ]
    },
    {
      "cell_type": "code",
      "metadata": {
        "colab": {
          "base_uri": "https://localhost:8080/"
        },
        "id": "x6uXkD7zau2l",
        "outputId": "17577e19-32de-42c9-9df7-3cba7ac64cbf"
      },
      "source": [
        "# evaluate the flipped model\n",
        "\n",
        "model_flipped_eval = model_train_flipped.model.evaluate(test_data, batch_size=128)"
      ],
      "execution_count": null,
      "outputs": [
        {
          "output_type": "stream",
          "text": [
            "117/117 [==============================] - 438s 4s/step - loss: 2.1606 - accuracy: 0.3996 - precision: 0.6303\n"
          ],
          "name": "stdout"
        }
      ]
    },
    {
      "cell_type": "code",
      "metadata": {
        "id": "NNoCAC6ma03O"
      },
      "source": [
        "# transfer learning on the blur dataset\n",
        "model_train_blur = model_default\n",
        "\n",
        "model_train_blur = transfer_learn(model_train_blur, 3, train_data_blur, val_data)"
      ],
      "execution_count": null,
      "outputs": []
    },
    {
      "cell_type": "code",
      "metadata": {
        "colab": {
          "base_uri": "https://localhost:8080/"
        },
        "id": "DQrF3NcCa3De",
        "outputId": "5e2e3545-57e8-4ffd-a6ac-e53cb9a9e990"
      },
      "source": [
        "# evaluate the blur model\n",
        "model_blur_eval = model_train_blur.model.evaluate(test_data, batch_size=128)"
      ],
      "execution_count": null,
      "outputs": [
        {
          "output_type": "stream",
          "text": [
            "117/117 [==============================] - 29s 248ms/step - loss: 1.4774 - accuracy: 0.3621 - precision: 0.6707\n"
          ],
          "name": "stdout"
        }
      ]
    },
    {
      "cell_type": "markdown",
      "metadata": {
        "id": "WTX7C_NF1XQO"
      },
      "source": [
        "Retrain Model Blur"
      ]
    },
    {
      "cell_type": "code",
      "metadata": {
        "colab": {
          "base_uri": "https://localhost:8080/"
        },
        "id": "Hap8W4Zm1WsC",
        "outputId": "1c7d736b-ce0b-4c45-d340-4aaf1de868da"
      },
      "source": [
        "# TODO instead of train_data_blur try to concatenate both training and \n",
        "\n",
        "model_retrain_blur = model\n",
        "\n",
        "model_retrain_blur = retrain(model_retrain_blur, 5, train_data_blur, val_data)"
      ],
      "execution_count": null,
      "outputs": [
        {
          "output_type": "stream",
          "text": [
            "/usr/local/lib/python3.6/dist-packages/keras_preprocessing/image/image_data_generator.py:720: UserWarning: This ImageDataGenerator specifies `featurewise_center`, but it hasn't been fit on any training data. Fit it first by calling `.fit(numpy_data)`.\n",
            "  warnings.warn('This ImageDataGenerator specifies '\n",
            "/usr/local/lib/python3.6/dist-packages/keras_preprocessing/image/image_data_generator.py:728: UserWarning: This ImageDataGenerator specifies `featurewise_std_normalization`, but it hasn't been fit on any training data. Fit it first by calling `.fit(numpy_data)`.\n",
            "  warnings.warn('This ImageDataGenerator specifies '\n"
          ],
          "name": "stderr"
        },
        {
          "output_type": "stream",
          "text": [
            "Epoch 1/5\n",
            "534/534 [==============================] - 2427s 5s/step - loss: 0.4299 - accuracy: 0.8237 - precision: 0.8186 - val_loss: 0.3269 - val_accuracy: 0.8789 - val_precision: 0.9607\n",
            "Epoch 2/5\n",
            "534/534 [==============================] - 208s 390ms/step - loss: 0.4037 - accuracy: 0.8311 - precision: 0.8401 - val_loss: 0.3423 - val_accuracy: 0.8493 - val_precision: 0.9972\n",
            "Epoch 3/5\n",
            "534/534 [==============================] - 203s 380ms/step - loss: 0.3797 - accuracy: 0.8475 - precision: 0.8574 - val_loss: 0.2819 - val_accuracy: 0.8822 - val_precision: 0.9694\n",
            "Epoch 4/5\n",
            "534/534 [==============================] - 203s 379ms/step - loss: 0.3835 - accuracy: 0.8467 - precision: 0.8533 - val_loss: 0.5372 - val_accuracy: 0.7653 - val_precision: 1.0000\n",
            "Epoch 5/5\n",
            "534/534 [==============================] - 201s 376ms/step - loss: 0.3915 - accuracy: 0.8421 - precision: 0.8464 - val_loss: 0.3792 - val_accuracy: 0.8038 - val_precision: 1.0000\n"
          ],
          "name": "stdout"
        }
      ]
    },
    {
      "cell_type": "code",
      "metadata": {
        "id": "CqccVQgs9IQA"
      },
      "source": [
        "# save the model weights\n",
        "model_retrain_blur.model.save_weights('./retrain_blur.hdf5')"
      ],
      "execution_count": null,
      "outputs": []
    },
    {
      "cell_type": "code",
      "metadata": {
        "colab": {
          "base_uri": "https://localhost:8080/"
        },
        "id": "03Ohtmv41xcJ",
        "outputId": "5267f379-86e5-4474-b597-fcefbe77d061"
      },
      "source": [
        "# evaluate the retrained model\n",
        "model_retrain_blur.model.evaluate(test_data, batch_size=128)"
      ],
      "execution_count": null,
      "outputs": [
        {
          "output_type": "stream",
          "text": [
            "117/117 [==============================] - 29s 252ms/step - loss: 1.5392 - accuracy: 0.3498 - precision: 0.6923\n"
          ],
          "name": "stdout"
        },
        {
          "output_type": "execute_result",
          "data": {
            "text/plain": [
              "[1.5391560792922974, 0.34975898265838623, 0.692307710647583]"
            ]
          },
          "metadata": {
            "tags": []
          },
          "execution_count": 208
        }
      ]
    },
    {
      "cell_type": "markdown",
      "metadata": {
        "id": "8HJt0Vw7NQp4"
      },
      "source": [
        "Apply SGD optimization to the blur data augmentation"
      ]
    },
    {
      "cell_type": "code",
      "metadata": {
        "id": "qg7_dYW1LPLd"
      },
      "source": [
        "# try again, but comparing SGD versus Adam\n",
        "# assuming same learning rate as the Adam implementation\n",
        "\n",
        "model_retrain_blur_sgd = model\n",
        "\n",
        "# new optimizations\n",
        "sgd_opt = tf.keras.optimizers.SGD(learning_rate=0.0001)\n",
        "metrics = [\"accuracy\", tf.keras.metrics.Precision(name=\"precision\")]\n",
        "\n",
        "# compile our new model\n",
        "model_retrain_blur_sgd.compile(\n",
        "    optimizer=sgd_opt,\n",
        "    loss=tf.keras.losses.BinaryCrossentropy(),\n",
        "    metrics=metrics\n",
        ")"
      ],
      "execution_count": null,
      "outputs": []
    },
    {
      "cell_type": "code",
      "metadata": {
        "colab": {
          "base_uri": "https://localhost:8080/"
        },
        "id": "T1LeKyZeMjMN",
        "outputId": "a9d0fbbb-7783-4cfe-9997-18a5fc449731"
      },
      "source": [
        "# retrain the model\n",
        "\n",
        "model_retrain_blur_sgd = retrain(model_retrain_blur_sgd, 10, train_data_blur, val_data)"
      ],
      "execution_count": null,
      "outputs": [
        {
          "output_type": "stream",
          "text": [
            "/usr/local/lib/python3.6/dist-packages/keras_preprocessing/image/image_data_generator.py:720: UserWarning: This ImageDataGenerator specifies `featurewise_center`, but it hasn't been fit on any training data. Fit it first by calling `.fit(numpy_data)`.\n",
            "  warnings.warn('This ImageDataGenerator specifies '\n",
            "/usr/local/lib/python3.6/dist-packages/keras_preprocessing/image/image_data_generator.py:728: UserWarning: This ImageDataGenerator specifies `featurewise_std_normalization`, but it hasn't been fit on any training data. Fit it first by calling `.fit(numpy_data)`.\n",
            "  warnings.warn('This ImageDataGenerator specifies '\n"
          ],
          "name": "stderr"
        },
        {
          "output_type": "stream",
          "text": [
            "Epoch 1/10\n",
            "534/534 [==============================] - 190s 355ms/step - loss: 0.3786 - accuracy: 0.8371 - precision: 0.8985 - val_loss: 0.3642 - val_accuracy: 0.8324 - val_precision: 0.9969\n",
            "Epoch 2/10\n",
            "534/534 [==============================] - 193s 361ms/step - loss: 0.3849 - accuracy: 0.8364 - precision: 0.9005 - val_loss: 0.3595 - val_accuracy: 0.8347 - val_precision: 0.9970\n",
            "Epoch 3/10\n",
            "534/534 [==============================] - 193s 361ms/step - loss: 0.3749 - accuracy: 0.8425 - precision: 0.9070 - val_loss: 0.3535 - val_accuracy: 0.8362 - val_precision: 0.9970\n",
            "Epoch 4/10\n",
            "534/534 [==============================] - 194s 364ms/step - loss: 0.3721 - accuracy: 0.8422 - precision: 0.9006 - val_loss: 0.3516 - val_accuracy: 0.8371 - val_precision: 0.9970\n",
            "Epoch 5/10\n",
            "534/534 [==============================] - 195s 366ms/step - loss: 0.3749 - accuracy: 0.8405 - precision: 0.8988 - val_loss: 0.3568 - val_accuracy: 0.8362 - val_precision: 0.9970\n",
            "Epoch 6/10\n",
            "534/534 [==============================] - 194s 364ms/step - loss: 0.3804 - accuracy: 0.8385 - precision: 0.8945 - val_loss: 0.3530 - val_accuracy: 0.8362 - val_precision: 0.9970\n",
            "Epoch 7/10\n",
            "534/534 [==============================] - 195s 365ms/step - loss: 0.3771 - accuracy: 0.8374 - precision: 0.8930 - val_loss: 0.3497 - val_accuracy: 0.8357 - val_precision: 0.9970\n",
            "Epoch 8/10\n",
            "534/534 [==============================] - 193s 361ms/step - loss: 0.3836 - accuracy: 0.8344 - precision: 0.8951 - val_loss: 0.3497 - val_accuracy: 0.8347 - val_precision: 0.9970\n",
            "Epoch 9/10\n",
            "534/534 [==============================] - 192s 360ms/step - loss: 0.3767 - accuracy: 0.8399 - precision: 0.9028 - val_loss: 0.3499 - val_accuracy: 0.8366 - val_precision: 0.9970\n",
            "Epoch 10/10\n",
            "534/534 [==============================] - 194s 364ms/step - loss: 0.3800 - accuracy: 0.8387 - precision: 0.8993 - val_loss: 0.3499 - val_accuracy: 0.8366 - val_precision: 0.9970\n"
          ],
          "name": "stdout"
        }
      ]
    },
    {
      "cell_type": "code",
      "metadata": {
        "id": "byXPOcNlMn9Y"
      },
      "source": [
        "# save the model weights\n",
        "model_retrain_blur_sgd.model.save_weights('./retrain_blur_sgd.hdf5')"
      ],
      "execution_count": null,
      "outputs": []
    },
    {
      "cell_type": "code",
      "metadata": {
        "colab": {
          "base_uri": "https://localhost:8080/"
        },
        "id": "emqkouWEMqG5",
        "outputId": "8811145a-c475-45c9-f2fc-45ea39f78794"
      },
      "source": [
        "# evaluate the retrained model\n",
        "model_retrain_blur_sgd.model.evaluate(test_data, batch_size=128)"
      ],
      "execution_count": null,
      "outputs": [
        {
          "output_type": "stream",
          "text": [
            "117/117 [==============================] - 30s 253ms/step - loss: 1.9457 - accuracy: 0.3557 - precision: 0.6667\n"
          ],
          "name": "stdout"
        },
        {
          "output_type": "execute_result",
          "data": {
            "text/plain": [
              "[1.945739507675171, 0.35565078258514404, 0.6666666865348816]"
            ]
          },
          "metadata": {
            "tags": []
          },
          "execution_count": 213
        }
      ]
    },
    {
      "cell_type": "markdown",
      "metadata": {
        "id": "c1rC2FfC85Lb"
      },
      "source": [
        "Retrain the noise model"
      ]
    },
    {
      "cell_type": "code",
      "metadata": {
        "id": "z_49YccH87de"
      },
      "source": [
        "# TODO instead of train_data_blur try to concatenate both training and \n",
        "\n",
        "model_retrain_noise = model\n",
        "\n",
        "model_retrain_noise = retrain(model_retrain_noise, 5, train_data_noise, val_data)"
      ],
      "execution_count": null,
      "outputs": []
    },
    {
      "cell_type": "code",
      "metadata": {
        "id": "TK0PkBeC9VPh"
      },
      "source": [
        "# save the model weights\n",
        "model_retrain_noise.model.save_weights('./retrain_noise.hdf5')"
      ],
      "execution_count": null,
      "outputs": []
    },
    {
      "cell_type": "code",
      "metadata": {
        "id": "Cg_J2AQ38-UC"
      },
      "source": [
        "# evaluate the retrained model\n",
        "model_retrain_noise.model.evaluate(test_data, batch_size=128)"
      ],
      "execution_count": null,
      "outputs": []
    },
    {
      "cell_type": "code",
      "metadata": {
        "id": "j0twVcbPa5R0"
      },
      "source": [
        "# transfer learning on the greyscale dataset\n",
        "model_train_grey = model_default\n",
        "\n",
        "model_train_grey = transfer_learn(model_train_grey, 1, train_data_grey, val_data)"
      ],
      "execution_count": null,
      "outputs": []
    },
    {
      "cell_type": "code",
      "metadata": {
        "id": "OgBZfdTQa7TS"
      },
      "source": [
        "# evaluate the greyscale model\n",
        "model_grey_eval = model_train_grey.model.evaluate(test_data, batch_size=128)"
      ],
      "execution_count": null,
      "outputs": []
    },
    {
      "cell_type": "code",
      "metadata": {
        "id": "4K2onbircwUh"
      },
      "source": [
        ""
      ],
      "execution_count": null,
      "outputs": []
    },
    {
      "cell_type": "markdown",
      "metadata": {
        "id": "wQSwJ6qccw4G"
      },
      "source": [
        "# Implement InceptionV3 and Resnet"
      ]
    },
    {
      "cell_type": "code",
      "metadata": {
        "id": "YjSk5CmYdP2X"
      },
      "source": [
        "from tensorflow.keras.applications.inception_v3 import InceptionV3\n",
        "from tensorflow.keras.models import Model"
      ],
      "execution_count": null,
      "outputs": []
    },
    {
      "cell_type": "code",
      "metadata": {
        "id": "Su3NmHEldG0m"
      },
      "source": [
        "# Creating model with pre trained imagenet weights\n",
        "\n",
        "incep_v3 = InceptionV3(include_top=False, weights='imagenet', input_shape=(128,128,3))\n",
        "\n",
        "for layers in incep_v3.layers:\n",
        "    layers.trainable = False\n",
        "\n",
        "\n",
        "x = Flatten()(incep_v3.output)\n",
        "\n",
        "fcc_layer_1 = Dense(units = 1024, activation = 'relu')(x)\n",
        "dropout_1   = Dropout(0.3)(fcc_layer_1)\n",
        "\n",
        "fcc_layer_2 = Dense(units = 512, activation = 'relu')(dropout_1)\n",
        "dropout_2   = Dropout(0.3)(fcc_layer_2)\n",
        "\n",
        "final_layer = Dense(units = 1, activation = 'sigmoid')(dropout_2)\n",
        "\n",
        "model_incepV3 = Model(inputs = incep_v3.input, outputs = final_layer)\n",
        "\n",
        "model_incepV3.compile(optimizer = 'adam', \n",
        "              loss = 'binary_crossentropy',\n",
        "              metrics = ['accuracy'])"
      ],
      "execution_count": null,
      "outputs": []
    },
    {
      "cell_type": "code",
      "metadata": {
        "id": "tRshX8zOc08a"
      },
      "source": [
        "model_incepV3 = tf.keras.models.load_model('best_weights.hdf5')"
      ],
      "execution_count": null,
      "outputs": []
    },
    {
      "cell_type": "code",
      "metadata": {
        "colab": {
          "base_uri": "https://localhost:8080/"
        },
        "id": "hpAc5IJyeOlH",
        "outputId": "58c48c6b-7c42-42ba-d267-da501d67cf99"
      },
      "source": [
        "test_data_incep = tf.keras.preprocessing.image_dataset_from_directory(\n",
        "    './C-NMC_Leukemia/validation_data/',\n",
        "    labels=test_labels.tolist(),\n",
        "    label_mode=\"int\",\n",
        "    image_size=(128, 128),\n",
        "    batch_size=BATCH_SIZE, \n",
        ")"
      ],
      "execution_count": null,
      "outputs": [
        {
          "output_type": "stream",
          "text": [
            "Found 1867 files belonging to 1 classes.\n"
          ],
          "name": "stdout"
        }
      ]
    },
    {
      "cell_type": "code",
      "metadata": {
        "colab": {
          "base_uri": "https://localhost:8080/"
        },
        "id": "u25gIqq7dtVy",
        "outputId": "891d0ab3-c343-48d6-ca2e-ad7c51c96c57"
      },
      "source": [
        "model_incepV3.evaluate(test_data_incep, callbacks=[model_checkpoint_callback1], batch_size=128)"
      ],
      "execution_count": null,
      "outputs": [
        {
          "output_type": "stream",
          "text": [
            "117/117 [==============================] - 8s 72ms/step - loss: 6.9853 - accuracy: 0.6529\n"
          ],
          "name": "stdout"
        },
        {
          "output_type": "execute_result",
          "data": {
            "text/plain": [
              "[6.9853410720825195, 0.6529191136360168]"
            ]
          },
          "metadata": {
            "tags": []
          },
          "execution_count": 224
        }
      ]
    },
    {
      "cell_type": "markdown",
      "metadata": {
        "id": "0MjzmplGdZfS"
      },
      "source": [
        "ResNet"
      ]
    },
    {
      "cell_type": "code",
      "metadata": {
        "id": "B2NYDbTDfMHI"
      },
      "source": [
        "from tensorflow.keras.applications import ResNet50V2"
      ],
      "execution_count": null,
      "outputs": []
    },
    {
      "cell_type": "code",
      "metadata": {
        "colab": {
          "base_uri": "https://localhost:8080/"
        },
        "id": "VUMBpO8YfMow",
        "outputId": "5d146eb9-9edd-49e4-f640-51de3d2e4325"
      },
      "source": [
        "model_resnet = ResNet50V2(\n",
        "    include_top=False,\n",
        "    weights=\"imagenet\",\n",
        "    input_tensor=None,\n",
        "    input_shape=(128,128, 3),\n",
        "    pooling=None,\n",
        "    classes=1,\n",
        "    classifier_activation=\"softmax\",\n",
        ")"
      ],
      "execution_count": null,
      "outputs": [
        {
          "output_type": "stream",
          "text": [
            "Downloading data from https://storage.googleapis.com/tensorflow/keras-applications/resnet/resnet50v2_weights_tf_dim_ordering_tf_kernels_notop.h5\n",
            "94674944/94668760 [==============================] - 1s 0us/step\n"
          ],
          "name": "stdout"
        }
      ]
    },
    {
      "cell_type": "code",
      "metadata": {
        "id": "v_1GZZb8fO4w"
      },
      "source": [
        "for layers in model_resnet.layers:\n",
        "  layers.trainable = False\n",
        "\n",
        "x = Flatten()(model_resnet.output)\n",
        "\n",
        "fcc_layer_1 = Dense(units = 1024, activation = 'relu')(x)\n",
        "dropout_1   = Dropout(0.3)(fcc_layer_1)\n",
        "\n",
        "fcc_layer_2 = Dense(units = 512, activation = 'relu')(dropout_1)\n",
        "dropout_2   = Dropout(0.3)(fcc_layer_2)\n",
        "\n",
        "final_layer = Dense(units = 1, activation = 'sigmoid')(dropout_2)\n",
        "\n",
        "model_resnet = Model(inputs = model_resnet.input, outputs = final_layer)\n",
        "\n",
        "model_resnet.compile(optimizer = 'adam', \n",
        "              loss = 'binary_crossentropy',\n",
        "              metrics = ['accuracy'])"
      ],
      "execution_count": null,
      "outputs": []
    },
    {
      "cell_type": "code",
      "metadata": {
        "id": "0Ee85NXqfYZ6"
      },
      "source": [
        "model_resnet = tf.keras.models.load_model('best_weights_resnet.hdf5')"
      ],
      "execution_count": null,
      "outputs": []
    },
    {
      "cell_type": "code",
      "metadata": {
        "colab": {
          "base_uri": "https://localhost:8080/"
        },
        "id": "Nydgz73jfiJD",
        "outputId": "a9c26377-f228-4889-f80e-50a4b4f160be"
      },
      "source": [
        "test_data_resnet = tf.keras.preprocessing.image_dataset_from_directory(\n",
        "    './C-NMC_Leukemia/validation_data/',\n",
        "    labels=test_labels.tolist(),\n",
        "    label_mode=\"int\",\n",
        "    image_size=(128, 128),\n",
        "    batch_size=BATCH_SIZE, \n",
        ")"
      ],
      "execution_count": null,
      "outputs": [
        {
          "output_type": "stream",
          "text": [
            "Found 1867 files belonging to 1 classes.\n"
          ],
          "name": "stdout"
        }
      ]
    },
    {
      "cell_type": "code",
      "metadata": {
        "colab": {
          "base_uri": "https://localhost:8080/"
        },
        "id": "jDYPAgZwfkgz",
        "outputId": "6f85531c-f46e-4ca0-c73a-9dbc407eb03f"
      },
      "source": [
        "model_resnet.evaluate(test_data_resnet, callbacks=[model_checkpoint_callback1], batch_size=128)"
      ],
      "execution_count": null,
      "outputs": [
        {
          "output_type": "stream",
          "text": [
            "117/117 [==============================] - 8s 69ms/step - loss: 2.9765 - accuracy: 0.6535\n"
          ],
          "name": "stdout"
        },
        {
          "output_type": "execute_result",
          "data": {
            "text/plain": [
              "[2.9765355587005615, 0.6534547209739685]"
            ]
          },
          "metadata": {
            "tags": []
          },
          "execution_count": 230
        }
      ]
    },
    {
      "cell_type": "markdown",
      "metadata": {
        "id": "Z195zGqPfRyG"
      },
      "source": [
        "# Graphical Representations for Information\n"
      ]
    },
    {
      "cell_type": "markdown",
      "metadata": {
        "id": "2-6_YVR1fgRC"
      },
      "source": [
        "## InceptionV3 Data"
      ]
    },
    {
      "cell_type": "code",
      "metadata": {
        "id": "2tIOKKsDhmR8"
      },
      "source": [
        "from tensorflow.keras.applications.inception_v3 import InceptionV3\n",
        "from tensorflow.keras.models import Model"
      ],
      "execution_count": null,
      "outputs": []
    },
    {
      "cell_type": "code",
      "metadata": {
        "colab": {
          "base_uri": "https://localhost:8080/"
        },
        "id": "TTBteA0ThqjN",
        "outputId": "d38540ad-12d2-48f2-bd26-d6eba0b2ec9a"
      },
      "source": [
        "# Creating model with pre trained imagenet weights\n",
        "\n",
        "incep_v3 = InceptionV3(include_top=False, weights='imagenet', input_shape=(128,128,3))\n",
        "\n",
        "for layers in incep_v3.layers:\n",
        "    layers.trainable = False\n",
        "\n",
        "\n",
        "x = Flatten()(incep_v3.output)\n",
        "\n",
        "fcc_layer_1 = Dense(units = 1024, activation = 'relu')(x)\n",
        "dropout_1   = Dropout(0.3)(fcc_layer_1)\n",
        "\n",
        "fcc_layer_2 = Dense(units = 512, activation = 'relu')(dropout_1)\n",
        "dropout_2   = Dropout(0.3)(fcc_layer_2)\n",
        "\n",
        "final_layer = Dense(units = 1, activation = 'sigmoid')(dropout_2)\n",
        "\n",
        "model_incepV3 = Model(inputs = incep_v3.input, outputs = final_layer)\n",
        "\n",
        "model_incepV3.compile(optimizer = 'adam', \n",
        "              loss = 'binary_crossentropy',\n",
        "              metrics = ['accuracy'])"
      ],
      "execution_count": null,
      "outputs": [
        {
          "output_type": "stream",
          "text": [
            "Downloading data from https://storage.googleapis.com/tensorflow/keras-applications/inception_v3/inception_v3_weights_tf_dim_ordering_tf_kernels_notop.h5\n",
            "87916544/87910968 [==============================] - 1s 0us/step\n"
          ],
          "name": "stdout"
        }
      ]
    },
    {
      "cell_type": "code",
      "metadata": {
        "id": "NbRDjxUwhuOR"
      },
      "source": [
        "# load existing model weights\n",
        "\n",
        "model_incepV3 = tf.keras.models.load_model('best_weights.hdf5')"
      ],
      "execution_count": null,
      "outputs": []
    },
    {
      "cell_type": "code",
      "metadata": {
        "colab": {
          "base_uri": "https://localhost:8080/"
        },
        "id": "f9VNptaBhxGM",
        "outputId": "5c120b89-0a18-465e-f685-06bbbff1b34b"
      },
      "source": [
        "# define (128, 128) image data for the training\n",
        "\n",
        "test_data_128 = tf.keras.preprocessing.image_dataset_from_directory(\n",
        "    './C-NMC_Leukemia/validation_data/',\n",
        "    labels=test_labels.tolist(),\n",
        "    label_mode=\"int\",\n",
        "    image_size=(128, 128),\n",
        "    batch_size=BATCH_SIZE, \n",
        ")"
      ],
      "execution_count": null,
      "outputs": [
        {
          "output_type": "stream",
          "text": [
            "Found 1867 files belonging to 1 classes.\n"
          ],
          "name": "stdout"
        }
      ]
    },
    {
      "cell_type": "code",
      "metadata": {
        "colab": {
          "base_uri": "https://localhost:8080/"
        },
        "id": "RatJtQ8Fh0Vz",
        "outputId": "d4372048-be72-44bb-a491-161b2e1c7bf8"
      },
      "source": [
        "# evaluate the model\n",
        "model_incepV3_eval = model_incepV3.evaluate(test_data_128, batch_size=128)\n",
        "\n",
        "# obtain the model loss and accuracy\n",
        "\n",
        "loss_incepv3 = model_incepV3_eval[0]\n",
        "accuracy_incepv3 = model_incepV3_eval[1]"
      ],
      "execution_count": null,
      "outputs": [
        {
          "output_type": "stream",
          "text": [
            "117/117 [==============================] - 8s 70ms/step - loss: 6.9853 - accuracy: 0.6529\n"
          ],
          "name": "stdout"
        }
      ]
    },
    {
      "cell_type": "code",
      "metadata": {
        "id": "k1TUALLatvqU"
      },
      "source": [
        "predict_incepV3 = model_incepV3.predict(test_data_128, batch_size=128)"
      ],
      "execution_count": null,
      "outputs": []
    },
    {
      "cell_type": "markdown",
      "metadata": {
        "id": "hVPEgNHFfwTi"
      },
      "source": [
        "For now, is assumes a Gaussian Distribution for Prediction Accuracy\n",
        "\n",
        "Assumes values of Z:\n",
        "\n",
        "1.64 (90%)\n",
        "\n",
        "1.96 (95%)\n",
        "\n",
        "2.33 (98%)\n",
        "\n",
        "2.58 (99%)\n"
      ]
    },
    {
      "cell_type": "code",
      "metadata": {
        "id": "6IHAT9TxTibE"
      },
      "source": [
        "# Computes confidence interval without changing the network architecture\n",
        "# assuming Gaussian distribution of prediction accuracy\n",
        "\n",
        "# size of our test dataset\n",
        "n = predict_incepV3.shape[0]\n",
        "\n",
        "# assuming 95% confidence interval\n",
        "Z = 1.96\n",
        "\n",
        "conf_radius_incepV3 = Z * np.sqrt((accuracy_incepv3 * (1 - accuracy_incepv3)) / n)\n",
        "\n",
        "conf_incepV3_lower = accuracy_incepv3 - conf_radius_incepV3\n",
        "conf_incepV3_upper = accuracy_incepv3 + conf_radius_incepV3"
      ],
      "execution_count": null,
      "outputs": []
    },
    {
      "cell_type": "code",
      "metadata": {
        "colab": {
          "base_uri": "https://localhost:8080/"
        },
        "id": "UXMpx2xcJ2ZL",
        "outputId": "a1b26054-3b0c-4871-e7bd-ced9700fdeed"
      },
      "source": [
        "print('radius: ', conf_radius_incepV3)\n",
        "print('lower bound: ', conf_incepV3_lower)\n",
        "print('upper bound: ', conf_incepV3_upper)"
      ],
      "execution_count": null,
      "outputs": [
        {
          "output_type": "stream",
          "text": [
            "radius:  0.021593793926591463\n",
            "lower bound:  0.6313253197094254\n",
            "upper bound:  0.6745129075626083\n"
          ],
          "name": "stdout"
        }
      ]
    },
    {
      "cell_type": "code",
      "metadata": {
        "id": "wA6CkOTWuElY"
      },
      "source": [
        "# reshaping test_labels so it's same shape as predictions\n",
        "\n",
        "test_labels_reshape = test_labels.reshape((test_labels.shape[0], 1))\n",
        "\n",
        "# convert numpy arrays to tensors before calling tf confusion matrix function\n",
        "\n",
        "test_labels_reshape_tensor = tf.constant(test_labels)\n",
        "predict_incepV3_tensor = tf.constant(predict_incepV3)"
      ],
      "execution_count": null,
      "outputs": []
    },
    {
      "cell_type": "markdown",
      "metadata": {
        "id": "SoPtohd41zSU"
      },
      "source": [
        "The segment below creates a confusion matrix and plots it"
      ]
    },
    {
      "cell_type": "code",
      "metadata": {
        "id": "hlpA5zabtmRJ"
      },
      "source": [
        "# use the tensorflow confusion matrix function\n",
        "\n",
        "confusion_mat_incepV3 = tf.math.confusion_matrix(labels=test_labels_reshape_tensor,\n",
        "                         predictions=predict_incepV3_tensor,\n",
        "                         num_classes=2)"
      ],
      "execution_count": null,
      "outputs": []
    },
    {
      "cell_type": "code",
      "metadata": {
        "id": "aKTh4LqCzPzj"
      },
      "source": [
        "# for plotting the matrix \n",
        "import seaborn as sn"
      ],
      "execution_count": null,
      "outputs": []
    },
    {
      "cell_type": "code",
      "metadata": {
        "colab": {
          "base_uri": "https://localhost:8080/",
          "height": 272
        },
        "id": "dAIczOpIxcV3",
        "outputId": "b77b903e-6273-4cca-aa6d-e1ff87b936e8"
      },
      "source": [
        "# plot the confusion matrix\n",
        "\n",
        "df_cm_incepV3 = pd.DataFrame(confusion_mat_incepV3.numpy())\n",
        "\n",
        "# for label size\n",
        "sn.set(font_scale=1.4)\n",
        "sn.heatmap(df_cm_incepV3, annot=True, fmt='g', annot_kws={'size': 16}) # font size\n",
        "plt.show()"
      ],
      "execution_count": null,
      "outputs": [
        {
          "output_type": "display_data",
          "data": {
            "image/png": "[encoded data removed]",
            "text/plain": [
              "<Figure size 432x288 with 2 Axes>"
            ]
          },
          "metadata": {
            "tags": []
          }
        }
      ]
    },
    {
      "cell_type": "markdown",
      "metadata": {
        "id": "Gi5gFcrAfltm"
      },
      "source": [
        "## ResNet Data"
      ]
    },
    {
      "cell_type": "code",
      "metadata": {
        "id": "sfbFL8jcf4EP"
      },
      "source": [
        "from tensorflow.keras.applications import ResNet50V2\n",
        "\n",
        "model_resnet = ResNet50V2(\n",
        "    include_top=False,\n",
        "    weights=\"imagenet\",\n",
        "    input_tensor=None,\n",
        "    input_shape=(128,128, 3),\n",
        "    pooling=None,\n",
        "    classes=1,\n",
        "    classifier_activation=\"softmax\",\n",
        ")"
      ],
      "execution_count": null,
      "outputs": []
    },
    {
      "cell_type": "code",
      "metadata": {
        "id": "FPfVfMpjgEPm"
      },
      "source": [
        "for layers in model_resnet.layers:\n",
        "  layers.trainable = False\n",
        "\n",
        "x = Flatten()(model_resnet.output)\n",
        "\n",
        "fcc_layer_1 = Dense(units = 1024, activation = 'relu')(x)\n",
        "dropout_1   = Dropout(0.3)(fcc_layer_1)\n",
        "\n",
        "fcc_layer_2 = Dense(units = 512, activation = 'relu')(dropout_1)\n",
        "dropout_2   = Dropout(0.3)(fcc_layer_2)\n",
        "\n",
        "final_layer = Dense(units = 1, activation = 'sigmoid')(dropout_2)\n",
        "\n",
        "model_resnet = Model(inputs = model_resnet.input, outputs = final_layer)\n",
        "\n",
        "model_resnet.compile(optimizer = 'adam', \n",
        "              loss = 'binary_crossentropy',\n",
        "              metrics = ['accuracy'])"
      ],
      "execution_count": null,
      "outputs": []
    },
    {
      "cell_type": "code",
      "metadata": {
        "id": "wM9RV60ogGM3"
      },
      "source": [
        "model_resnet = tf.keras.models.load_model('best_weights_resnet.hdf5')"
      ],
      "execution_count": null,
      "outputs": []
    },
    {
      "cell_type": "code",
      "metadata": {
        "colab": {
          "base_uri": "https://localhost:8080/"
        },
        "id": "3maHNYk3gMig",
        "outputId": "421ec6d7-b511-4af9-c1c4-cd9ebe00bb63"
      },
      "source": [
        "model_resnet_eval = model_resnet.evaluate(test_data_128, batch_size=128)"
      ],
      "execution_count": null,
      "outputs": [
        {
          "output_type": "stream",
          "text": [
            "117/117 [==============================] - 9s 74ms/step - loss: 2.9765 - accuracy: 0.6535\n"
          ],
          "name": "stdout"
        }
      ]
    },
    {
      "cell_type": "code",
      "metadata": {
        "id": "4ZIOOF4Ygr9M"
      },
      "source": [
        "# obtain the model loss and accuracy\n",
        "loss_resnet = model_resnet_eval[0]\n",
        "accuracy_resnet = model_resnet_eval[1]"
      ],
      "execution_count": null,
      "outputs": []
    },
    {
      "cell_type": "code",
      "metadata": {
        "id": "Tc61x2EM7Zu-"
      },
      "source": [
        "predict_resnet = model_resnet.predict(test_data_128, batch_size=128)"
      ],
      "execution_count": null,
      "outputs": []
    },
    {
      "cell_type": "code",
      "metadata": {
        "id": "LF0n76UAhMYH"
      },
      "source": [
        "# Computes confidence interval without changing the network architecture\n",
        "# assuming Gaussian distribution of prediction accuracy\n",
        "\n",
        "# size of our test dataset\n",
        "n = predict_resnet.shape[0]\n",
        "\n",
        "# assuming 95% confidence interval\n",
        "Z = 1.96\n",
        "\n",
        "conf_radius_resnet = Z * np.sqrt((accuracy_resnet * (1 - accuracy_resnet)) / n)\n",
        "\n",
        "conf_resnet_lower = accuracy_resnet - conf_radius_resnet\n",
        "conf_resnet_upper = accuracy_resnet + conf_radius_resnet"
      ],
      "execution_count": null,
      "outputs": []
    },
    {
      "cell_type": "code",
      "metadata": {
        "colab": {
          "base_uri": "https://localhost:8080/"
        },
        "id": "XrWvaAIaKbBD",
        "outputId": "bbf5e112-4736-4d2e-b624-6376ef050643"
      },
      "source": [
        "print('radius: ', conf_radius_resnet)\n",
        "print('lower bound: ', conf_resnet_lower)\n",
        "print('upper bound: ', conf_resnet_upper)"
      ],
      "execution_count": null,
      "outputs": [
        {
          "output_type": "stream",
          "text": [
            "radius:  0.021585974305516096\n",
            "lower bound:  0.6318687466684524\n",
            "upper bound:  0.6750406952794846\n"
          ],
          "name": "stdout"
        }
      ]
    },
    {
      "cell_type": "code",
      "metadata": {
        "id": "6r7mfOYX72Or"
      },
      "source": [
        "# reshaping test_labels so it's same shape as predictions\n",
        "\n",
        "test_labels_reshape = test_labels.reshape((test_labels.shape[0], 1))\n",
        "\n",
        "# convert numpy arrays to tensors before calling tf confusion matrix function\n",
        "\n",
        "test_labels_reshape_tensor = tf.constant(test_labels)\n",
        "predict_resnet_tensor = tf.constant(predict_resnet)"
      ],
      "execution_count": null,
      "outputs": []
    },
    {
      "cell_type": "code",
      "metadata": {
        "id": "B6CS92Is788I"
      },
      "source": [
        "# use the tensorflow confusion matrix function\n",
        "\n",
        "confusion_mat_resnet = tf.math.confusion_matrix(labels=test_labels_reshape_tensor,\n",
        "                         predictions=predict_resnet_tensor,\n",
        "                         num_classes=2)"
      ],
      "execution_count": null,
      "outputs": []
    },
    {
      "cell_type": "code",
      "metadata": {
        "colab": {
          "base_uri": "https://localhost:8080/",
          "height": 272
        },
        "id": "sx2OXIMP8E5U",
        "outputId": "c4e9410a-a347-4644-e77a-4b0719d7ae78"
      },
      "source": [
        "# for plotting the matrix \n",
        "import seaborn as sn\n",
        "\n",
        "# plot the confusion matrix\n",
        "\n",
        "df_cm_resnet = pd.DataFrame(confusion_mat_resnet.numpy())\n",
        "\n",
        "# for label size\n",
        "sn.set(font_scale=1.4)\n",
        "sn.heatmap(df_cm_resnet, annot=True, fmt='g', annot_kws={'size': 16}) # font size\n",
        "plt.show()"
      ],
      "execution_count": null,
      "outputs": [
        {
          "output_type": "display_data",
          "data": {
            "image/png": "[encoded data removed]",
            "text/plain": [
              "<Figure size 432x288 with 2 Axes>"
            ]
          },
          "metadata": {
            "tags": []
          }
        }
      ]
    },
    {
      "cell_type": "markdown",
      "metadata": {
        "id": "ygQ6ySfHfpzi"
      },
      "source": [
        "## Flipped Data Augmentation Data"
      ]
    },
    {
      "cell_type": "code",
      "metadata": {
        "id": "UVBNOF6CATuT"
      },
      "source": [
        "model_train_flipped_data = model_default\n",
        "\n",
        "model_train_flipped_data.load_weights('w_flipped.hdf5')"
      ],
      "execution_count": null,
      "outputs": []
    },
    {
      "cell_type": "code",
      "metadata": {
        "colab": {
          "base_uri": "https://localhost:8080/"
        },
        "id": "HMOB8TnpAotG",
        "outputId": "b1f4396a-d6c2-4ed9-f209-2ab30d026777"
      },
      "source": [
        "model_train_flipped_eval = model_train_flipped_data.evaluate(test_data, batch_size=128)"
      ],
      "execution_count": null,
      "outputs": [
        {
          "output_type": "stream",
          "text": [
            "117/117 [==============================] - 9s 73ms/step - loss: 8.6205 - accuracy: 0.6031 - precision: 0.6511\n"
          ],
          "name": "stdout"
        }
      ]
    },
    {
      "cell_type": "code",
      "metadata": {
        "id": "MOfICEGAAtUL"
      },
      "source": [
        "# obtain the model loss and accuracy\n",
        "loss_flipped = model_train_flipped_eval[0]\n",
        "accuracy_flipped = model_train_flipped_eval[1]\n",
        "precision_flipped = model_train_flipped_eval[2]"
      ],
      "execution_count": null,
      "outputs": []
    },
    {
      "cell_type": "code",
      "metadata": {
        "id": "VcvVl67mA2xT"
      },
      "source": [
        "predict_train_flipped = model_train_flipped_data.predict(test_data, batch_size=128)"
      ],
      "execution_count": null,
      "outputs": []
    },
    {
      "cell_type": "code",
      "metadata": {
        "id": "zbZKvEDiA8lK"
      },
      "source": [
        "# Computes confidence interval without changing the network architecture\n",
        "# assuming Gaussian distribution of prediction accuracy\n",
        "\n",
        "# size of our test dataset\n",
        "n = predict_train_flipped.shape[0]\n",
        "\n",
        "# assuming 95% confidence interval\n",
        "Z = 1.96\n",
        "\n",
        "conf_radius_flipped = Z * np.sqrt((accuracy_flipped * (1 - accuracy_flipped)) / n)\n",
        "\n",
        "conf_flipped_lower = accuracy_flipped - conf_radius_flipped\n",
        "conf_flipped_upper = accuracy_flipped + conf_radius_flipped"
      ],
      "execution_count": null,
      "outputs": []
    },
    {
      "cell_type": "code",
      "metadata": {
        "colab": {
          "base_uri": "https://localhost:8080/"
        },
        "id": "UwvvPuqKKk8i",
        "outputId": "66c8517e-0b9d-4714-f522-ff6070ffa0ee"
      },
      "source": [
        "print('radius: ', conf_radius_flipped)\n",
        "print('lower bound: ', conf_flipped_lower)\n",
        "print('upper bound: ', conf_flipped_upper)"
      ],
      "execution_count": null,
      "outputs": [
        {
          "output_type": "stream",
          "text": [
            "radius:  0.022193096382178312\n",
            "lower bound:  0.5809134619407281\n",
            "upper bound:  0.6252996547050849\n"
          ],
          "name": "stdout"
        }
      ]
    },
    {
      "cell_type": "code",
      "metadata": {
        "id": "3ItmnUTqBMig"
      },
      "source": [
        "# reshaping test_labels so it's same shape as predictions\n",
        "\n",
        "test_labels_reshape = test_labels.reshape((test_labels.shape[0], 1))\n",
        "\n",
        "# convert numpy arrays to tensors before calling tf confusion matrix function\n",
        "\n",
        "test_labels_reshape_tensor = tf.constant(test_labels)\n",
        "predict_flipped_tensor = tf.constant(predict_train_flipped)"
      ],
      "execution_count": null,
      "outputs": []
    },
    {
      "cell_type": "code",
      "metadata": {
        "id": "SAXqRPZbBRwV"
      },
      "source": [
        "# use the tensorflow confusion matrix function\n",
        "\n",
        "confusion_mat_flipped = tf.math.confusion_matrix(labels=test_labels_reshape_tensor,\n",
        "                         predictions=predict_flipped_tensor,\n",
        "                         num_classes=2)"
      ],
      "execution_count": null,
      "outputs": []
    },
    {
      "cell_type": "code",
      "metadata": {
        "colab": {
          "base_uri": "https://localhost:8080/",
          "height": 272
        },
        "id": "CvHyK2IKBXCn",
        "outputId": "2e651e39-2656-4fdd-c864-524ec66c5607"
      },
      "source": [
        "# for plotting the matrix \n",
        "import seaborn as sn\n",
        "\n",
        "# plot the confusion matrix\n",
        "\n",
        "df_cm_flipped = pd.DataFrame(confusion_mat_flipped.numpy())\n",
        "\n",
        "# for label size\n",
        "sn.set(font_scale=1.4)\n",
        "sn.heatmap(df_cm_flipped, annot=True, fmt='g', annot_kws={'size': 16}) # font size\n",
        "plt.show()"
      ],
      "execution_count": null,
      "outputs": [
        {
          "output_type": "display_data",
          "data": {
            "image/png": "[encoded data removed]",
            "text/plain": [
              "<Figure size 432x288 with 2 Axes>"
            ]
          },
          "metadata": {
            "tags": []
          }
        }
      ]
    },
    {
      "cell_type": "markdown",
      "metadata": {
        "id": "xhA-fkjZfvQY"
      },
      "source": [
        "## Noise Data Augmentation Data\n"
      ]
    },
    {
      "cell_type": "code",
      "metadata": {
        "id": "rmVwz_Su-rMS"
      },
      "source": [
        "model_train_noise_data = model_default\n",
        "\n",
        "model_train_noise_data.load_weights('retrain_noise.hdf5')"
      ],
      "execution_count": null,
      "outputs": []
    },
    {
      "cell_type": "code",
      "metadata": {
        "colab": {
          "base_uri": "https://localhost:8080/"
        },
        "id": "1u9u1QbC-3F-",
        "outputId": "da7668c4-e70e-43f1-d08f-dcd24e4c71b9"
      },
      "source": [
        "model_train_noise_eval = model_train_noise_data.evaluate(test_data, batch_size=128)"
      ],
      "execution_count": null,
      "outputs": [
        {
          "output_type": "stream",
          "text": [
            "117/117 [==============================] - 8s 71ms/step - loss: 1.9245 - accuracy: 0.3594 - precision: 0.6949\n"
          ],
          "name": "stdout"
        }
      ]
    },
    {
      "cell_type": "code",
      "metadata": {
        "id": "b3ASI9bc_Gq5"
      },
      "source": [
        "# obtain the model loss and accuracy\n",
        "loss_noise = model_train_noise_eval[0]\n",
        "accuracy_noise = model_train_noise_eval[1]\n",
        "precision_noise = model_train_noise_eval[2]"
      ],
      "execution_count": null,
      "outputs": []
    },
    {
      "cell_type": "code",
      "metadata": {
        "id": "kysXow0c_Rjj"
      },
      "source": [
        "predict_train_noise = model_train_noise_data.predict(test_data, batch_size=128)"
      ],
      "execution_count": null,
      "outputs": []
    },
    {
      "cell_type": "code",
      "metadata": {
        "id": "OW5NIM9O_Xki"
      },
      "source": [
        "# Computes confidence interval without changing the network architecture\n",
        "# assuming Gaussian distribution of prediction accuracy\n",
        "\n",
        "# size of our test dataset\n",
        "n = predict_train_noise.shape[0]\n",
        "\n",
        "# assuming 95% confidence interval\n",
        "Z = 1.96\n",
        "\n",
        "conf_radius_noise = Z * np.sqrt((accuracy_noise * (1 - accuracy_noise)) / n)\n",
        "\n",
        "conf_noise_lower = accuracy_noise - conf_radius_noise\n",
        "conf_noise_upper = accuracy_noise + conf_radius_noise"
      ],
      "execution_count": null,
      "outputs": []
    },
    {
      "cell_type": "code",
      "metadata": {
        "colab": {
          "base_uri": "https://localhost:8080/"
        },
        "id": "FtN3HPLKKr9b",
        "outputId": "f2737ac7-dc80-46a9-8449-a01c21074b24"
      },
      "source": [
        "print('radius: ', conf_radius_noise)\n",
        "print('lower bound: ', conf_noise_lower)\n",
        "print('upper bound: ', conf_noise_upper)"
      ],
      "execution_count": null,
      "outputs": [
        {
          "output_type": "stream",
          "text": [
            "radius:  0.021765389365465224\n",
            "lower bound:  0.3376347041899852\n",
            "upper bound:  0.3811654829209157\n"
          ],
          "name": "stdout"
        }
      ]
    },
    {
      "cell_type": "code",
      "metadata": {
        "id": "PJk0SFfB_qqW"
      },
      "source": [
        "# reshaping test_labels so it's same shape as predictions\n",
        "\n",
        "test_labels_reshape = test_labels.reshape((test_labels.shape[0], 1))\n",
        "\n",
        "# convert numpy arrays to tensors before calling tf confusion matrix function\n",
        "\n",
        "test_labels_reshape_tensor = tf.constant(test_labels)\n",
        "predict_noise_tensor = tf.constant(predict_train_noise)"
      ],
      "execution_count": null,
      "outputs": []
    },
    {
      "cell_type": "code",
      "metadata": {
        "id": "Q3IhcW_x_57K"
      },
      "source": [
        "# use the tensorflow confusion matrix function\n",
        "\n",
        "confusion_mat_noise = tf.math.confusion_matrix(labels=test_labels_reshape_tensor,\n",
        "                         predictions=predict_noise_tensor,\n",
        "                         num_classes=2)"
      ],
      "execution_count": null,
      "outputs": []
    },
    {
      "cell_type": "code",
      "metadata": {
        "colab": {
          "base_uri": "https://localhost:8080/",
          "height": 275
        },
        "id": "Wp0B4-S8_9RT",
        "outputId": "c2b77137-91c5-4ce9-d9d1-4be4d42ed2c4"
      },
      "source": [
        "# for plotting the matrix \n",
        "import seaborn as sn\n",
        "\n",
        "# plot the confusion matrix\n",
        "\n",
        "df_cm_noise = pd.DataFrame(confusion_mat_noise.numpy())\n",
        "\n",
        "# for label size\n",
        "sn.set(font_scale=1.4)\n",
        "sn.heatmap(df_cm_noise, annot=True, fmt='g', annot_kws={'size': 16}) # font size\n",
        "plt.show()"
      ],
      "execution_count": null,
      "outputs": [
        {
          "output_type": "display_data",
          "data": {
            "image/png": "[encoded data removed]",
            "text/plain": [
              "<Figure size 432x288 with 2 Axes>"
            ]
          },
          "metadata": {
            "tags": []
          }
        }
      ]
    },
    {
      "cell_type": "markdown",
      "metadata": {
        "id": "1LwoP0w4f0RH"
      },
      "source": [
        "## Blur Data Augmentation Data"
      ]
    },
    {
      "cell_type": "code",
      "metadata": {
        "id": "vdihhRU2uHl9"
      },
      "source": [
        "model_train_blur_data = model_default"
      ],
      "execution_count": null,
      "outputs": []
    },
    {
      "cell_type": "code",
      "metadata": {
        "id": "whZ-FdJvuRpZ"
      },
      "source": [
        "# save the model weights\n",
        "model_train_blur_data.load_weights('retrain_blur.hdf5')"
      ],
      "execution_count": null,
      "outputs": []
    },
    {
      "cell_type": "code",
      "metadata": {
        "colab": {
          "base_uri": "https://localhost:8080/"
        },
        "id": "a3kLASAzuWA5",
        "outputId": "841ba91a-61ef-4e6f-c830-fca2f1fe51f8"
      },
      "source": [
        "# evaluate the retrained model\n",
        "model_train_blur_data_eval = model_train_blur_data.evaluate(test_data, batch_size=128)"
      ],
      "execution_count": null,
      "outputs": [
        {
          "output_type": "stream",
          "text": [
            "117/117 [==============================] - 9s 74ms/step - loss: 1.5392 - accuracy: 0.3498 - precision: 0.6923\n"
          ],
          "name": "stdout"
        }
      ]
    },
    {
      "cell_type": "code",
      "metadata": {
        "id": "XsOMU8H79Evw"
      },
      "source": [
        "# obtain the model loss and accuracy\n",
        "loss_blur = model_train_blur_data_eval[0]\n",
        "accuracy_blur = model_train_blur_data_eval[1]\n",
        "precision_blur = model_train_blur_data_eval[2]"
      ],
      "execution_count": null,
      "outputs": []
    },
    {
      "cell_type": "code",
      "metadata": {
        "id": "0I3b9QLU9qg7"
      },
      "source": [
        "predict_train_blur = model_train_blur_data.predict(test_data, batch_size=128)"
      ],
      "execution_count": null,
      "outputs": []
    },
    {
      "cell_type": "code",
      "metadata": {
        "id": "8-OMnhQ39zKh"
      },
      "source": [
        "# Computes confidence interval without changing the network architecture\n",
        "# assuming Gaussian distribution of prediction accuracy\n",
        "\n",
        "# size of our test dataset\n",
        "n = predict_train_blur.shape[0]\n",
        "\n",
        "# assuming 95% confidence interval\n",
        "Z = 1.96\n",
        "\n",
        "conf_radius_blur = Z * np.sqrt((accuracy_blur * (1 - accuracy_blur)) / n)\n",
        "\n",
        "conf_blur_lower = accuracy_blur - conf_radius_blur\n",
        "conf_blur_upper = accuracy_blur + conf_radius_blur"
      ],
      "execution_count": null,
      "outputs": []
    },
    {
      "cell_type": "code",
      "metadata": {
        "colab": {
          "base_uri": "https://localhost:8080/"
        },
        "id": "RGPAlOrjK3HT",
        "outputId": "eccc63a8-9cf4-4c10-8ac6-724d69278854"
      },
      "source": [
        "print('radius: ', conf_radius_blur)\n",
        "print('lower bound: ', conf_blur_lower)\n",
        "print('upper bound: ', conf_blur_upper)"
      ],
      "execution_count": null,
      "outputs": [
        {
          "output_type": "stream",
          "text": [
            "radius:  0.021632441184738505\n",
            "lower bound:  0.3281265414736477\n",
            "upper bound:  0.37139142384312473\n"
          ],
          "name": "stdout"
        }
      ]
    },
    {
      "cell_type": "code",
      "metadata": {
        "id": "RHMhRcoa-CII"
      },
      "source": [
        "# reshaping test_labels so it's same shape as predictions\n",
        "\n",
        "test_labels_reshape = test_labels.reshape((test_labels.shape[0], 1))\n",
        "\n",
        "# convert numpy arrays to tensors before calling tf confusion matrix function\n",
        "\n",
        "test_labels_reshape_tensor = tf.constant(test_labels)\n",
        "predict_blur_tensor = tf.constant(predict_train_blur)"
      ],
      "execution_count": null,
      "outputs": []
    },
    {
      "cell_type": "code",
      "metadata": {
        "id": "WCSRjEKS-Jzq"
      },
      "source": [
        "# use the tensorflow confusion matrix function\n",
        "\n",
        "confusion_mat_blur = tf.math.confusion_matrix(labels=test_labels_reshape_tensor,\n",
        "                         predictions=predict_blur_tensor,\n",
        "                         num_classes=2)"
      ],
      "execution_count": null,
      "outputs": []
    },
    {
      "cell_type": "code",
      "metadata": {
        "colab": {
          "base_uri": "https://localhost:8080/",
          "height": 275
        },
        "id": "-lD7eWic-SmR",
        "outputId": "4cd7bb67-7af0-44ab-c761-6080f87a80cc"
      },
      "source": [
        "# for plotting the matrix \n",
        "import seaborn as sn\n",
        "\n",
        "# plot the confusion matrix\n",
        "\n",
        "df_cm_blur = pd.DataFrame(confusion_mat_blur.numpy())\n",
        "\n",
        "# for label size\n",
        "sn.set(font_scale=1.4)\n",
        "sn.heatmap(df_cm_blur, annot=True, fmt='g', annot_kws={'size': 16}) # font size\n",
        "plt.show()"
      ],
      "execution_count": null,
      "outputs": [
        {
          "output_type": "display_data",
          "data": {
            "image/png": "[encoded data removed]",
            "text/plain": [
              "<Figure size 432x288 with 2 Axes>"
            ]
          },
          "metadata": {
            "tags": []
          }
        }
      ]
    },
    {
      "cell_type": "markdown",
      "metadata": {
        "id": "6YxZ8CAMXx7A"
      },
      "source": [
        "Function to implement Confusion Matrix"
      ]
    },
    {
      "cell_type": "code",
      "metadata": {
        "id": "bJpfR2JcTQ9V"
      },
      "source": [
        "import seaborn as sn\n",
        "\n",
        "# create a function that generates and plots confusion matrices (for convenience)\n",
        "def createPlotConfusionMatrix(real_labels, predict_labels):\n",
        "  # try converting to classification prediction instead of using full prediction\n",
        "  pred = []\n",
        "  count = 0\n",
        "  for g in predict_labels.ravel():\n",
        "   if g < 0.5:\n",
        "     pred.append(0)\n",
        "   else:\n",
        "     pred.append(1)\n",
        "  \n",
        "  # reshaping test_labels so it's same shape as predictions\n",
        "  real_labels_reshape = real_labels.reshape((real_labels.shape[0], 1))\n",
        "\n",
        "  # convert numpy arrays to tensors before calling tf confusion matrix function\n",
        "  real_labels_reshape_tensor = tf.constant(real_labels)\n",
        "\n",
        "  # predict_blur_tensor = tf.constant(predict_train_blur)\n",
        "  predict_tensor = tf.constant(pred)\n",
        "\n",
        "  # use the tensorflow confusion matrix function\n",
        "  confusion_mat = tf.math.confusion_matrix(labels=real_labels_reshape_tensor,\n",
        "                         predictions=predict_tensor,\n",
        "                         num_classes=2)\n",
        "\n",
        "  # plot the confusion matrix\n",
        "  df_cm = pd.DataFrame(confusion_mat.numpy())\n",
        "\n",
        "  # for label size\n",
        "  sn.set(font_scale=1.4)\n",
        "  sn.heatmap(df_cm, annot=True, fmt='g', annot_kws={'size': 16}) # font size\n",
        "  plt.show()"
      ],
      "execution_count": null,
      "outputs": []
    },
    {
      "cell_type": "code",
      "metadata": {
        "colab": {
          "base_uri": "https://localhost:8080/",
          "height": 275
        },
        "id": "N3wD31qPUrnG",
        "outputId": "685401c3-deb5-4fb0-cd1c-26ff1ca295b2"
      },
      "source": [
        "# plot for InceptionV3\n",
        "createPlotConfusionMatrix(test_labels, predict_incepV3)"
      ],
      "execution_count": null,
      "outputs": [
        {
          "output_type": "display_data",
          "data": {
            "image/png": "[encoded data removed]",
            "text/plain": [
              "<Figure size 432x288 with 2 Axes>"
            ]
          },
          "metadata": {
            "tags": []
          }
        }
      ]
    },
    {
      "cell_type": "code",
      "metadata": {
        "colab": {
          "base_uri": "https://localhost:8080/",
          "height": 277
        },
        "id": "XHq14rbdU7sz",
        "outputId": "bdeac9eb-280c-4328-fb7a-21b9a3fdf7ce"
      },
      "source": [
        "# plot for ResNet\n",
        "createPlotConfusionMatrix(test_labels, predict_resnet)"
      ],
      "execution_count": null,
      "outputs": [
        {
          "output_type": "display_data",
          "data": {
            "image/png": "[encoded data removed]",
            "text/plain": [
              "<Figure size 432x288 with 2 Axes>"
            ]
          },
          "metadata": {
            "tags": []
          }
        }
      ]
    },
    {
      "cell_type": "code",
      "metadata": {
        "colab": {
          "base_uri": "https://localhost:8080/",
          "height": 272
        },
        "id": "wJmaKORLU9lW",
        "outputId": "59a87ee2-7225-4e71-e062-671d7dbdf2eb"
      },
      "source": [
        "# plot for Flipped Transfer\n",
        "createPlotConfusionMatrix(test_labels, predict_train_flipped)"
      ],
      "execution_count": null,
      "outputs": [
        {
          "output_type": "display_data",
          "data": {
            "image/png": "[encoded data removed]",
            "text/plain": [
              "<Figure size 432x288 with 2 Axes>"
            ]
          },
          "metadata": {
            "tags": []
          }
        }
      ]
    },
    {
      "cell_type": "code",
      "metadata": {
        "colab": {
          "base_uri": "https://localhost:8080/",
          "height": 272
        },
        "id": "__G7mblJVASx",
        "outputId": "e805d1bf-4963-470b-feca-7f5ed051df8d"
      },
      "source": [
        "# plot for Noise Transfer\n",
        "createPlotConfusionMatrix(test_labels, predict_train_noise)"
      ],
      "execution_count": null,
      "outputs": [
        {
          "output_type": "display_data",
          "data": {
            "image/png": "[encoded data removed]",
            "text/plain": [
              "<Figure size 432x288 with 2 Axes>"
            ]
          },
          "metadata": {
            "tags": []
          }
        }
      ]
    },
    {
      "cell_type": "code",
      "metadata": {
        "colab": {
          "base_uri": "https://localhost:8080/",
          "height": 277
        },
        "id": "9_vLghh1VCCJ",
        "outputId": "cccf4224-73e7-4010-b0af-ac0ac9334b98"
      },
      "source": [
        "# plot for Blur Transfer\n",
        "createPlotConfusionMatrix(test_labels, predict_train_blur)"
      ],
      "execution_count": null,
      "outputs": [
        {
          "output_type": "display_data",
          "data": {
            "image/png": "[encoded data removed]",
            "text/plain": [
              "<Figure size 432x288 with 2 Axes>"
            ]
          },
          "metadata": {
            "tags": []
          }
        }
      ]
    },
    {
      "cell_type": "markdown",
      "metadata": {
        "id": "c5H6f-UHj88Z"
      },
      "source": [
        "# Re-training Models for ROC plots"
      ]
    },
    {
      "cell_type": "code",
      "metadata": {
        "colab": {
          "base_uri": "https://localhost:8080/"
        },
        "id": "duqPzQSl20Uy",
        "outputId": "9f1572dd-87c4-4ddd-f583-b91b16e77aa4"
      },
      "source": [
        "train_data_128 = tf.keras.preprocessing.image_dataset_from_directory(\n",
        "    './C-NMC_Leukemia/training_data/fold_0',\n",
        "    labels=\"inferred\",\n",
        "    class_names=[\"all\", \"hem\"],\n",
        "    label_mode=\"int\",\n",
        "    image_size=(128, 128),\n",
        "    batch_size=BATCH_SIZE, \n",
        ")"
      ],
      "execution_count": null,
      "outputs": [
        {
          "output_type": "stream",
          "text": [
            "Found 8531 files belonging to 2 classes.\n"
          ],
          "name": "stdout"
        }
      ]
    },
    {
      "cell_type": "code",
      "metadata": {
        "colab": {
          "base_uri": "https://localhost:8080/"
        },
        "id": "9iiJkD3l1JKA",
        "outputId": "2df23910-a704-4a91-bf0b-f065056f0c67"
      },
      "source": [
        "# define (128, 128) image data for the training\n",
        "\n",
        "test_data_128 = tf.keras.preprocessing.image_dataset_from_directory(\n",
        "    './C-NMC_Leukemia/validation_data/',\n",
        "    labels=test_labels.tolist(),\n",
        "    label_mode=\"int\",\n",
        "    image_size=(128, 128),\n",
        "    batch_size=BATCH_SIZE, \n",
        ")"
      ],
      "execution_count": null,
      "outputs": [
        {
          "output_type": "stream",
          "text": [
            "Found 1867 files belonging to 1 classes.\n"
          ],
          "name": "stdout"
        }
      ]
    },
    {
      "cell_type": "code",
      "metadata": {
        "colab": {
          "base_uri": "https://localhost:8080/"
        },
        "id": "mYKaSFr321T-",
        "outputId": "045bd32d-dbf6-4091-a3b9-e1e1d352a8ba"
      },
      "source": [
        "val_data_128 = tf.keras.preprocessing.image_dataset_from_directory(\n",
        "    './C-NMC_Leukemia/training_data/val',\n",
        "    labels=\"inferred\",\n",
        "    class_names=[\"all\", \"hem\"],\n",
        "    label_mode=\"int\",\n",
        "    image_size=(128, 128),\n",
        "    batch_size=BATCH_SIZE,\n",
        ")"
      ],
      "execution_count": null,
      "outputs": [
        {
          "output_type": "stream",
          "text": [
            "Found 2130 files belonging to 2 classes.\n"
          ],
          "name": "stdout"
        }
      ]
    },
    {
      "cell_type": "markdown",
      "metadata": {
        "id": "gDnGjoHhkESZ"
      },
      "source": [
        "## Retrain InceptionV3 Model"
      ]
    },
    {
      "cell_type": "code",
      "metadata": {
        "id": "_eABtyJp0Bnz"
      },
      "source": [
        "from tensorflow.keras.models import Sequential, Model\n",
        "from tensorflow.keras.applications.inception_v3 import InceptionV3, preprocess_input\n",
        "from tensorflow.keras.layers import InputLayer, Conv2D, BatchNormalization, MaxPool2D, Dropout, Flatten, Dense\n",
        "from tensorflow.keras.callbacks import EarlyStopping, ModelCheckpoint, ReduceLROnPlateau"
      ],
      "execution_count": null,
      "outputs": []
    },
    {
      "cell_type": "code",
      "metadata": {
        "colab": {
          "base_uri": "https://localhost:8080/"
        },
        "id": "WnYO5fgo0D3r",
        "outputId": "aea007c1-1e83-46a9-e319-5c652d9d6515"
      },
      "source": [
        "# Creating model with pre trained imagenet weights\n",
        "\n",
        "incep_v3 = InceptionV3(include_top=False, weights='imagenet', input_shape=(128,128,3))"
      ],
      "execution_count": null,
      "outputs": [
        {
          "output_type": "stream",
          "text": [
            "Downloading data from https://storage.googleapis.com/tensorflow/keras-applications/inception_v3/inception_v3_weights_tf_dim_ordering_tf_kernels_notop.h5\n",
            "87916544/87910968 [==============================] - 1s 0us/step\n"
          ],
          "name": "stdout"
        }
      ]
    },
    {
      "cell_type": "code",
      "metadata": {
        "id": "A1Ln8pKs0ISV"
      },
      "source": [
        "# We dont want to train all layers so, we do following step because we are using same weights given in VGG16\n",
        "\n",
        "for layers in incep_v3.layers:\n",
        "    layers.trainable = False"
      ],
      "execution_count": null,
      "outputs": []
    },
    {
      "cell_type": "code",
      "metadata": {
        "id": "ELD1O5ZU0Mw-"
      },
      "source": [
        "# Introducing Flatten Layer\n",
        "\n",
        "x = Flatten()(incep_v3.output)\n",
        "\n",
        "# Introducing FCC & Output Layer\n",
        "\n",
        "fcc_layer_1 = Dense(units = 1024, activation = 'relu')(x)\n",
        "dropout_1   = Dropout(0.3)(fcc_layer_1)\n",
        "\n",
        "fcc_layer_2 = Dense(units = 512, activation = 'relu')(dropout_1)\n",
        "dropout_2   = Dropout(0.3)(fcc_layer_2)\n",
        "\n",
        "final_layer = Dense(units = 1, activation = 'sigmoid')(dropout_2)"
      ],
      "execution_count": null,
      "outputs": []
    },
    {
      "cell_type": "code",
      "metadata": {
        "id": "th17akL80O0p"
      },
      "source": [
        "# Creating Final Model\n",
        "\n",
        "model = Model(inputs = incep_v3.input, outputs = final_layer)"
      ],
      "execution_count": null,
      "outputs": []
    },
    {
      "cell_type": "code",
      "metadata": {
        "id": "Mo1V9_ji0Q0i"
      },
      "source": [
        "# Model Compile \n",
        "\n",
        "model.compile(optimizer = 'adam', \n",
        "              loss = 'binary_crossentropy',\n",
        "              metrics = ['accuracy'])"
      ],
      "execution_count": null,
      "outputs": []
    },
    {
      "cell_type": "code",
      "metadata": {
        "id": "FFkk8-v-0S2F"
      },
      "source": [
        "# Defining Callbacks\n",
        "\n",
        "filepath = './retrain_best_weights_inception.hdf5'\n",
        "\n",
        "earlystopping = EarlyStopping(monitor = 'val_accuracy', \n",
        "                              mode = 'max' , \n",
        "                              patience = 15,\n",
        "                              verbose = 1)\n",
        "\n",
        "checkpoint    = ModelCheckpoint(filepath, \n",
        "                                monitor = 'val_accuracy', \n",
        "                                mode='max', \n",
        "                                save_best_only=True, \n",
        "                                verbose = 1)\n",
        "\n",
        "learning_rate = ReduceLROnPlateau(monitor = 'val_accuracy',\n",
        "                                  mode = 'max',\n",
        "                                  patience = 5,\n",
        "                                  factor = 0.3,\n",
        "                                  min_delta = 0.00001)\n",
        "\n",
        "\n",
        "callback_list = [earlystopping, checkpoint, learning_rate]"
      ],
      "execution_count": null,
      "outputs": []
    },
    {
      "cell_type": "code",
      "metadata": {
        "colab": {
          "base_uri": "https://localhost:8080/"
        },
        "id": "p-5amoAn0Yzz",
        "outputId": "40398b1f-807b-40d4-c38f-3c6b95381667"
      },
      "source": [
        "# Fitting Model\n",
        "\n",
        "model_inception_history = model.fit(train_data_128, \n",
        "                          validation_data=val_data_128,\n",
        "                          epochs=500,\n",
        "                          verbose=1,\n",
        "                          callbacks=callback_list)"
      ],
      "execution_count": null,
      "outputs": [
        {
          "output_type": "stream",
          "text": [
            "Epoch 1/500\n",
            "534/534 [==============================] - ETA: 0s - loss: 3.3350 - accuracy: 0.7298\n",
            "Epoch 00001: val_accuracy improved from -inf to 0.78967, saving model to ./retrain_best_weights_inception.hdf5\n",
            "534/534 [==============================] - 1236s 2s/step - loss: 3.3350 - accuracy: 0.7298 - val_loss: 0.5185 - val_accuracy: 0.7897\n",
            "Epoch 2/500\n",
            "532/534 [============================>.] - ETA: 0s - loss: 0.5910 - accuracy: 0.7361\n",
            "Epoch 00002: val_accuracy did not improve from 0.78967\n",
            "534/534 [==============================] - 178s 333ms/step - loss: 0.5908 - accuracy: 0.7363 - val_loss: 0.5203 - val_accuracy: 0.7765\n",
            "Epoch 3/500\n",
            "532/534 [============================>.] - ETA: 0s - loss: 0.5859 - accuracy: 0.7418\n",
            "Epoch 00003: val_accuracy did not improve from 0.78967\n",
            "534/534 [==============================] - 178s 333ms/step - loss: 0.5859 - accuracy: 0.7421 - val_loss: 0.5650 - val_accuracy: 0.7887\n",
            "Epoch 4/500\n",
            "532/534 [============================>.] - ETA: 0s - loss: 0.5943 - accuracy: 0.7236\n",
            "Epoch 00004: val_accuracy did not improve from 0.78967\n",
            "534/534 [==============================] - 178s 333ms/step - loss: 0.5946 - accuracy: 0.7232 - val_loss: 0.6267 - val_accuracy: 0.6808\n",
            "Epoch 5/500\n",
            "532/534 [============================>.] - ETA: 0s - loss: 0.6250 - accuracy: 0.6836\n",
            "Epoch 00005: val_accuracy did not improve from 0.78967\n",
            "534/534 [==============================] - 178s 333ms/step - loss: 0.6251 - accuracy: 0.6835 - val_loss: 0.6264 - val_accuracy: 0.6808\n",
            "Epoch 6/500\n",
            "532/534 [============================>.] - ETA: 0s - loss: 0.6252 - accuracy: 0.6823\n",
            "Epoch 00006: val_accuracy did not improve from 0.78967\n",
            "534/534 [==============================] - 178s 333ms/step - loss: 0.6251 - accuracy: 0.6825 - val_loss: 0.6265 - val_accuracy: 0.6808\n",
            "Epoch 7/500\n",
            "533/534 [============================>.] - ETA: 0s - loss: 0.6250 - accuracy: 0.6826\n",
            "Epoch 00007: val_accuracy did not improve from 0.78967\n",
            "534/534 [==============================] - 178s 333ms/step - loss: 0.6251 - accuracy: 0.6825 - val_loss: 0.6263 - val_accuracy: 0.6808\n",
            "Epoch 8/500\n",
            "532/534 [============================>.] - ETA: 0s - loss: 0.6252 - accuracy: 0.6823\n",
            "Epoch 00008: val_accuracy did not improve from 0.78967\n",
            "534/534 [==============================] - 178s 333ms/step - loss: 0.6251 - accuracy: 0.6825 - val_loss: 0.6263 - val_accuracy: 0.6808\n",
            "Epoch 9/500\n",
            "532/534 [============================>.] - ETA: 0s - loss: 0.6246 - accuracy: 0.6824\n",
            "Epoch 00009: val_accuracy did not improve from 0.78967\n",
            "534/534 [==============================] - 178s 333ms/step - loss: 0.6247 - accuracy: 0.6825 - val_loss: 0.6263 - val_accuracy: 0.6808\n",
            "Epoch 10/500\n",
            "532/534 [============================>.] - ETA: 0s - loss: 0.6250 - accuracy: 0.6823\n",
            "Epoch 00010: val_accuracy did not improve from 0.78967\n",
            "534/534 [==============================] - 178s 333ms/step - loss: 0.6249 - accuracy: 0.6825 - val_loss: 0.6263 - val_accuracy: 0.6808\n",
            "Epoch 11/500\n",
            "534/534 [==============================] - ETA: 0s - loss: 0.6256 - accuracy: 0.6825\n",
            "Epoch 00011: val_accuracy did not improve from 0.78967\n",
            "534/534 [==============================] - 178s 333ms/step - loss: 0.6256 - accuracy: 0.6825 - val_loss: 0.6263 - val_accuracy: 0.6808\n",
            "Epoch 12/500\n",
            "532/534 [============================>.] - ETA: 0s - loss: 0.6252 - accuracy: 0.6826\n",
            "Epoch 00012: val_accuracy did not improve from 0.78967\n",
            "534/534 [==============================] - 178s 333ms/step - loss: 0.6252 - accuracy: 0.6825 - val_loss: 0.6263 - val_accuracy: 0.6808\n",
            "Epoch 13/500\n",
            "532/534 [============================>.] - ETA: 0s - loss: 0.6253 - accuracy: 0.6822\n",
            "Epoch 00013: val_accuracy did not improve from 0.78967\n",
            "534/534 [==============================] - 178s 333ms/step - loss: 0.6251 - accuracy: 0.6825 - val_loss: 0.6263 - val_accuracy: 0.6808\n",
            "Epoch 14/500\n",
            "534/534 [==============================] - ETA: 0s - loss: 0.6250 - accuracy: 0.6825\n",
            "Epoch 00014: val_accuracy did not improve from 0.78967\n",
            "534/534 [==============================] - 178s 333ms/step - loss: 0.6250 - accuracy: 0.6825 - val_loss: 0.6263 - val_accuracy: 0.6808\n",
            "Epoch 15/500\n",
            "532/534 [============================>.] - ETA: 0s - loss: 0.6254 - accuracy: 0.6822\n",
            "Epoch 00015: val_accuracy did not improve from 0.78967\n",
            "534/534 [==============================] - 178s 333ms/step - loss: 0.6252 - accuracy: 0.6825 - val_loss: 0.6263 - val_accuracy: 0.6808\n",
            "Epoch 16/500\n",
            "532/534 [============================>.] - ETA: 0s - loss: 0.6252 - accuracy: 0.6823\n",
            "Epoch 00016: val_accuracy did not improve from 0.78967\n",
            "534/534 [==============================] - 178s 333ms/step - loss: 0.6251 - accuracy: 0.6825 - val_loss: 0.6263 - val_accuracy: 0.6808\n",
            "Epoch 00016: early stopping\n"
          ],
          "name": "stdout"
        }
      ]
    },
    {
      "cell_type": "code",
      "metadata": {
        "colab": {
          "base_uri": "https://localhost:8080/"
        },
        "id": "GGDgcPvi35z-",
        "outputId": "01a8f070-e896-4d23-f87f-88415c49bf72"
      },
      "source": [
        "# model_retrain_noise.model.save_weights('./retrain_imbalance/noise')\n",
        "model_inception_history.model.save('./retrain_inception_resnet/inception')\n",
        "\n",
        "model_inception_history.model.evaluate(test_data_128, batch_size=128)"
      ],
      "execution_count": null,
      "outputs": [
        {
          "output_type": "stream",
          "text": [
            "INFO:tensorflow:Assets written to: ./retrain_inception_resnet/inception/assets\n",
            "117/117 [==============================] - 282s 2s/step - loss: 0.8816 - accuracy: 0.3471\n"
          ],
          "name": "stdout"
        },
        {
          "output_type": "execute_result",
          "data": {
            "text/plain": [
              "[0.8815616965293884, 0.34708088636398315]"
            ]
          },
          "metadata": {
            "tags": []
          },
          "execution_count": 57
        }
      ]
    },
    {
      "cell_type": "code",
      "metadata": {
        "id": "pRRTjisWCCBk"
      },
      "source": [
        "# Save history\n",
        "with open('./retrain_inception_resnet/inception_history', 'wb') as file_pi:\n",
        "  pickle.dump(model_inception_history.history, file_pi)"
      ],
      "execution_count": null,
      "outputs": []
    },
    {
      "cell_type": "markdown",
      "metadata": {
        "id": "lLHqZDnBkGi4"
      },
      "source": [
        "## Retrain ResNet Model"
      ]
    },
    {
      "cell_type": "code",
      "metadata": {
        "id": "dwtj8MTT4Y84"
      },
      "source": [
        "from tensorflow.keras.applications import ResNet50V2"
      ],
      "execution_count": null,
      "outputs": []
    },
    {
      "cell_type": "code",
      "metadata": {
        "id": "aVdsTFLR4ZpQ"
      },
      "source": [
        "model_resnet = ResNet50V2(\n",
        "    include_top=False,\n",
        "    weights=\"imagenet\",\n",
        "    input_tensor=None,\n",
        "    input_shape=(128,128, 3),\n",
        "    pooling=None,\n",
        "    classes=1,\n",
        "    classifier_activation=\"softmax\",\n",
        ")"
      ],
      "execution_count": null,
      "outputs": []
    },
    {
      "cell_type": "code",
      "metadata": {
        "id": "Bq7zhahy4cUh"
      },
      "source": [
        "for layers in model_resnet.layers:\n",
        "  layers.trainable = False\n",
        "\n",
        "x = Flatten()(model_resnet.output)\n",
        "\n",
        "fcc_layer_1 = Dense(units = 1024, activation = 'relu')(x)\n",
        "dropout_1   = Dropout(0.3)(fcc_layer_1)\n",
        "\n",
        "fcc_layer_2 = Dense(units = 512, activation = 'relu')(dropout_1)\n",
        "dropout_2   = Dropout(0.3)(fcc_layer_2)\n",
        "\n",
        "final_layer = Dense(units = 1, activation = 'sigmoid')(dropout_2)\n",
        "\n",
        "model_resnet = Model(inputs = model_resnet.input, outputs = final_layer)\n",
        "\n",
        "model_resnet.compile(optimizer = 'adam', \n",
        "              loss = 'binary_crossentropy',\n",
        "              metrics = ['accuracy'])"
      ],
      "execution_count": null,
      "outputs": []
    },
    {
      "cell_type": "code",
      "metadata": {
        "id": "pb6Dn7JK4gqy"
      },
      "source": [
        "filepath = './retrain_best_weights_resnet.hdf5'\n",
        "\n",
        "earlystopping = EarlyStopping(monitor = 'val_accuracy', \n",
        "                              mode = 'max' , \n",
        "                              patience = 15,\n",
        "                              verbose = 1)\n",
        "\n",
        "checkpoint    = ModelCheckpoint(filepath, \n",
        "                                monitor = 'val_accuracy', \n",
        "                                mode='max', \n",
        "                                save_best_only=True, \n",
        "                                verbose = 1)\n",
        "\n",
        "learning_rate = ReduceLROnPlateau(monitor = 'val_accuracy',\n",
        "                                  mode = 'max',\n",
        "                                  patience = 5,\n",
        "                                  factor = 0.3,\n",
        "                                  min_delta = 0.00001)\n",
        "\n",
        "\n",
        "callback_list = [earlystopping, checkpoint, learning_rate]"
      ],
      "execution_count": null,
      "outputs": []
    },
    {
      "cell_type": "code",
      "metadata": {
        "colab": {
          "base_uri": "https://localhost:8080/"
        },
        "id": "I0fgNitM4odP",
        "outputId": "ff186026-8d09-45c7-9732-6ccc52b26ac6"
      },
      "source": [
        "model_resnet_history = model_resnet.fit(train_data_128, \n",
        "                          validation_data=val_data_128,\n",
        "                          epochs=500,\n",
        "                          verbose=1,\n",
        "                          callbacks=callback_list)"
      ],
      "execution_count": null,
      "outputs": [
        {
          "output_type": "stream",
          "text": [
            "Epoch 1/500\n",
            "534/534 [==============================] - ETA: 0s - loss: 10.6378 - accuracy: 0.7202\n",
            "Epoch 00001: val_accuracy improved from -inf to 0.78404, saving model to ./retrain_best_weights_resnet.hdf5\n",
            "534/534 [==============================] - 3306s 6s/step - loss: 10.6378 - accuracy: 0.7202 - val_loss: 0.5602 - val_accuracy: 0.7840\n",
            "Epoch 2/500\n",
            "532/534 [============================>.] - ETA: 0s - loss: 0.6140 - accuracy: 0.7355\n",
            "Epoch 00002: val_accuracy did not improve from 0.78404\n",
            "534/534 [==============================] - 178s 333ms/step - loss: 0.6137 - accuracy: 0.7358 - val_loss: 0.6268 - val_accuracy: 0.6812\n",
            "Epoch 3/500\n",
            "532/534 [============================>.] - ETA: 0s - loss: 0.6526 - accuracy: 0.6816\n",
            "Epoch 00003: val_accuracy did not improve from 0.78404\n",
            "534/534 [==============================] - 178s 333ms/step - loss: 0.6524 - accuracy: 0.6817 - val_loss: 0.6263 - val_accuracy: 0.6808\n",
            "Epoch 4/500\n",
            "532/534 [============================>.] - ETA: 0s - loss: 0.6333 - accuracy: 0.6823\n",
            "Epoch 00004: val_accuracy did not improve from 0.78404\n",
            "534/534 [==============================] - 178s 333ms/step - loss: 0.6332 - accuracy: 0.6825 - val_loss: 0.6269 - val_accuracy: 0.6808\n",
            "Epoch 5/500\n",
            "532/534 [============================>.] - ETA: 0s - loss: 0.6332 - accuracy: 0.6826\n",
            "Epoch 00005: val_accuracy did not improve from 0.78404\n",
            "534/534 [==============================] - 178s 333ms/step - loss: 0.6333 - accuracy: 0.6825 - val_loss: 0.6270 - val_accuracy: 0.6812\n",
            "Epoch 6/500\n",
            "532/534 [============================>.] - ETA: 0s - loss: 0.6254 - accuracy: 0.6828\n",
            "Epoch 00006: val_accuracy did not improve from 0.78404\n",
            "534/534 [==============================] - 178s 333ms/step - loss: 0.6255 - accuracy: 0.6827 - val_loss: 0.6262 - val_accuracy: 0.6812\n",
            "Epoch 7/500\n",
            "532/534 [============================>.] - ETA: 0s - loss: 0.6249 - accuracy: 0.6828\n",
            "Epoch 00007: val_accuracy did not improve from 0.78404\n",
            "534/534 [==============================] - 178s 333ms/step - loss: 0.6250 - accuracy: 0.6827 - val_loss: 0.6262 - val_accuracy: 0.6812\n",
            "Epoch 8/500\n",
            "534/534 [==============================] - ETA: 0s - loss: 0.6250 - accuracy: 0.6827\n",
            "Epoch 00008: val_accuracy did not improve from 0.78404\n",
            "534/534 [==============================] - 178s 333ms/step - loss: 0.6250 - accuracy: 0.6827 - val_loss: 0.6262 - val_accuracy: 0.6812\n",
            "Epoch 9/500\n",
            "532/534 [============================>.] - ETA: 0s - loss: 0.6249 - accuracy: 0.6826\n",
            "Epoch 00009: val_accuracy did not improve from 0.78404\n",
            "534/534 [==============================] - 178s 333ms/step - loss: 0.6248 - accuracy: 0.6827 - val_loss: 0.6262 - val_accuracy: 0.6812\n",
            "Epoch 10/500\n",
            "534/534 [==============================] - ETA: 0s - loss: 0.6248 - accuracy: 0.6839\n",
            "Epoch 00010: val_accuracy did not improve from 0.78404\n",
            "534/534 [==============================] - 178s 333ms/step - loss: 0.6248 - accuracy: 0.6839 - val_loss: 0.6264 - val_accuracy: 0.6808\n",
            "Epoch 11/500\n",
            "532/534 [============================>.] - ETA: 0s - loss: 0.6253 - accuracy: 0.6826\n",
            "Epoch 00011: val_accuracy did not improve from 0.78404\n",
            "534/534 [==============================] - 178s 333ms/step - loss: 0.6252 - accuracy: 0.6827 - val_loss: 0.6264 - val_accuracy: 0.6808\n",
            "Epoch 12/500\n",
            "532/534 [============================>.] - ETA: 0s - loss: 0.6248 - accuracy: 0.6834\n",
            "Epoch 00012: val_accuracy did not improve from 0.78404\n",
            "534/534 [==============================] - 178s 333ms/step - loss: 0.6253 - accuracy: 0.6827 - val_loss: 0.6264 - val_accuracy: 0.6808\n",
            "Epoch 13/500\n",
            "532/534 [============================>.] - ETA: 0s - loss: 0.6251 - accuracy: 0.6826\n",
            "Epoch 00013: val_accuracy did not improve from 0.78404\n",
            "534/534 [==============================] - 178s 333ms/step - loss: 0.6251 - accuracy: 0.6827 - val_loss: 0.6264 - val_accuracy: 0.6808\n",
            "Epoch 14/500\n",
            "532/534 [============================>.] - ETA: 0s - loss: 0.6255 - accuracy: 0.6826\n",
            "Epoch 00014: val_accuracy did not improve from 0.78404\n",
            "534/534 [==============================] - 178s 333ms/step - loss: 0.6254 - accuracy: 0.6827 - val_loss: 0.6264 - val_accuracy: 0.6808\n",
            "Epoch 15/500\n",
            "534/534 [==============================] - ETA: 0s - loss: 0.6248 - accuracy: 0.6827\n",
            "Epoch 00015: val_accuracy did not improve from 0.78404\n",
            "534/534 [==============================] - 178s 333ms/step - loss: 0.6248 - accuracy: 0.6827 - val_loss: 0.6264 - val_accuracy: 0.6808\n",
            "Epoch 16/500\n",
            "532/534 [============================>.] - ETA: 0s - loss: 0.6254 - accuracy: 0.6826\n",
            "Epoch 00016: val_accuracy did not improve from 0.78404\n",
            "534/534 [==============================] - 178s 333ms/step - loss: 0.6253 - accuracy: 0.6827 - val_loss: 0.6264 - val_accuracy: 0.6808\n",
            "Epoch 00016: early stopping\n"
          ],
          "name": "stdout"
        }
      ]
    },
    {
      "cell_type": "code",
      "metadata": {
        "id": "OcA2NjuG42Q-",
        "colab": {
          "base_uri": "https://localhost:8080/"
        },
        "outputId": "cd03f417-d00e-424e-d3fb-4c1ac322dd0c"
      },
      "source": [
        "# model_retrain_noise.model.save_weights('./retrain_imbalance/noise')\n",
        "model_resnet_history.model.save('./retrain_inception_resnet/resnet')\n",
        "\n",
        "model_resnet_history.model.evaluate(test_data_128, batch_size=128)"
      ],
      "execution_count": null,
      "outputs": [
        {
          "output_type": "stream",
          "text": [
            "WARNING:tensorflow:From /usr/local/lib/python3.6/dist-packages/tensorflow/python/training/tracking/tracking.py:111: Model.state_updates (from tensorflow.python.keras.engine.training) is deprecated and will be removed in a future version.\n",
            "Instructions for updating:\n",
            "This property should not be used in TensorFlow 2.0, as updates are applied automatically.\n",
            "WARNING:tensorflow:From /usr/local/lib/python3.6/dist-packages/tensorflow/python/training/tracking/tracking.py:111: Layer.updates (from tensorflow.python.keras.engine.base_layer) is deprecated and will be removed in a future version.\n",
            "Instructions for updating:\n",
            "This property should not be used in TensorFlow 2.0, as updates are applied automatically.\n",
            "INFO:tensorflow:Assets written to: ./retrain_inception_resnet/resnet/assets\n",
            "117/117 [==============================] - 495s 4s/step - loss: 0.8766 - accuracy: 0.3465\n"
          ],
          "name": "stdout"
        },
        {
          "output_type": "execute_result",
          "data": {
            "text/plain": [
              "[0.8766463994979858, 0.3465452492237091]"
            ]
          },
          "metadata": {
            "tags": []
          },
          "execution_count": 43
        }
      ]
    },
    {
      "cell_type": "code",
      "metadata": {
        "id": "KL8XwjH1CEzg"
      },
      "source": [
        "# Save history\n",
        "with open('./retrain_inception_resnet/resnet_history', 'wb') as file_pi:\n",
        "  pickle.dump(model_resnet_history.history, file_pi)"
      ],
      "execution_count": null,
      "outputs": []
    },
    {
      "cell_type": "markdown",
      "metadata": {
        "id": "GOYXxpgq2QBy"
      },
      "source": [
        "# Confidence Interval Bar Plots"
      ]
    },
    {
      "cell_type": "code",
      "metadata": {
        "id": "mAp5qr7L2YBk"
      },
      "source": [
        "# width of the bars\n",
        "barWidth = 0.3"
      ],
      "execution_count": null,
      "outputs": []
    },
    {
      "cell_type": "code",
      "metadata": {
        "id": "GeFJfH7w2grM"
      },
      "source": [
        "# choose the weight of the bars (for Inception, Resnet, and 3 transfer learning)\n",
        "\n",
        "acc_incepV3 = accuracy_incepv3\n",
        "acc_resnet = accuracy_resnet\n",
        "acc_flip = accuracy_flipped\n",
        "acc_noise = accuracy_noise\n",
        "acc_blur = accuracy_blur\n",
        "\n",
        "conf_int_incepV3 = conf_radius_incepV3\n",
        "conf_int_resnet = conf_radius_resnet\n",
        "conf_int_flip = conf_radius_flipped\n",
        "conf_int_noise = conf_radius_noise\n",
        "conf_int_blur = conf_radius_blur"
      ],
      "execution_count": null,
      "outputs": []
    },
    {
      "cell_type": "markdown",
      "metadata": {
        "id": "iU4oPy2t5q5g"
      },
      "source": [
        "## Confidence Interval for InceptionV3, ResNet and 3 Transfer Learnings (combined)"
      ]
    },
    {
      "cell_type": "code",
      "metadata": {
        "id": "uuAoc3xp57WD"
      },
      "source": [
        "def confIntervalBarChart(bars, yer, labels):\n",
        "  # x position of the bars\n",
        "  r1 = np.arange(len(bars))\n",
        "  r2 = [x + barWidth for x in r1]\n",
        "\n",
        "  # create blur bars\n",
        "  plt.bar(r1, bars, width=barWidth, color='cyan', edgecolor='black', yerr=yer, capsize=7)\n",
        "\n",
        "  # general layout\n",
        "  plt.xticks([r + barWidth for r in range(len(bars))], labels)\n",
        "  plt.ylabel('accuracy')\n",
        "\n",
        "  # Show graphic\n",
        "  plt.show()"
      ],
      "execution_count": null,
      "outputs": []
    },
    {
      "cell_type": "markdown",
      "metadata": {
        "id": "7IBzLZs-6t9V"
      },
      "source": [
        "Displaying confidence intervals for all 5 at once. If I want to create charts for only a single model, we can run the function on smaller lists."
      ]
    },
    {
      "cell_type": "code",
      "metadata": {
        "colab": {
          "base_uri": "https://localhost:8080/",
          "height": 267
        },
        "id": "P7wKRzs86a0r",
        "outputId": "b0a1f7c0-d0fd-47f6-aa4b-93c8eaf201aa"
      },
      "source": [
        "allBars = [acc_incepV3, acc_resnet, acc_flip, acc_noise, acc_blur]\n",
        "allYers = [conf_int_incepV3, conf_int_resnet, conf_int_flip, conf_int_noise, conf_int_blur]\n",
        "allLabels = ['InceptionV3', 'ResNet', 'Flip', 'Noise', 'Blur']\n",
        "\n",
        "# display confidence intervals for all 5 models at once\n",
        "confIntervalBarChart(allBars, allYers, allLabels)"
      ],
      "execution_count": null,
      "outputs": [
        {
          "output_type": "display_data",
          "data": {
            "image/png": "[encoded data removed]",
            "text/plain": [
              "<Figure size 432x288 with 1 Axes>"
            ]
          },
          "metadata": {
            "tags": [],
            "needs_background": "light"
          }
        }
      ]
    },
    {
      "cell_type": "code",
      "metadata": {
        "colab": {
          "base_uri": "https://localhost:8080/",
          "height": 256
        },
        "id": "UFJsA-7A64eR",
        "outputId": "72bc973a-c037-499a-d212-42f743d5ef55"
      },
      "source": [
        "# confidence interval for only InceptionV3\n",
        "incepV3Bars = [acc_incepV3]\n",
        "incepV3Yers = [conf_int_incepV3]\n",
        "incepV3Labels = ['InceptionV3']\n",
        "\n",
        "confIntervalBarChart(incepV3Bars, incepV3Yers, incepV3Labels)"
      ],
      "execution_count": null,
      "outputs": [
        {
          "output_type": "display_data",
          "data": {
            "image/png": "[encoded data removed]",
            "text/plain": [
              "<Figure size 432x288 with 1 Axes>"
            ]
          },
          "metadata": {
            "tags": [],
            "needs_background": "light"
          }
        }
      ]
    },
    {
      "cell_type": "code",
      "metadata": {
        "colab": {
          "base_uri": "https://localhost:8080/",
          "height": 256
        },
        "id": "1y8-daFu64xG",
        "outputId": "b074014a-985a-4344-c7c7-9987ce3553ab"
      },
      "source": [
        "# confidence interval for only ResNet\n",
        "resnetBars = [acc_resnet]\n",
        "resnetYers = [conf_int_resnet]\n",
        "resnetLabels = ['ResNet']\n",
        "\n",
        "confIntervalBarChart(resnetBars, resnetYers, resnetLabels)"
      ],
      "execution_count": null,
      "outputs": [
        {
          "output_type": "display_data",
          "data": {
            "image/png": "[encoded data removed]",
            "text/plain": [
              "<Figure size 432x288 with 1 Axes>"
            ]
          },
          "metadata": {
            "tags": [],
            "needs_background": "light"
          }
        }
      ]
    },
    {
      "cell_type": "code",
      "metadata": {
        "colab": {
          "base_uri": "https://localhost:8080/",
          "height": 253
        },
        "id": "k_19kCza65Eg",
        "outputId": "b0c49974-0fd9-4f16-c590-9a6640653b74"
      },
      "source": [
        "# confidence interval for only Flipped Transfer Learn\n",
        "flipBars = [acc_flip]\n",
        "flipYers = [conf_int_flip]\n",
        "flipLabels = ['Flip']\n",
        "\n",
        "confIntervalBarChart(flipBars, flipYers, flipLabels)"
      ],
      "execution_count": null,
      "outputs": [
        {
          "output_type": "display_data",
          "data": {
            "image/png": "[encoded data removed]",
            "text/plain": [
              "<Figure size 432x288 with 1 Axes>"
            ]
          },
          "metadata": {
            "tags": [],
            "needs_background": "light"
          }
        }
      ]
    },
    {
      "cell_type": "code",
      "metadata": {
        "colab": {
          "base_uri": "https://localhost:8080/",
          "height": 257
        },
        "id": "_TIgicG165bB",
        "outputId": "1b9417fe-b5ab-46d0-ad38-fea07e14b7f4"
      },
      "source": [
        "# confidence interval for only Noise Transfer Learn\n",
        "noiseBars = [acc_noise]\n",
        "noiseYers = [conf_int_noise]\n",
        "noiseLabels = ['Noise']\n",
        "\n",
        "confIntervalBarChart(noiseBars, noiseYers, noiseLabels)"
      ],
      "execution_count": null,
      "outputs": [
        {
          "output_type": "display_data",
          "data": {
            "image/png": "[encoded data removed]",
            "text/plain": [
              "<Figure size 432x288 with 1 Axes>"
            ]
          },
          "metadata": {
            "tags": [],
            "needs_background": "light"
          }
        }
      ]
    },
    {
      "cell_type": "code",
      "metadata": {
        "colab": {
          "base_uri": "https://localhost:8080/",
          "height": 253
        },
        "id": "r3H7rPdF657j",
        "outputId": "354bb3ed-1dc6-4e55-e01f-d6404507505b"
      },
      "source": [
        "# confidence interval for only Blur Transfer Learn\n",
        "blurBars = [acc_blur]\n",
        "blurYers = [conf_int_blur]\n",
        "blurLabels = ['Blur']\n",
        "\n",
        "confIntervalBarChart(blurBars, blurYers, blurLabels)"
      ],
      "execution_count": null,
      "outputs": [
        {
          "output_type": "display_data",
          "data": {
            "image/png": "[encoded data removed]",
            "text/plain": [
              "<Figure size 432x288 with 1 Axes>"
            ]
          },
          "metadata": {
            "tags": [],
            "needs_background": "light"
          }
        }
      ]
    },
    {
      "cell_type": "markdown",
      "metadata": {
        "id": "4Na3iDMa6WbI"
      },
      "source": [
        "Commenting below (implemented as function)"
      ]
    },
    {
      "cell_type": "code",
      "metadata": {
        "id": "3KcCpVrD4Wky"
      },
      "source": [
        "# x position of the bars\n",
        "# r1 = np.arange(len(bars))\n",
        "# r2 = [x + barWidth for x in r1]\n",
        "\n",
        "# create blur bars\n",
        "# plt.bar(r1, bars, width=barWidth, color='blue', edgecolor='black', yerr=yer, capsize=7)\n",
        "\n",
        "# general layout\n",
        "# plt.xticks([r + barWidth for r in range(len(bars))], ['InceptionV3', 'ResNet', 'Flip', 'Noise', 'Blur'])\n",
        "# plt.ylabel('accuracy')\n",
        "\n",
        "# Show graphic\n",
        "# plt.show()"
      ],
      "execution_count": null,
      "outputs": []
    },
    {
      "cell_type": "markdown",
      "metadata": {
        "id": "SWt_M9nkI0gQ"
      },
      "source": [
        "# ROC Curves (TODO plot for all of them)"
      ]
    },
    {
      "cell_type": "code",
      "metadata": {
        "id": "RVOF4NEcJmtm"
      },
      "source": [
        "import pickle"
      ],
      "execution_count": null,
      "outputs": []
    },
    {
      "cell_type": "markdown",
      "metadata": {
        "id": "m5qvl3PcI4Hc"
      },
      "source": [
        "## Load Files"
      ]
    },
    {
      "cell_type": "code",
      "metadata": {
        "id": "Wam3kTSOI6A3"
      },
      "source": [
        "# model_retrain_5     = tf.keras.models.load_model('./retrain_inception_resnet/5.hdf5')\n",
        "model_retrain_flipped  = tf.keras.models.load_model('./retrain_inception_resnet/flipped')\n",
        "model_retrain_noise = tf.keras.models.load_model('./retrain_inception_resnet/noise')\n",
        "model_retrain_blur  = tf.keras.models.load_model('./retrain_inception_resnet/blur')\n",
        "model_retrain_inception = tf.keras.models.load_model('./retrain_inception_resnet/inception')\n",
        "model_retrain_resnet = tf.keras.models.load_model('./retrain_inception_resnet/resnet')"
      ],
      "execution_count": null,
      "outputs": []
    },
    {
      "cell_type": "markdown",
      "metadata": {
        "id": "bYuAXWslJg04"
      },
      "source": [
        "## Load Histories"
      ]
    },
    {
      "cell_type": "code",
      "metadata": {
        "id": "Itto07N_JB5c"
      },
      "source": [
        "# history_5 = pickle.load(open('./retrain_imbalance/5_history', \"rb\"))\n",
        "history_flipped = pickle.load(open('./retrain_inception_resnet/flipped_history', \"rb\"))\n",
        "history_noise = pickle.load(open('./retrain_inception_resnet/noise_history', \"rb\"))\n",
        "history_blur = pickle.load(open('./retrain_inception_resnet/blur_history', \"rb\"))\n",
        "history_inception = pickle.load(open('./retrain_inception_resnet/inception_history', \"rb\"))\n",
        "history_resnet = pickle.load(open('./retrain_inception_resnet/resnet_history', \"rb\"))"
      ],
      "execution_count": null,
      "outputs": []
    },
    {
      "cell_type": "code",
      "metadata": {
        "id": "YXB6twNOJCem"
      },
      "source": [
        "# print(history_5.keys())"
      ],
      "execution_count": null,
      "outputs": []
    },
    {
      "cell_type": "markdown",
      "metadata": {
        "id": "aIXLL3K7JsOV"
      },
      "source": [
        "## ROC"
      ]
    },
    {
      "cell_type": "code",
      "metadata": {
        "id": "YBQHJ93AJtoY"
      },
      "source": [
        "from sklearn.metrics import roc_curve\n",
        "from sklearn.metrics import auc"
      ],
      "execution_count": null,
      "outputs": []
    },
    {
      "cell_type": "code",
      "metadata": {
        "id": "bI0juX8SaGta"
      },
      "source": [
        "# predict the model\n",
        "# TODO do we make batch size 128?\n",
        "hi = model_retrain_flipped.predict(test_data, batch_size=128)"
      ],
      "execution_count": null,
      "outputs": []
    },
    {
      "cell_type": "code",
      "metadata": {
        "colab": {
          "base_uri": "https://localhost:8080/"
        },
        "id": "p6Zlis8pa6Ki",
        "outputId": "814e075c-1b24-47e1-d698-116b147c4091"
      },
      "source": [
        "print(len(hi))"
      ],
      "execution_count": null,
      "outputs": [
        {
          "output_type": "stream",
          "text": [
            "1867\n"
          ],
          "name": "stdout"
        }
      ]
    },
    {
      "cell_type": "code",
      "metadata": {
        "id": "Rb2B62dPJ-xR",
        "colab": {
          "base_uri": "https://localhost:8080/"
        },
        "outputId": "3045ab28-b543-43e2-b348-b430d2efd914"
      },
      "source": [
        "# uses our default comparison (model flipped) as our comparison\n",
        "pred = []\n",
        "count = 0\n",
        "for g in hi.ravel():\n",
        "  if g < 0.5:\n",
        "    count +=1\n",
        "    pred.append(0)\n",
        "  else:\n",
        "    pred.append(1)\n",
        "print(count)"
      ],
      "execution_count": null,
      "outputs": [
        {
          "output_type": "stream",
          "text": [
            "1685\n"
          ],
          "name": "stdout"
        }
      ]
    },
    {
      "cell_type": "code",
      "metadata": {
        "id": "cJ5PE2F6Jwhr"
      },
      "source": [
        "fpr_keras, tpr_keras, thresholds_keras = roc_curve(test_labels, pred)"
      ],
      "execution_count": null,
      "outputs": []
    },
    {
      "cell_type": "code",
      "metadata": {
        "id": "A9mmIbcOJ_SG"
      },
      "source": [
        "auc_keras = auc(fpr_keras, tpr_keras)"
      ],
      "execution_count": null,
      "outputs": []
    },
    {
      "cell_type": "code",
      "metadata": {
        "id": "kvybw9odKKkH",
        "colab": {
          "base_uri": "https://localhost:8080/",
          "height": 295
        },
        "outputId": "a1ec2147-64aa-4758-b767-b7a1b14003ea"
      },
      "source": [
        "plt.figure(1)\n",
        "plt.plot([0, 1], [0, 1], 'k--')\n",
        "plt.plot(fpr_keras, tpr_keras, label='Default (area = {:.3f})'.format(auc_keras))\n",
        "# plt.plot(fpr_rf, tpr_rf, label='RF (area = {:.3f})'.format(auc_rf))\n",
        "plt.xlabel('False positive rate')\n",
        "plt.ylabel('True positive rate')\n",
        "plt.title('ROC curve')\n",
        "plt.legend(loc='best')\n",
        "plt.show()"
      ],
      "execution_count": null,
      "outputs": [
        {
          "output_type": "display_data",
          "data": {
            "image/png": "[encoded data removed]",
            "text/plain": [
              "<Figure size 432x288 with 1 Axes>"
            ]
          },
          "metadata": {
            "tags": [],
            "needs_background": "light"
          }
        }
      ]
    },
    {
      "cell_type": "code",
      "metadata": {
        "id": "UjFNvU9kHMt9"
      },
      "source": [
        "# TODO is something wrong with displaying the information???\n",
        "# implement ROC as a function\n",
        "def createROCPlot(model, test_data):\n",
        "  # predict the model\n",
        "  hi = model.predict(test_data, batch_size=128)\n",
        "\n",
        "  pred = hi.ravel()\n",
        "  # TODO implement this\n",
        "  #pred = []\n",
        "  #count = 0\n",
        "  #for g in hi.ravel():\n",
        "  #  if g < 0.5:\n",
        "  #    count +=1\n",
        "  #    pred.append(0)\n",
        "  #  else:\n",
        "  #    pred.append(1)\n",
        "\n",
        "\n",
        "  # y_true: true binary labels\n",
        "  # y_score: target scores, can be probability estimates of a positive class\n",
        "  #   or non-threshold measure of decisions\n",
        "  fpr_keras, tpr_keras, thresholds_keras = roc_curve(y_true=test_labels,\n",
        "                                                     y_score=pred,\n",
        "                                                     pos_label=1)\n",
        "\n",
        "  # compute the area under the curve\n",
        "  auc_keras = auc(fpr_keras, tpr_keras)\n",
        "\n",
        "  plt.figure(1)\n",
        "  plt.plot([0, 1], [0, 1], 'k--')\n",
        "  plt.plot(fpr_keras, tpr_keras, label='Default (area = {:.3f})'.format(auc_keras))\n",
        "  # plt.plot(fpr_rf, tpr_rf, label='RF (area = {:.3f})'.format(auc_rf))\n",
        "  plt.xlabel('False positive rate')\n",
        "  plt.ylabel('True positive rate')\n",
        "  plt.title('ROC curve')\n",
        "  plt.legend(loc='best')\n",
        "  plt.show()"
      ],
      "execution_count": null,
      "outputs": []
    },
    {
      "cell_type": "markdown",
      "metadata": {
        "id": "We26FtLZIXcf"
      },
      "source": [
        "Plot the ROC plots for InceptionV3, ResNet, and 3 Transfer Learning Models"
      ]
    },
    {
      "cell_type": "code",
      "metadata": {
        "colab": {
          "base_uri": "https://localhost:8080/",
          "height": 315
        },
        "id": "7y-dbxz3I2kE",
        "outputId": "82258edb-8730-40e8-b202-c8cadf6074d9"
      },
      "source": [
        "# flipped\n",
        "createROCPlot(model_retrain_flipped, test_data)"
      ],
      "execution_count": null,
      "outputs": [
        {
          "output_type": "display_data",
          "data": {
            "image/png": "[encoded data removed]",
            "text/plain": [
              "<Figure size 432x288 with 1 Axes>"
            ]
          },
          "metadata": {
            "tags": []
          }
        }
      ]
    },
    {
      "cell_type": "code",
      "metadata": {
        "colab": {
          "base_uri": "https://localhost:8080/",
          "height": 315
        },
        "id": "qIs1xEOaJBh7",
        "outputId": "63b9ca74-edd4-49f2-ec81-8d1325f2f3e6"
      },
      "source": [
        "# InceptionV3\n",
        "createROCPlot(model_retrain_inception, test_data_128)"
      ],
      "execution_count": null,
      "outputs": [
        {
          "output_type": "display_data",
          "data": {
            "image/png": "[encoded data removed]",
            "text/plain": [
              "<Figure size 432x288 with 1 Axes>"
            ]
          },
          "metadata": {
            "tags": []
          }
        }
      ]
    },
    {
      "cell_type": "code",
      "metadata": {
        "colab": {
          "base_uri": "https://localhost:8080/",
          "height": 315
        },
        "id": "p3LjCA-xJnop",
        "outputId": "58f08739-674f-467d-fd01-3f2ccf77d8fa"
      },
      "source": [
        "# ResNet\n",
        "createROCPlot(model_retrain_resnet, test_data_128)"
      ],
      "execution_count": null,
      "outputs": [
        {
          "output_type": "display_data",
          "data": {
            "image/png": "[encoded data removed]",
            "text/plain": [
              "<Figure size 432x288 with 1 Axes>"
            ]
          },
          "metadata": {
            "tags": []
          }
        }
      ]
    },
    {
      "cell_type": "code",
      "metadata": {
        "colab": {
          "base_uri": "https://localhost:8080/",
          "height": 315
        },
        "id": "Or_HRCl_Jsrb",
        "outputId": "3cdad7c6-714b-495f-e868-57430d849aaa"
      },
      "source": [
        "# noise\n",
        "createROCPlot(model_retrain_noise, test_data)"
      ],
      "execution_count": null,
      "outputs": [
        {
          "output_type": "display_data",
          "data": {
            "image/png": "[encoded data removed]",
            "text/plain": [
              "<Figure size 432x288 with 1 Axes>"
            ]
          },
          "metadata": {
            "tags": []
          }
        }
      ]
    },
    {
      "cell_type": "code",
      "metadata": {
        "colab": {
          "base_uri": "https://localhost:8080/",
          "height": 315
        },
        "id": "DbcwCXFPJwTn",
        "outputId": "2e571661-5271-4f8b-ed48-a63b980271a0"
      },
      "source": [
        "# blur\n",
        "createROCPlot(model_retrain_blur, test_data)"
      ],
      "execution_count": null,
      "outputs": [
        {
          "output_type": "display_data",
          "data": {
            "image/png": "[encoded data removed]",
            "text/plain": [
              "<Figure size 432x288 with 1 Axes>"
            ]
          },
          "metadata": {
            "tags": []
          }
        }
      ]
    },
    {
      "cell_type": "markdown",
      "metadata": {
        "id": "N_e6-83ZKpK8"
      },
      "source": [
        "# Plot of Model Training Data"
      ]
    },
    {
      "cell_type": "code",
      "metadata": {
        "id": "UEWqUu3TPgGV"
      },
      "source": [
        "# function that plots the val loss and val accuracy\n",
        "def summarizeLossAccuracy(history):\n",
        "  # list the names of the keys\n",
        "  print(history.keys())\n",
        "\n",
        "  # plot the accuracy and val accuracy\n",
        "  plt.plot(history['accuracy'])\n",
        "  plt.plot(history['val_accuracy'])\n",
        "  plt.title('model accuracy')\n",
        "  plt.ylabel('accuracy')\n",
        "  plt.xlabel('epoch')\n",
        "  plt.legend(['train', 'test'], loc='upper left')\n",
        "  plt.show()\n",
        "\n",
        "  # summarize history for loss\n",
        "  plt.plot(history['loss'])\n",
        "  plt.plot(history['val_loss'])\n",
        "  plt.title('model loss')\n",
        "  plt.ylabel('loss')\n",
        "  plt.xlabel('epoch')\n",
        "  plt.legend(['train', 'test'], loc='upper left')\n",
        "  plt.show()"
      ],
      "execution_count": null,
      "outputs": []
    },
    {
      "cell_type": "code",
      "metadata": {
        "colab": {
          "base_uri": "https://localhost:8080/",
          "height": 588
        },
        "id": "Kd4qypCBQJTc",
        "outputId": "ddee6912-2adb-4da7-cdd9-edf58bd9d1cb"
      },
      "source": [
        "# summarize val loss and accuracy for InceptionV3\n",
        "summarizeLossAccuracy(history_inception)"
      ],
      "execution_count": null,
      "outputs": [
        {
          "output_type": "stream",
          "text": [
            "dict_keys(['loss', 'accuracy', 'val_loss', 'val_accuracy', 'lr'])\n"
          ],
          "name": "stdout"
        },
        {
          "output_type": "display_data",
          "data": {
            "image/png": "[encoded data removed]",
            "text/plain": [
              "<Figure size 432x288 with 1 Axes>"
            ]
          },
          "metadata": {
            "tags": [],
            "needs_background": "light"
          }
        },
        {
          "output_type": "display_data",
          "data": {
            "image/png": "[encoded data removed]",
            "text/plain": [
              "<Figure size 432x288 with 1 Axes>"
            ]
          },
          "metadata": {
            "tags": [],
            "needs_background": "light"
          }
        }
      ]
    },
    {
      "cell_type": "code",
      "metadata": {
        "colab": {
          "base_uri": "https://localhost:8080/",
          "height": 588
        },
        "id": "MusUFDbmQRhc",
        "outputId": "8d7afa38-4f13-4764-ecc5-ebc266127a84"
      },
      "source": [
        "# summarize val loss and accuracy for ResNet\n",
        "summarizeLossAccuracy(history_resnet)"
      ],
      "execution_count": null,
      "outputs": [
        {
          "output_type": "stream",
          "text": [
            "dict_keys(['loss', 'accuracy', 'val_loss', 'val_accuracy', 'lr'])\n"
          ],
          "name": "stdout"
        },
        {
          "output_type": "display_data",
          "data": {
            "image/png": "[encoded data removed]",
            "text/plain": [
              "<Figure size 432x288 with 1 Axes>"
            ]
          },
          "metadata": {
            "tags": [],
            "needs_background": "light"
          }
        },
        {
          "output_type": "display_data",
          "data": {
            "image/png": "[encoded data removed]",
            "text/plain": [
              "<Figure size 432x288 with 1 Axes>"
            ]
          },
          "metadata": {
            "tags": [],
            "needs_background": "light"
          }
        }
      ]
    },
    {
      "cell_type": "code",
      "metadata": {
        "colab": {
          "base_uri": "https://localhost:8080/",
          "height": 588
        },
        "id": "E3vTEWLYQYzT",
        "outputId": "bbf2e5e1-ff02-49e5-d126-5737d5e7ed4c"
      },
      "source": [
        "# summarize val loss and accuracy for flipped\n",
        "summarizeLossAccuracy(history_flipped)"
      ],
      "execution_count": null,
      "outputs": [
        {
          "output_type": "stream",
          "text": [
            "dict_keys(['loss', 'accuracy', 'precision', 'val_loss', 'val_accuracy', 'val_precision'])\n"
          ],
          "name": "stdout"
        },
        {
          "output_type": "display_data",
          "data": {
            "image/png": "[encoded data removed]",
            "text/plain": [
              "<Figure size 432x288 with 1 Axes>"
            ]
          },
          "metadata": {
            "tags": [],
            "needs_background": "light"
          }
        },
        {
          "output_type": "display_data",
          "data": {
            "image/png": "[encoded data removed]",
            "text/plain": [
              "<Figure size 432x288 with 1 Axes>"
            ]
          },
          "metadata": {
            "tags": [],
            "needs_background": "light"
          }
        }
      ]
    },
    {
      "cell_type": "code",
      "metadata": {
        "colab": {
          "base_uri": "https://localhost:8080/",
          "height": 588
        },
        "id": "fSskQo51Qe1I",
        "outputId": "c343139d-814e-4054-8d5c-6ca643354b3f"
      },
      "source": [
        "# summarize val loss and accuracy for noise\n",
        "summarizeLossAccuracy(history_noise)"
      ],
      "execution_count": null,
      "outputs": [
        {
          "output_type": "stream",
          "text": [
            "dict_keys(['loss', 'accuracy', 'precision', 'val_loss', 'val_accuracy', 'val_precision'])\n"
          ],
          "name": "stdout"
        },
        {
          "output_type": "display_data",
          "data": {
            "image/png": "[encoded data removed]",
            "text/plain": [
              "<Figure size 432x288 with 1 Axes>"
            ]
          },
          "metadata": {
            "tags": [],
            "needs_background": "light"
          }
        },
        {
          "output_type": "display_data",
          "data": {
            "image/png": "[encoded data removed]",
            "text/plain": [
              "<Figure size 432x288 with 1 Axes>"
            ]
          },
          "metadata": {
            "tags": [],
            "needs_background": "light"
          }
        }
      ]
    },
    {
      "cell_type": "code",
      "metadata": {
        "colab": {
          "base_uri": "https://localhost:8080/",
          "height": 588
        },
        "id": "xxPvN5_lQnc_",
        "outputId": "2475f0bd-d3ee-48e0-c663-59b7e86cfa5a"
      },
      "source": [
        "# summarize val loss and accuracy for blur\n",
        "summarizeLossAccuracy(history_blur)"
      ],
      "execution_count": null,
      "outputs": [
        {
          "output_type": "stream",
          "text": [
            "dict_keys(['loss', 'accuracy', 'precision', 'val_loss', 'val_accuracy', 'val_precision'])\n"
          ],
          "name": "stdout"
        },
        {
          "output_type": "display_data",
          "data": {
            "image/png": "[encoded data removed]",
            "text/plain": [
              "<Figure size 432x288 with 1 Axes>"
            ]
          },
          "metadata": {
            "tags": [],
            "needs_background": "light"
          }
        },
        {
          "output_type": "display_data",
          "data": {
            "image/png": "[encoded data removed]",
            "text/plain": [
              "<Figure size 432x288 with 1 Axes>"
            ]
          },
          "metadata": {
            "tags": [],
            "needs_background": "light"
          }
        }
      ]
    },
    {
      "cell_type": "markdown",
      "metadata": {
        "id": "oLGXqMAGjC7m"
      },
      "source": [
        "# Error Bars for Retrain Data"
      ]
    },
    {
      "cell_type": "markdown",
      "metadata": {
        "id": "wvrbgd56jYi3"
      },
      "source": [
        "## Load Models\n"
      ]
    },
    {
      "cell_type": "code",
      "metadata": {
        "id": "klqGxywAjK2X"
      },
      "source": [
        "model_inception = tf.keras.models.load_model('./retrain_inception_resnet/inception')\n",
        "model_resnet    = tf.keras.models.load_model('./retrain_inception_resnet/resnet')\n",
        "\n",
        "model_retrain_5     = tf.keras.models.load_model('./retrain_imbalance/5.hdf5')\n",
        "model_retrain_flip  = tf.keras.models.load_model('./retrain_imbalance/flip')\n",
        "model_retrain_noise = tf.keras.models.load_model('./retrain_imbalance/noise')\n",
        "model_retrain_blur  = tf.keras.models.load_model('./retrain_imbalance/blur')"
      ],
      "execution_count": null,
      "outputs": []
    },
    {
      "cell_type": "markdown",
      "metadata": {
        "id": "TPoesQ3Vjd2a"
      },
      "source": [
        "## Load Histories"
      ]
    },
    {
      "cell_type": "code",
      "metadata": {
        "id": "e9-vLkAWjdav"
      },
      "source": [
        "import pickle\n",
        "\n",
        "history_inception = pickle.load(open('./retrain_inception_resnet/inception_history', \"rb\"))\n",
        "resnet_inception  = pickle.load(open('./retrain_inception_resnet/resnet_history', \"rb\"))\n",
        "\n",
        "history_5 = pickle.load(open('./retrain_imbalance/5_history', \"rb\"))\n",
        "history_flip = pickle.load(open('./retrain_imbalance/flip_history', \"rb\"))\n",
        "history_noise = pickle.load(open('./retrain_imbalance/noise_history', \"rb\"))\n",
        "history_blur = pickle.load(open('./retrain_imbalance/blur_history', \"rb\"))"
      ],
      "execution_count": null,
      "outputs": []
    },
    {
      "cell_type": "markdown",
      "metadata": {
        "id": "rXPyZX_LjkSy"
      },
      "source": [
        "## Predict and Evaluate from Models"
      ]
    },
    {
      "cell_type": "code",
      "metadata": {
        "id": "9OC-8vKTq0wP"
      },
      "source": [
        "def getAccuracyErrors(predict, acc):\n",
        "  # number of samples\n",
        "  n = predict.shape[0]\n",
        "\n",
        "  # assuming 95% confidence interval\n",
        "  Z = 1.96\n",
        "\n",
        "  radius = Z * np.sqrt((acc * (1 - acc)) / n)\n",
        "  lower = acc - radius\n",
        "  upper = acc + radius\n",
        "\n",
        "  return radius, lower, upper"
      ],
      "execution_count": null,
      "outputs": []
    },
    {
      "cell_type": "code",
      "metadata": {
        "colab": {
          "base_uri": "https://localhost:8080/"
        },
        "id": "4unsZRNBjoc7",
        "outputId": "18cf309f-794e-496b-8584-a3126e7a9384"
      },
      "source": [
        "# predict from the default model\n",
        "pred_5 = model_retrain_5.predict(test_data)\n",
        "\n",
        "eval_5 = model_retrain_5.evaluate(test_data)"
      ],
      "execution_count": null,
      "outputs": [
        {
          "output_type": "stream",
          "text": [
            "117/117 [==============================] - 8s 66ms/step - loss: 2.8559 - accuracy: 0.3605 - precision: 0.7358\n"
          ],
          "name": "stdout"
        }
      ]
    },
    {
      "cell_type": "code",
      "metadata": {
        "colab": {
          "base_uri": "https://localhost:8080/"
        },
        "id": "_4MBQ1hdpdMU",
        "outputId": "b87287e3-5c8f-477e-dfd4-9e2c576713bd"
      },
      "source": [
        "# obtain the model loss, accuracy, and precision\n",
        "print(eval_5)\n",
        "\n",
        "loss_5 = eval_5[0]\n",
        "accuracy_5 = eval_5[1]\n",
        "precision_5 = eval_5[2]"
      ],
      "execution_count": null,
      "outputs": [
        {
          "output_type": "stream",
          "text": [
            "[2.855910062789917, 0.36047133803367615, 0.7358490824699402]\n"
          ],
          "name": "stdout"
        }
      ]
    },
    {
      "cell_type": "code",
      "metadata": {
        "colab": {
          "base_uri": "https://localhost:8080/"
        },
        "id": "Cs0c0JW2r5vk",
        "outputId": "1a035f65-90cd-4063-df3b-e2b86bd9effe"
      },
      "source": [
        "radius_5, lower_5, upper_5 = getAccuracyErrors(pred_5, accuracy_5)\n",
        "\n",
        "print('radius: ', radius_5)\n",
        "print('lower bound: ', lower_5)\n",
        "print('upper bounds: ', upper_5)"
      ],
      "execution_count": null,
      "outputs": [
        {
          "output_type": "stream",
          "text": [
            "radius:  0.02177956935596049\n",
            "lower bound:  0.33869176867771567\n",
            "upper bounds:  0.38225090738963663\n"
          ],
          "name": "stdout"
        }
      ]
    },
    {
      "cell_type": "code",
      "metadata": {
        "colab": {
          "base_uri": "https://localhost:8080/"
        },
        "id": "kf6C6Pj7j8sp",
        "outputId": "224b57cc-d368-4baf-b522-c3dcd9ce7d57"
      },
      "source": [
        "pred_retrain_flip = model_retrain_flip.predict(test_data)\n",
        "\n",
        "eval_retrain_flip = model_retrain_flip.evaluate(test_data)"
      ],
      "execution_count": null,
      "outputs": [
        {
          "output_type": "stream",
          "text": [
            "117/117 [==============================] - 8s 65ms/step - loss: 4.0951 - accuracy: 0.3771 - precision: 0.6333\n"
          ],
          "name": "stdout"
        }
      ]
    },
    {
      "cell_type": "code",
      "metadata": {
        "colab": {
          "base_uri": "https://localhost:8080/"
        },
        "id": "2LJ0mkscpmCD",
        "outputId": "cb0b48a9-c7b4-4329-c2d8-5afa8d2f2413"
      },
      "source": [
        "# obtain the model loss, accuracy, and precision\n",
        "print(eval_retrain_flip)\n",
        "\n",
        "loss_retrain_flip = eval_retrain_flip[0]\n",
        "accuracy_retrain_flip = eval_retrain_flip[1]\n",
        "precision_retrain_flip = eval_retrain_flip[2]"
      ],
      "execution_count": null,
      "outputs": [
        {
          "output_type": "stream",
          "text": [
            "[4.095114231109619, 0.37707552313804626, 0.6333333253860474]\n"
          ],
          "name": "stdout"
        }
      ]
    },
    {
      "cell_type": "code",
      "metadata": {
        "colab": {
          "base_uri": "https://localhost:8080/"
        },
        "id": "pzhp0n9qrxhD",
        "outputId": "9075f3d5-ba68-4fdc-abfd-53c18deb9901"
      },
      "source": [
        "radius_retrain_flip, lower_retrain_flip, upper_retrain_flip = getAccuracyErrors(pred_retrain_flip, accuracy_retrain_flip)\n",
        "\n",
        "print('radius: ', radius_retrain_flip)\n",
        "print('lower bound: ', lower_retrain_flip)\n",
        "print('upper bounds: ', upper_retrain_flip)"
      ],
      "execution_count": null,
      "outputs": [
        {
          "output_type": "stream",
          "text": [
            "radius:  0.021984458935883536\n",
            "lower bound:  0.35509106420216274\n",
            "upper bounds:  0.3990599820739298\n"
          ],
          "name": "stdout"
        }
      ]
    },
    {
      "cell_type": "code",
      "metadata": {
        "colab": {
          "base_uri": "https://localhost:8080/"
        },
        "id": "NGLETM2Fj9Rh",
        "outputId": "5feeac71-0480-448d-efde-e41993869634"
      },
      "source": [
        "pred_retrain_noise = model_retrain_noise.predict(test_data)\n",
        "\n",
        "eval_retrain_noise = model_retrain_noise.evaluate(test_data)"
      ],
      "execution_count": null,
      "outputs": [
        {
          "output_type": "stream",
          "text": [
            "117/117 [==============================] - 8s 65ms/step - loss: 4.7992 - accuracy: 0.3931 - precision: 0.6483\n"
          ],
          "name": "stdout"
        }
      ]
    },
    {
      "cell_type": "code",
      "metadata": {
        "colab": {
          "base_uri": "https://localhost:8080/"
        },
        "id": "kgb3UeTMpo1d",
        "outputId": "04429ee2-0097-43e2-84cd-858c754e74b3"
      },
      "source": [
        "# obtain the model loss, accuracy, and precision\n",
        "print(eval_retrain_noise)\n",
        "\n",
        "loss_retrain_noise = eval_retrain_noise[0]\n",
        "accuracy_retrain_noise = eval_retrain_noise[1]\n",
        "precision_retrain_noise = eval_retrain_noise[2]"
      ],
      "execution_count": null,
      "outputs": [
        {
          "output_type": "stream",
          "text": [
            "[4.799220085144043, 0.39314407110214233, 0.6482758522033691]\n"
          ],
          "name": "stdout"
        }
      ]
    },
    {
      "cell_type": "code",
      "metadata": {
        "colab": {
          "base_uri": "https://localhost:8080/"
        },
        "id": "bJ4o6WHos5ly",
        "outputId": "293cf687-aa31-4689-e1b0-d5dd8b7ff13d"
      },
      "source": [
        "radius_retrain_noise, lower_retrain_noise, upper_retrain_noise = getAccuracyErrors(pred_retrain_noise, accuracy_retrain_noise)\n",
        "\n",
        "print('radius: ', radius_retrain_noise)\n",
        "print('lower bound: ', lower_retrain_noise)\n",
        "print('upper bounds: ', upper_retrain_noise)"
      ],
      "execution_count": null,
      "outputs": [
        {
          "output_type": "stream",
          "text": [
            "radius:  0.022156572450724138\n",
            "lower bound:  0.3709874986514182\n",
            "upper bounds:  0.41530064355286644\n"
          ],
          "name": "stdout"
        }
      ]
    },
    {
      "cell_type": "code",
      "metadata": {
        "colab": {
          "base_uri": "https://localhost:8080/"
        },
        "id": "qvtKvqMuj9tJ",
        "outputId": "e4f5e2db-6fdb-4472-9dec-508fe19b8b5c"
      },
      "source": [
        "pred_retrain_blur = model_retrain_blur.predict(test_data)\n",
        "\n",
        "eval_retrain_blur = model_retrain_blur.evaluate(test_data)"
      ],
      "execution_count": null,
      "outputs": [
        {
          "output_type": "stream",
          "text": [
            "117/117 [==============================] - 8s 64ms/step - loss: 7.6598 - accuracy: 0.3878 - precision: 0.6319\n"
          ],
          "name": "stdout"
        }
      ]
    },
    {
      "cell_type": "code",
      "metadata": {
        "colab": {
          "base_uri": "https://localhost:8080/"
        },
        "id": "KvR1Iodbprku",
        "outputId": "5ceb0cc5-4ef2-4225-a06d-094a92ebaceb"
      },
      "source": [
        "# obtain the model loss, accuracy, and precision\n",
        "print(eval_retrain_blur)\n",
        "\n",
        "loss_retrain_blur = eval_retrain_blur[0]\n",
        "accuracy_retrain_blur = eval_retrain_blur[1]\n",
        "precision_retrain_blur = eval_retrain_blur[2]"
      ],
      "execution_count": null,
      "outputs": [
        {
          "output_type": "stream",
          "text": [
            "[7.659763813018799, 0.38778790831565857, 0.6319444179534912]\n"
          ],
          "name": "stdout"
        }
      ]
    },
    {
      "cell_type": "code",
      "metadata": {
        "colab": {
          "base_uri": "https://localhost:8080/"
        },
        "id": "2B-q07c7tImQ",
        "outputId": "eccf7ae7-41d2-4d53-c109-3a8f81de0570"
      },
      "source": [
        "radius_retrain_blur, lower_retrain_blur, upper_retrain_blur = getAccuracyErrors(pred_retrain_blur, accuracy_retrain_blur)\n",
        "\n",
        "print('radius: ', radius_retrain_blur)\n",
        "print('lower bound: ', lower_retrain_blur)\n",
        "print('upper bounds: ', upper_retrain_blur)"
      ],
      "execution_count": null,
      "outputs": [
        {
          "output_type": "stream",
          "text": [
            "radius:  0.022102021419511522\n",
            "lower bound:  0.36568588689614706\n",
            "upper bounds:  0.4098899297351701\n"
          ],
          "name": "stdout"
        }
      ]
    },
    {
      "cell_type": "code",
      "metadata": {
        "id": "NI53PoFsmGbm"
      },
      "source": [
        "def confIntervalBarChart(bars, yer, labels):\n",
        "  barWidth = 0.3\n",
        "\n",
        "  # x position of the bars\n",
        "  r1 = np.arange(len(bars))\n",
        "  r2 = [x + barWidth for x in r1]\n",
        "\n",
        "  # create blur bars\n",
        "  plt.bar(r1, bars, width=barWidth, color='cyan', edgecolor='black', yerr=yer, capsize=7)\n",
        "\n",
        "  # general layout\n",
        "  plt.xticks([r + barWidth for r in range(len(bars))], labels)\n",
        "  plt.ylabel('accuracy')\n",
        "\n",
        "  # Show graphic\n",
        "  plt.show()"
      ],
      "execution_count": null,
      "outputs": []
    },
    {
      "cell_type": "code",
      "metadata": {
        "colab": {
          "base_uri": "https://localhost:8080/",
          "height": 265
        },
        "id": "hp9aaEUTmSra",
        "outputId": "25925109-af04-42ff-8357-8a9b1646e62f"
      },
      "source": [
        "allBars = [\n",
        "           accuracy_5,\n",
        "           accuracy_retrain_flip,\n",
        "           accuracy_retrain_noise,\n",
        "           accuracy_retrain_blur\n",
        "           ]\n",
        "\n",
        "allYers = [\n",
        "           radius_5,\n",
        "           radius_retrain_flip,\n",
        "           radius_retrain_noise,\n",
        "           radius_retrain_blur\n",
        "           ]\n",
        "\n",
        "allLabels = ['No Augmentation', 'Flip', 'Noise', 'Blur']\n",
        "\n",
        "# display confidence intervals for all 5 models at once\n",
        "confIntervalBarChart(allBars, allYers, allLabels)"
      ],
      "execution_count": null,
      "outputs": [
        {
          "output_type": "display_data",
          "data": {
            "image/png": "[encoded data removed]",
            "text/plain": [
              "<Figure size 432x288 with 1 Axes>"
            ]
          },
          "metadata": {
            "tags": [],
            "needs_background": "light"
          }
        }
      ]
    },
    {
      "cell_type": "code",
      "metadata": {
        "colab": {
          "base_uri": "https://localhost:8080/",
          "height": 267
        },
        "id": "ZRiookYO5rX0",
        "outputId": "ea093d95-bcb1-403d-d9b1-048e66a9432b"
      },
      "source": [
        "allBars2 = [\n",
        "           0.6529,\n",
        "           0.6535,\n",
        "           0.3996,\n",
        "           0.3519,\n",
        "           0.3621\n",
        "           ]\n",
        "\n",
        "allYers2 = [\n",
        "           0.02159,\n",
        "           0.02158,\n",
        "           0.02219,\n",
        "           0.02176,\n",
        "           0.02163\n",
        "           ]\n",
        "\n",
        "allLabels2 = ['InceptionV3', 'ResNet', 'Flip', 'Noise', 'Blur']\n",
        "\n",
        "# display confidence intervals for all 5 models at once\n",
        "confIntervalBarChart(allBars2, allYers2, allLabels2)"
      ],
      "execution_count": null,
      "outputs": [
        {
          "output_type": "display_data",
          "data": {
            "image/png": "[encoded data removed]",
            "text/plain": [
              "<Figure size 432x288 with 1 Axes>"
            ]
          },
          "metadata": {
            "tags": [],
            "needs_background": "light"
          }
        }
      ]
    }
  ]
}